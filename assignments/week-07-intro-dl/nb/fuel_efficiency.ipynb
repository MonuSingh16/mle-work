{
 "cells": [
  {
   "cell_type": "markdown",
   "metadata": {
    "id": "2TPf8CY_Xumr"
   },
   "source": [
    "<p align = \"center\" draggable=”false” ><img src=\"https://user-images.githubusercontent.com/37101144/161836199-fdb0219d-0361-4988-bf26-48b0fad160a3.png\" \n",
    "     width=\"200px\"\n",
    "     height=\"auto\"/>\n",
    "</p>"
   ]
  },
  {
   "cell_type": "markdown",
   "metadata": {
    "id": "92kCWnfbXumv"
   },
   "source": [
    "# ⛽ Fuel efficiency Prediction"
   ]
  },
  {
   "cell_type": "markdown",
   "metadata": {
    "id": "AHp3M9ZmrIxj"
   },
   "source": [
    "Provided with the classic [Auto MPG](https://archive.ics.uci.edu/ml/datasets/auto+mpg) dataset, we will predict the **fuel efficiency** of the late-1970s and early 1980s automobiles, leveraging features such as cylinders, displacement, horsepower, weight, etc. \n",
    "\n",
    "It is a very small dataset and there are only a few features. We will first build a linear model and a neural network, evaluate their performances, track our experiment runs and inspect the logs using MLflow, and apply [TPOT](https://github.com/EpistasisLab/tpot) to see how it can be used to search over many ML model architectures, followed by explaining the model with SHAP."
   ]
  },
  {
   "cell_type": "markdown",
   "metadata": {
    "id": "PxVwvxwii96J"
   },
   "source": [
    "# 📚 Learning Objectives"
   ]
  },
  {
   "cell_type": "markdown",
   "metadata": {
    "id": "9YCC4uUnXumw"
   },
   "source": [
    "By the end of this session, you will be able to\n",
    "\n",
    "- understand the core building blocks of a neural network\n",
    "- understand what dense and activation layers do\n",
    "- build, train, and evaluate neural networks\n",
    "- track tensorflow experiments with MLflow, access information of runs programmatically and with its tracking ui\n",
    "- perform AutoML to search for optimal tree-based pipeline for a regression task "
   ]
  },
  {
   "cell_type": "markdown",
   "metadata": {
    "id": "P7PFU9Oza7-O"
   },
   "source": [
    "Note: [State of Data Science and Machine Learning 2021](https://www.kaggle.com/kaggle-survey-2021) by Kaggle shows that the most commonly used algorithms were linear and logtistic regressions, followed closely by decision trees, random forests, and gradient boosting machines (are you surprised?). Multilayer perceptron, or artificial neural networks are not yet the popular tools for tabular/structured data; see more technical reasons in papers: [Deep Neural Networks and Tabular Data: A Survey](https://arxiv.org/abs/2110.01889), [Tabular Data: Deep Learning is Not All You Need](https://arxiv.org/abs/2106.03253). For this assignment, the main purpose is for you to get familiar with the basic building blocks in constructing neural networks before we dive into more specialized neural network architectures.\n"
   ]
  },
  {
   "cell_type": "markdown",
   "metadata": {
    "id": "5n584Aq-tmV4"
   },
   "source": [
    "**IMPORTANT**\n",
    "\n",
    "You only need to run the following cells if you're completing the assignment in Google Collab. If you've already installed these libraries locally, you can skip installing these libraries."
   ]
  },
  {
   "cell_type": "code",
   "execution_count": null,
   "metadata": {
    "colab": {
     "base_uri": "https://localhost:8080/"
    },
    "executionInfo": {
     "elapsed": 21159,
     "status": "ok",
     "timestamp": 1663627815324,
     "user": {
      "displayName": "FLORA XU",
      "userId": "14641465521399406540"
     },
     "user_tz": 420
    },
    "id": "cjvDr0LBtmV4",
    "outputId": "13b98562-2ff5-4719-d507-22654dbd6b32"
   },
   "outputs": [],
   "source": [
    "# Connect colab to your Google Drive\n",
    "from google.colab import drive\n",
    "drive.mount('/content/drive')"
   ]
  },
  {
   "cell_type": "code",
   "execution_count": 6,
   "metadata": {
    "colab": {
     "base_uri": "https://localhost:8080/"
    },
    "executionInfo": {
     "elapsed": 67678,
     "status": "ok",
     "timestamp": 1663627882995,
     "user": {
      "displayName": "FLORA XU",
      "userId": "14641465521399406540"
     },
     "user_tz": 420
    },
    "id": "moB4tpEHxKB3",
    "outputId": "be99ef21-e3ac-40a0-b9e9-6f0fe4b3e8ec"
   },
   "outputs": [
    {
     "name": "stdout",
     "output_type": "stream",
     "text": [
      "\u001b[31mERROR: Could not find a version that satisfies the requirement tensorflow (from versions: none)\u001b[0m\u001b[31m\n",
      "\u001b[0m\u001b[31mERROR: No matching distribution found for tensorflow\u001b[0m\u001b[31m\n",
      "\u001b[0m"
     ]
    }
   ],
   "source": [
    "!pip install -q seaborn # pairplot\n",
    "!pip install -q tpot  # automl\n",
    "\n",
    "!pip install -q mlflow # tracking\n",
    "!pip install -q pyngrok # workaround to run mlflow ui in colab\n",
    "!pip install -q shap\n",
    "!pip install -q tensorflow"
   ]
  },
  {
   "cell_type": "code",
   "execution_count": 1,
   "metadata": {
    "executionInfo": {
     "elapsed": 971,
     "status": "ok",
     "timestamp": 1663627883959,
     "user": {
      "displayName": "FLORA XU",
      "userId": "14641465521399406540"
     },
     "user_tz": 420
    },
    "id": "1rRo8oNqZ-Rj"
   },
   "outputs": [],
   "source": [
    "import numpy as np\n",
    "import pandas as pd\n",
    "import matplotlib.pyplot as plt\n",
    "import seaborn as sns\n",
    "\n",
    "# Make NumPy printouts easier to read.\n",
    "np.set_printoptions(precision=3, suppress=True)"
   ]
  },
  {
   "cell_type": "code",
   "execution_count": 3,
   "metadata": {
    "colab": {
     "base_uri": "https://localhost:8080/"
    },
    "executionInfo": {
     "elapsed": 3600,
     "status": "ok",
     "timestamp": 1663627887556,
     "user": {
      "displayName": "FLORA XU",
      "userId": "14641465521399406540"
     },
     "user_tz": 420
    },
    "id": "9xQKvCJ85kCQ",
    "outputId": "f9b62362-699a-4ed6-c340-e74d1460f540"
   },
   "outputs": [
    {
     "name": "stdout",
     "output_type": "stream",
     "text": [
      "2.11.0\n"
     ]
    }
   ],
   "source": [
    "import tensorflow as tf\n",
    "from tensorflow.keras import layers\n",
    "\n",
    "print(tf.__version__)"
   ]
  },
  {
   "cell_type": "markdown",
   "metadata": {
    "id": "EIdT9iu_Z4Rb"
   },
   "source": [
    "# Task 1 - Data: Auto MPG dataset"
   ]
  },
  {
   "cell_type": "markdown",
   "metadata": {
    "id": "HvK47Su6t0I8"
   },
   "source": [
    "0. Start MLflow's automatic logging using library-specific autolog calls for tensorflow: logging metrics, parameters, and models without the need for explicit log statements. \n",
    "    \n",
    "    We will get into more details using **MLflow** after completing our experiment."
   ]
  },
  {
   "cell_type": "code",
   "execution_count": 4,
   "metadata": {
    "executionInfo": {
     "elapsed": 1153,
     "status": "ok",
     "timestamp": 1663627888705,
     "user": {
      "displayName": "FLORA XU",
      "userId": "14641465521399406540"
     },
     "user_tz": 420
    },
    "id": "6PGEnlTVlFDK"
   },
   "outputs": [],
   "source": [
    "import mlflow\n",
    "mlflow.tensorflow.autolog() # MLflow Autologging"
   ]
  },
  {
   "cell_type": "markdown",
   "metadata": {
    "id": "F_72b0LCNbjx"
   },
   "source": [
    "1. The dataset is available from the [UCI Machine Learning Repository](https://archive.ics.uci.edu/ml/). First download and import the dataset using `pandas`:\n"
   ]
  },
  {
   "cell_type": "code",
   "execution_count": 22,
   "metadata": {
    "executionInfo": {
     "elapsed": 266,
     "status": "ok",
     "timestamp": 1663627888968,
     "user": {
      "displayName": "FLORA XU",
      "userId": "14641465521399406540"
     },
     "user_tz": 420
    },
    "id": "CiX2FI4gZtTt"
   },
   "outputs": [],
   "source": [
    "url = 'http://archive.ics.uci.edu/ml/machine-learning-databases/auto-mpg/auto-mpg.data'\n",
    "column_names = [\n",
    "  'MPG', 'Cylinders', 'Displacement', 'Horsepower', 'Weight',\n",
    "  'Acceleration', 'Model Year', 'Origin'\n",
    "  ]\n",
    "\n",
    "dataset = pd.read_csv(url, names=column_names, na_values='?', \n",
    "                      comment='\\t', sep=' ', skipinitialspace=True)"
   ]
  },
  {
   "cell_type": "code",
   "execution_count": 23,
   "metadata": {
    "colab": {
     "base_uri": "https://localhost:8080/",
     "height": 201
    },
    "executionInfo": {
     "elapsed": 10,
     "status": "ok",
     "timestamp": 1663627888968,
     "user": {
      "displayName": "FLORA XU",
      "userId": "14641465521399406540"
     },
     "user_tz": 420
    },
    "id": "2oY3pMPagJrO",
    "outputId": "93d14a46-35c0-4f28-d549-ebe1e837c86e"
   },
   "outputs": [
    {
     "data": {
      "text/html": [
       "<div>\n",
       "<style scoped>\n",
       "    .dataframe tbody tr th:only-of-type {\n",
       "        vertical-align: middle;\n",
       "    }\n",
       "\n",
       "    .dataframe tbody tr th {\n",
       "        vertical-align: top;\n",
       "    }\n",
       "\n",
       "    .dataframe thead th {\n",
       "        text-align: right;\n",
       "    }\n",
       "</style>\n",
       "<table border=\"1\" class=\"dataframe\">\n",
       "  <thead>\n",
       "    <tr style=\"text-align: right;\">\n",
       "      <th></th>\n",
       "      <th>MPG</th>\n",
       "      <th>Cylinders</th>\n",
       "      <th>Displacement</th>\n",
       "      <th>Horsepower</th>\n",
       "      <th>Weight</th>\n",
       "      <th>Acceleration</th>\n",
       "      <th>Model Year</th>\n",
       "      <th>Origin</th>\n",
       "    </tr>\n",
       "  </thead>\n",
       "  <tbody>\n",
       "    <tr>\n",
       "      <th>393</th>\n",
       "      <td>27.0</td>\n",
       "      <td>4</td>\n",
       "      <td>140.0</td>\n",
       "      <td>86.0</td>\n",
       "      <td>2790.0</td>\n",
       "      <td>15.6</td>\n",
       "      <td>82</td>\n",
       "      <td>1</td>\n",
       "    </tr>\n",
       "    <tr>\n",
       "      <th>394</th>\n",
       "      <td>44.0</td>\n",
       "      <td>4</td>\n",
       "      <td>97.0</td>\n",
       "      <td>52.0</td>\n",
       "      <td>2130.0</td>\n",
       "      <td>24.6</td>\n",
       "      <td>82</td>\n",
       "      <td>2</td>\n",
       "    </tr>\n",
       "    <tr>\n",
       "      <th>395</th>\n",
       "      <td>32.0</td>\n",
       "      <td>4</td>\n",
       "      <td>135.0</td>\n",
       "      <td>84.0</td>\n",
       "      <td>2295.0</td>\n",
       "      <td>11.6</td>\n",
       "      <td>82</td>\n",
       "      <td>1</td>\n",
       "    </tr>\n",
       "    <tr>\n",
       "      <th>396</th>\n",
       "      <td>28.0</td>\n",
       "      <td>4</td>\n",
       "      <td>120.0</td>\n",
       "      <td>79.0</td>\n",
       "      <td>2625.0</td>\n",
       "      <td>18.6</td>\n",
       "      <td>82</td>\n",
       "      <td>1</td>\n",
       "    </tr>\n",
       "    <tr>\n",
       "      <th>397</th>\n",
       "      <td>31.0</td>\n",
       "      <td>4</td>\n",
       "      <td>119.0</td>\n",
       "      <td>82.0</td>\n",
       "      <td>2720.0</td>\n",
       "      <td>19.4</td>\n",
       "      <td>82</td>\n",
       "      <td>1</td>\n",
       "    </tr>\n",
       "  </tbody>\n",
       "</table>\n",
       "</div>"
      ],
      "text/plain": [
       "      MPG  Cylinders  Displacement  Horsepower  Weight  Acceleration  \\\n",
       "393  27.0          4         140.0        86.0  2790.0          15.6   \n",
       "394  44.0          4          97.0        52.0  2130.0          24.6   \n",
       "395  32.0          4         135.0        84.0  2295.0          11.6   \n",
       "396  28.0          4         120.0        79.0  2625.0          18.6   \n",
       "397  31.0          4         119.0        82.0  2720.0          19.4   \n",
       "\n",
       "     Model Year  Origin  \n",
       "393          82       1  \n",
       "394          82       2  \n",
       "395          82       1  \n",
       "396          82       1  \n",
       "397          82       1  "
      ]
     },
     "execution_count": 23,
     "metadata": {},
     "output_type": "execute_result"
    }
   ],
   "source": [
    "dataset.tail()"
   ]
  },
  {
   "cell_type": "markdown",
   "metadata": {
    "id": "3MWuJTKEDM-f"
   },
   "source": [
    "2. The dataset contains a few unknown values, we drop those rows to keep this initial tutorial simple. Use `pd.DataFrame.dropna()`:"
   ]
  },
  {
   "cell_type": "code",
   "execution_count": 24,
   "metadata": {
    "executionInfo": {
     "elapsed": 7,
     "status": "ok",
     "timestamp": 1663627888968,
     "user": {
      "displayName": "FLORA XU",
      "userId": "14641465521399406540"
     },
     "user_tz": 420
    },
    "id": "4ZUDosChC1UN"
   },
   "outputs": [],
   "source": [
    "dataset = dataset.dropna() # YOUR CODE HERE"
   ]
  },
  {
   "cell_type": "markdown",
   "metadata": {
    "id": "8XKitwaH4v8h"
   },
   "source": [
    "3. The `\"Origin\"` column is categorical, not numeric. So the next step is to one-hot encode the values in the column with [pd.get_dummies](https://pandas.pydata.org/docs/reference/api/pandas.get_dummies.html)."
   ]
  },
  {
   "cell_type": "code",
   "execution_count": 25,
   "metadata": {
    "executionInfo": {
     "elapsed": 7,
     "status": "ok",
     "timestamp": 1663627888969,
     "user": {
      "displayName": "FLORA XU",
      "userId": "14641465521399406540"
     },
     "user_tz": 420
    },
    "id": "gWNTD2QjBWFJ"
   },
   "outputs": [],
   "source": [
    "dataset['Origin'] = dataset['Origin'].replace({1: 'USA', 2: 'Europe', 3: 'Japan'})"
   ]
  },
  {
   "cell_type": "code",
   "execution_count": 26,
   "metadata": {
    "colab": {
     "base_uri": "https://localhost:8080/",
     "height": 201
    },
    "executionInfo": {
     "elapsed": 160,
     "status": "ok",
     "timestamp": 1663627889122,
     "user": {
      "displayName": "FLORA XU",
      "userId": "14641465521399406540"
     },
     "user_tz": 420
    },
    "id": "ulXz4J7PAUzk",
    "outputId": "c4c71b71-99cc-4e23-fcc8-93117cc258d5"
   },
   "outputs": [
    {
     "data": {
      "text/html": [
       "<div>\n",
       "<style scoped>\n",
       "    .dataframe tbody tr th:only-of-type {\n",
       "        vertical-align: middle;\n",
       "    }\n",
       "\n",
       "    .dataframe tbody tr th {\n",
       "        vertical-align: top;\n",
       "    }\n",
       "\n",
       "    .dataframe thead th {\n",
       "        text-align: right;\n",
       "    }\n",
       "</style>\n",
       "<table border=\"1\" class=\"dataframe\">\n",
       "  <thead>\n",
       "    <tr style=\"text-align: right;\">\n",
       "      <th></th>\n",
       "      <th>MPG</th>\n",
       "      <th>Cylinders</th>\n",
       "      <th>Displacement</th>\n",
       "      <th>Horsepower</th>\n",
       "      <th>Weight</th>\n",
       "      <th>Acceleration</th>\n",
       "      <th>Model Year</th>\n",
       "      <th>Europe</th>\n",
       "      <th>Japan</th>\n",
       "      <th>USA</th>\n",
       "    </tr>\n",
       "  </thead>\n",
       "  <tbody>\n",
       "    <tr>\n",
       "      <th>393</th>\n",
       "      <td>27.0</td>\n",
       "      <td>4</td>\n",
       "      <td>140.0</td>\n",
       "      <td>86.0</td>\n",
       "      <td>2790.0</td>\n",
       "      <td>15.6</td>\n",
       "      <td>82</td>\n",
       "      <td>0</td>\n",
       "      <td>0</td>\n",
       "      <td>1</td>\n",
       "    </tr>\n",
       "    <tr>\n",
       "      <th>394</th>\n",
       "      <td>44.0</td>\n",
       "      <td>4</td>\n",
       "      <td>97.0</td>\n",
       "      <td>52.0</td>\n",
       "      <td>2130.0</td>\n",
       "      <td>24.6</td>\n",
       "      <td>82</td>\n",
       "      <td>1</td>\n",
       "      <td>0</td>\n",
       "      <td>0</td>\n",
       "    </tr>\n",
       "    <tr>\n",
       "      <th>395</th>\n",
       "      <td>32.0</td>\n",
       "      <td>4</td>\n",
       "      <td>135.0</td>\n",
       "      <td>84.0</td>\n",
       "      <td>2295.0</td>\n",
       "      <td>11.6</td>\n",
       "      <td>82</td>\n",
       "      <td>0</td>\n",
       "      <td>0</td>\n",
       "      <td>1</td>\n",
       "    </tr>\n",
       "    <tr>\n",
       "      <th>396</th>\n",
       "      <td>28.0</td>\n",
       "      <td>4</td>\n",
       "      <td>120.0</td>\n",
       "      <td>79.0</td>\n",
       "      <td>2625.0</td>\n",
       "      <td>18.6</td>\n",
       "      <td>82</td>\n",
       "      <td>0</td>\n",
       "      <td>0</td>\n",
       "      <td>1</td>\n",
       "    </tr>\n",
       "    <tr>\n",
       "      <th>397</th>\n",
       "      <td>31.0</td>\n",
       "      <td>4</td>\n",
       "      <td>119.0</td>\n",
       "      <td>82.0</td>\n",
       "      <td>2720.0</td>\n",
       "      <td>19.4</td>\n",
       "      <td>82</td>\n",
       "      <td>0</td>\n",
       "      <td>0</td>\n",
       "      <td>1</td>\n",
       "    </tr>\n",
       "  </tbody>\n",
       "</table>\n",
       "</div>"
      ],
      "text/plain": [
       "      MPG  Cylinders  Displacement  Horsepower  Weight  Acceleration  \\\n",
       "393  27.0          4         140.0        86.0  2790.0          15.6   \n",
       "394  44.0          4          97.0        52.0  2130.0          24.6   \n",
       "395  32.0          4         135.0        84.0  2295.0          11.6   \n",
       "396  28.0          4         120.0        79.0  2625.0          18.6   \n",
       "397  31.0          4         119.0        82.0  2720.0          19.4   \n",
       "\n",
       "     Model Year  Europe  Japan  USA  \n",
       "393          82       0      0    1  \n",
       "394          82       1      0    0  \n",
       "395          82       0      0    1  \n",
       "396          82       0      0    1  \n",
       "397          82       0      0    1  "
      ]
     },
     "execution_count": 26,
     "metadata": {},
     "output_type": "execute_result"
    }
   ],
   "source": [
    "dataset = pd.get_dummies(dataset, columns=['Origin'], prefix='', prefix_sep='')\n",
    "dataset.tail()"
   ]
  },
  {
   "cell_type": "markdown",
   "metadata": {
    "id": "Cuym4yvk76vU"
   },
   "source": [
    "4. Split the data into training and test sets. To reduce the module importing overhead, instead of `sklearn.model_selection.train_test_split()`, use `pd.DataFrame.sample()` to save 80% of the data aside to `train_dataset`, set the random state to be 0 for reproducibility. \n",
    "\n",
    "   Then use `pd.DataFrame.drop()` to obtain the `test_dataset`."
   ]
  },
  {
   "cell_type": "code",
   "execution_count": 27,
   "metadata": {
    "executionInfo": {
     "elapsed": 4,
     "status": "ok",
     "timestamp": 1663627889123,
     "user": {
      "displayName": "FLORA XU",
      "userId": "14641465521399406540"
     },
     "user_tz": 420
    },
    "id": "qn-IGhUE7_1H"
   },
   "outputs": [
    {
     "name": "stdout",
     "output_type": "stream",
     "text": [
      "(392, 10)\n",
      "(314, 10) (78, 10)\n"
     ]
    }
   ],
   "source": [
    "print(dataset.shape)\n",
    "train_dataset = dataset.sample(frac=0.8, random_state=0) # YOUR CODE HERE\n",
    "test_dataset = dataset.drop(train_dataset.index) # YOUR CODE HERE\n",
    "print(train_dataset.shape, test_dataset.shape)"
   ]
  },
  {
   "cell_type": "markdown",
   "metadata": {
    "id": "J4ubs136WLNp"
   },
   "source": [
    "5. Review the pairwise relationships of a few pairs of columns from the training set. \n",
    "   \n",
    "   The top row suggests that the fuel efficiency (MPG) is a function of all the other parameters. The other rows indicate they are functions of each other."
   ]
  },
  {
   "cell_type": "code",
   "execution_count": 29,
   "metadata": {
    "colab": {
     "base_uri": "https://localhost:8080/",
     "height": 725
    },
    "executionInfo": {
     "elapsed": 14333,
     "status": "ok",
     "timestamp": 1663627903453,
     "user": {
      "displayName": "FLORA XU",
      "userId": "14641465521399406540"
     },
     "user_tz": 420
    },
    "id": "oRKO_x8gWKv-",
    "outputId": "7d80fe75-069d-4a84-af1e-9a3350074962"
   },
   "outputs": [
    {
     "data": {
      "image/png": "[encoded data removed]",
      "text/plain": [
       "<Figure size 1000x1000 with 20 Axes>"
      ]
     },
     "metadata": {},
     "output_type": "display_data"
    }
   ],
   "source": [
    "%matplotlib inline\n",
    "sns.pairplot(train_dataset[['MPG', 'Cylinders', 'Displacement', 'Weight']], diag_kind='kde');"
   ]
  },
  {
   "cell_type": "markdown",
   "metadata": {
    "id": "gavKO_6DWRMP"
   },
   "source": [
    "Let's also check the overall statistics. Note how each feature covers a very different range:"
   ]
  },
  {
   "cell_type": "code",
   "execution_count": 30,
   "metadata": {
    "colab": {
     "base_uri": "https://localhost:8080/",
     "height": 352
    },
    "executionInfo": {
     "elapsed": 7,
     "status": "ok",
     "timestamp": 1663627903454,
     "user": {
      "displayName": "FLORA XU",
      "userId": "14641465521399406540"
     },
     "user_tz": 420
    },
    "id": "yi2FzC3T21jR",
    "outputId": "eef1e868-f536-40a3-8bc9-c1f046ccc074"
   },
   "outputs": [
    {
     "data": {
      "text/html": [
       "<div>\n",
       "<style scoped>\n",
       "    .dataframe tbody tr th:only-of-type {\n",
       "        vertical-align: middle;\n",
       "    }\n",
       "\n",
       "    .dataframe tbody tr th {\n",
       "        vertical-align: top;\n",
       "    }\n",
       "\n",
       "    .dataframe thead th {\n",
       "        text-align: right;\n",
       "    }\n",
       "</style>\n",
       "<table border=\"1\" class=\"dataframe\">\n",
       "  <thead>\n",
       "    <tr style=\"text-align: right;\">\n",
       "      <th></th>\n",
       "      <th>count</th>\n",
       "      <th>mean</th>\n",
       "      <th>std</th>\n",
       "      <th>min</th>\n",
       "      <th>25%</th>\n",
       "      <th>50%</th>\n",
       "      <th>75%</th>\n",
       "      <th>max</th>\n",
       "    </tr>\n",
       "  </thead>\n",
       "  <tbody>\n",
       "    <tr>\n",
       "      <th>MPG</th>\n",
       "      <td>314.0</td>\n",
       "      <td>23.310510</td>\n",
       "      <td>7.728652</td>\n",
       "      <td>10.0</td>\n",
       "      <td>17.00</td>\n",
       "      <td>22.0</td>\n",
       "      <td>28.95</td>\n",
       "      <td>46.6</td>\n",
       "    </tr>\n",
       "    <tr>\n",
       "      <th>Cylinders</th>\n",
       "      <td>314.0</td>\n",
       "      <td>5.477707</td>\n",
       "      <td>1.699788</td>\n",
       "      <td>3.0</td>\n",
       "      <td>4.00</td>\n",
       "      <td>4.0</td>\n",
       "      <td>8.00</td>\n",
       "      <td>8.0</td>\n",
       "    </tr>\n",
       "    <tr>\n",
       "      <th>Displacement</th>\n",
       "      <td>314.0</td>\n",
       "      <td>195.318471</td>\n",
       "      <td>104.331589</td>\n",
       "      <td>68.0</td>\n",
       "      <td>105.50</td>\n",
       "      <td>151.0</td>\n",
       "      <td>265.75</td>\n",
       "      <td>455.0</td>\n",
       "    </tr>\n",
       "    <tr>\n",
       "      <th>Horsepower</th>\n",
       "      <td>314.0</td>\n",
       "      <td>104.869427</td>\n",
       "      <td>38.096214</td>\n",
       "      <td>46.0</td>\n",
       "      <td>76.25</td>\n",
       "      <td>94.5</td>\n",
       "      <td>128.00</td>\n",
       "      <td>225.0</td>\n",
       "    </tr>\n",
       "    <tr>\n",
       "      <th>Weight</th>\n",
       "      <td>314.0</td>\n",
       "      <td>2990.251592</td>\n",
       "      <td>843.898596</td>\n",
       "      <td>1649.0</td>\n",
       "      <td>2256.50</td>\n",
       "      <td>2822.5</td>\n",
       "      <td>3608.00</td>\n",
       "      <td>5140.0</td>\n",
       "    </tr>\n",
       "    <tr>\n",
       "      <th>Acceleration</th>\n",
       "      <td>314.0</td>\n",
       "      <td>15.559236</td>\n",
       "      <td>2.789230</td>\n",
       "      <td>8.0</td>\n",
       "      <td>13.80</td>\n",
       "      <td>15.5</td>\n",
       "      <td>17.20</td>\n",
       "      <td>24.8</td>\n",
       "    </tr>\n",
       "    <tr>\n",
       "      <th>Model Year</th>\n",
       "      <td>314.0</td>\n",
       "      <td>75.898089</td>\n",
       "      <td>3.675642</td>\n",
       "      <td>70.0</td>\n",
       "      <td>73.00</td>\n",
       "      <td>76.0</td>\n",
       "      <td>79.00</td>\n",
       "      <td>82.0</td>\n",
       "    </tr>\n",
       "    <tr>\n",
       "      <th>Europe</th>\n",
       "      <td>314.0</td>\n",
       "      <td>0.178344</td>\n",
       "      <td>0.383413</td>\n",
       "      <td>0.0</td>\n",
       "      <td>0.00</td>\n",
       "      <td>0.0</td>\n",
       "      <td>0.00</td>\n",
       "      <td>1.0</td>\n",
       "    </tr>\n",
       "    <tr>\n",
       "      <th>Japan</th>\n",
       "      <td>314.0</td>\n",
       "      <td>0.197452</td>\n",
       "      <td>0.398712</td>\n",
       "      <td>0.0</td>\n",
       "      <td>0.00</td>\n",
       "      <td>0.0</td>\n",
       "      <td>0.00</td>\n",
       "      <td>1.0</td>\n",
       "    </tr>\n",
       "    <tr>\n",
       "      <th>USA</th>\n",
       "      <td>314.0</td>\n",
       "      <td>0.624204</td>\n",
       "      <td>0.485101</td>\n",
       "      <td>0.0</td>\n",
       "      <td>0.00</td>\n",
       "      <td>1.0</td>\n",
       "      <td>1.00</td>\n",
       "      <td>1.0</td>\n",
       "    </tr>\n",
       "  </tbody>\n",
       "</table>\n",
       "</div>"
      ],
      "text/plain": [
       "              count         mean         std     min      25%     50%  \\\n",
       "MPG           314.0    23.310510    7.728652    10.0    17.00    22.0   \n",
       "Cylinders     314.0     5.477707    1.699788     3.0     4.00     4.0   \n",
       "Displacement  314.0   195.318471  104.331589    68.0   105.50   151.0   \n",
       "Horsepower    314.0   104.869427   38.096214    46.0    76.25    94.5   \n",
       "Weight        314.0  2990.251592  843.898596  1649.0  2256.50  2822.5   \n",
       "Acceleration  314.0    15.559236    2.789230     8.0    13.80    15.5   \n",
       "Model Year    314.0    75.898089    3.675642    70.0    73.00    76.0   \n",
       "Europe        314.0     0.178344    0.383413     0.0     0.00     0.0   \n",
       "Japan         314.0     0.197452    0.398712     0.0     0.00     0.0   \n",
       "USA           314.0     0.624204    0.485101     0.0     0.00     1.0   \n",
       "\n",
       "                  75%     max  \n",
       "MPG             28.95    46.6  \n",
       "Cylinders        8.00     8.0  \n",
       "Displacement   265.75   455.0  \n",
       "Horsepower     128.00   225.0  \n",
       "Weight        3608.00  5140.0  \n",
       "Acceleration    17.20    24.8  \n",
       "Model Year      79.00    82.0  \n",
       "Europe           0.00     1.0  \n",
       "Japan            0.00     1.0  \n",
       "USA              1.00     1.0  "
      ]
     },
     "execution_count": 30,
     "metadata": {},
     "output_type": "execute_result"
    }
   ],
   "source": [
    "train_dataset.describe().transpose()"
   ]
  },
  {
   "cell_type": "markdown",
   "metadata": {
    "id": "Db7Auq1yXUvh"
   },
   "source": [
    "6. Split features from labels. \n",
    "  This means, separate the target value(also called\"label\") from the features. \n",
    "  Label is the value that you will train the model to predict."
   ]
  },
  {
   "cell_type": "code",
   "execution_count": 31,
   "metadata": {
    "executionInfo": {
     "elapsed": 5,
     "status": "ok",
     "timestamp": 1663627903454,
     "user": {
      "displayName": "FLORA XU",
      "userId": "14641465521399406540"
     },
     "user_tz": 420
    },
    "id": "t2sluJdCW7jN"
   },
   "outputs": [
    {
     "name": "stdout",
     "output_type": "stream",
     "text": [
      "(314, 10) (78, 10)\n",
      "(314, 9) (78, 9)\n",
      "(314,) (78,)\n"
     ]
    }
   ],
   "source": [
    "train_features = train_dataset # YOUR CODE HERE\n",
    "test_features = test_dataset # YOUR CODE HERE\n",
    "\n",
    "print(train_features.shape, test_features.shape)\n",
    "\n",
    "train_labels = train_features.pop('MPG') # YOUR CODE HERE\n",
    "test_labels = test_features.pop('MPG') # YOUR CODE HERE\n",
    "\n",
    "print(train_features.shape, test_features.shape)\n",
    "print(train_labels.shape, test_labels.shape)"
   ]
  },
  {
   "cell_type": "markdown",
   "metadata": {
    "id": "mRklxK5s388r"
   },
   "source": [
    "# Task 2 - Normalization Layer"
   ]
  },
  {
   "cell_type": "markdown",
   "metadata": {
    "id": "-ywmerQ6dSox"
   },
   "source": [
    "It is good practice to normalize features that use different scales and ranges. Although a model *might* converge without feature normalization, normalization makes training much more stable.\n",
    "\n",
    "Similar to scikit-learn, tensorflow.keras offers a list of [preprocessing layers](https://www.tensorflow.org/guide/keras/preprocessing_layers) so that you can build and export models that are truly end-to-end."
   ]
  },
  {
   "cell_type": "markdown",
   "metadata": {
    "id": "aFJ6ISropeoo"
   },
   "source": [
    "1. The Normalization layer ([`tf.keras.layers.Normalization`](https://www.tensorflow.org/api_docs/python/tf/keras/layers/Normalization) is a clean and simple way to add feature normalization into your model. The first step is to create the layer:"
   ]
  },
  {
   "cell_type": "code",
   "execution_count": 32,
   "metadata": {
    "executionInfo": {
     "elapsed": 4,
     "status": "ok",
     "timestamp": 1663627903454,
     "user": {
      "displayName": "FLORA XU",
      "userId": "14641465521399406540"
     },
     "user_tz": 420
    },
    "id": "JlC5ooJrgjQF"
   },
   "outputs": [],
   "source": [
    "normalizer = tf.keras.layers.Normalization() # YOUR CODE HERE"
   ]
  },
  {
   "cell_type": "markdown",
   "metadata": {
    "id": "XYA2Ap6nVOha"
   },
   "source": [
    "2. Then, fit the state of the preprocessing layer to the data by calling [`Normalization.adapt`](https://www.tensorflow.org/guide/keras/preprocessing_layers#the_adapt_method):"
   ]
  },
  {
   "cell_type": "code",
   "execution_count": 34,
   "metadata": {
    "executionInfo": {
     "elapsed": 1351,
     "status": "ok",
     "timestamp": 1663627904801,
     "user": {
      "displayName": "FLORA XU",
      "userId": "14641465521399406540"
     },
     "user_tz": 420
    },
    "id": "CrBbbjbwV91f"
   },
   "outputs": [],
   "source": [
    "# YOUR CODE HERE\n",
    "normalizer.adapt(test_features)\n",
    "# adapt() method takes either a Numpy array or a tf.data.Dataset object"
   ]
  },
  {
   "cell_type": "markdown",
   "metadata": {
    "id": "GqryjQ_DMMHp"
   },
   "source": [
    "We can see the feature mean and variance are stored in the layer:"
   ]
  },
  {
   "cell_type": "code",
   "execution_count": 35,
   "metadata": {
    "colab": {
     "base_uri": "https://localhost:8080/"
    },
    "executionInfo": {
     "elapsed": 7,
     "status": "ok",
     "timestamp": 1663627904801,
     "user": {
      "displayName": "FLORA XU",
      "userId": "14641465521399406540"
     },
     "user_tz": 420
    },
    "id": "lreV_KOML142",
    "outputId": "11805fe4-c849-4453-9653-e083289bc07d"
   },
   "outputs": [
    {
     "name": "stdout",
     "output_type": "stream",
     "text": [
      "feature mean: [   5.449  190.763  102.859 2926.59    15.469   76.308    0.154    0.218\n",
      "    0.628]\n",
      "\n",
      "feature variance: [     2.991  11195.729   1599.711 755637.3        6.929     13.675\n",
      "      0.13       0.17       0.234]\n"
     ]
    }
   ],
   "source": [
    "print(f'feature mean: {normalizer.mean.numpy().squeeze()}\\n')\n",
    "print(f'feature variance: {normalizer.variance.numpy().squeeze()}')"
   ]
  },
  {
   "cell_type": "markdown",
   "metadata": {
    "id": "oGWKaF9GSRuN"
   },
   "source": [
    "When the layer is called, it returns the input data, with each feature independently normalized:"
   ]
  },
  {
   "cell_type": "code",
   "execution_count": 36,
   "metadata": {
    "colab": {
     "base_uri": "https://localhost:8080/"
    },
    "executionInfo": {
     "elapsed": 302,
     "status": "ok",
     "timestamp": 1663627905100,
     "user": {
      "displayName": "FLORA XU",
      "userId": "14641465521399406540"
     },
     "user_tz": 420
    },
    "id": "2l7zFL_XWIRu",
    "outputId": "c0e053cf-43be-46b7-97d2-6384ad362072"
   },
   "outputs": [
    {
     "name": "stdout",
     "output_type": "stream",
     "text": [
      "First example: [[   4.    90.    75.  2125.    14.5   74.     0.     0.     1. ]]\n",
      "\n",
      "Normalized: [[-0.84 -0.95 -0.7  -0.92 -0.37 -0.62 -0.43 -0.53  0.77]]\n"
     ]
    }
   ],
   "source": [
    "first = np.array(train_features[:1])\n",
    "\n",
    "with np.printoptions(precision=2, suppress=True):\n",
    "    print('First example:', first)\n",
    "    print()\n",
    "    print('Normalized:', normalizer(first).numpy())"
   ]
  },
  {
   "cell_type": "markdown",
   "metadata": {
    "id": "6o3CrycBXA2s"
   },
   "source": [
    "# Task 3 - Linear Regression 📈\n",
    "\n",
    "Before building a deep neural network model, start with linear regression using all the features."
   ]
  },
  {
   "cell_type": "markdown",
   "metadata": {
    "id": "lFby9n0tnHkw"
   },
   "source": [
    "Training a model with `tf.keras` typically starts by defining the model architecture. Use a `tf.keras.Sequential` model, which [represents a sequence of steps](https://www.tensorflow.org/guide/keras/sequential_model).\n",
    "\n",
    "There are two steps in this multivariate linear regression model:\n",
    "\n",
    "- Normalize all the input features using the `tf.keras.layers.Normalization` preprocessing layer. You have defined this earlier as `normalizer`.\n",
    "- Apply a linear transformation ($y = mx+b$ where $m$ is a matrix and $b$ is a vector.) to produce one output using a linear layer ([`tf.keras.layers.Dense`](https://www.tensorflow.org/api_docs/python/tf/keras/layers/Dense)).\n",
    "\n",
    "The number of _inputs_ can either be set by the `input_shape` argument, or automatically when the model is run for the first time."
   ]
  },
  {
   "cell_type": "markdown",
   "metadata": {
    "id": "4NVlHJY2TWlC"
   },
   "source": [
    "1. Build the Keras Sequential model:"
   ]
  },
  {
   "cell_type": "code",
   "execution_count": 37,
   "metadata": {
    "executionInfo": {
     "elapsed": 15,
     "status": "ok",
     "timestamp": 1663627905101,
     "user": {
      "displayName": "FLORA XU",
      "userId": "14641465521399406540"
     },
     "user_tz": 420
    },
    "id": "c0sXM7qLlKfZ"
   },
   "outputs": [],
   "source": [
    "linear_model = tf.keras.Sequential([\n",
    "    # YOUR CODE HERE\n",
    "    normalizer,\n",
    "    layers.Dense(units=1)\n",
    "    # YOUR CODE HERE\n",
    "])"
   ]
  },
  {
   "cell_type": "code",
   "execution_count": 38,
   "metadata": {
    "colab": {
     "base_uri": "https://localhost:8080/"
    },
    "executionInfo": {
     "elapsed": 168,
     "status": "ok",
     "timestamp": 1663627905255,
     "user": {
      "displayName": "FLORA XU",
      "userId": "14641465521399406540"
     },
     "user_tz": 420
    },
    "id": "_iaY0wviy0FO",
    "outputId": "57ced0ee-22c1-477d-e2de-c6dac7d67e62"
   },
   "outputs": [
    {
     "name": "stdout",
     "output_type": "stream",
     "text": [
      "Model: \"sequential\"\n",
      "_________________________________________________________________\n",
      " Layer (type)                Output Shape              Param #   \n",
      "=================================================================\n",
      " normalization (Normalizatio  (None, 9)                19        \n",
      " n)                                                              \n",
      "                                                                 \n",
      " dense (Dense)               (None, 1)                 10        \n",
      "                                                                 \n",
      "=================================================================\n",
      "Total params: 29\n",
      "Trainable params: 10\n",
      "Non-trainable params: 19\n",
      "_________________________________________________________________\n"
     ]
    }
   ],
   "source": [
    "linear_model.summary()"
   ]
  },
  {
   "cell_type": "markdown",
   "metadata": {
    "id": "eObQu9fDnXGL"
   },
   "source": [
    "2. This model will predict `'MPG'` from all features in `train_features`. Run the untrained model on the first 10 data points / rows using `Model.predict()`. The output won't be good, but notice that it has the expected shape of `(10, 1)`:"
   ]
  },
  {
   "cell_type": "code",
   "execution_count": 43,
   "metadata": {
    "colab": {
     "base_uri": "https://localhost:8080/"
    },
    "executionInfo": {
     "elapsed": 227,
     "status": "ok",
     "timestamp": 1663627905481,
     "user": {
      "displayName": "FLORA XU",
      "userId": "14641465521399406540"
     },
     "user_tz": 420
    },
    "id": "UfV1HS6bns-s",
    "outputId": "ceaa3ba8-2193-420b-f95d-25aadf685516"
   },
   "outputs": [
    {
     "name": "stdout",
     "output_type": "stream",
     "text": [
      "1/1 [==============================] - 0s 14ms/step\n"
     ]
    },
    {
     "data": {
      "text/plain": [
       "array([[-0.524],\n",
       "       [-0.437],\n",
       "       [ 2.057],\n",
       "       [-1.185],\n",
       "       [-1.338],\n",
       "       [ 0.712],\n",
       "       [-1.259],\n",
       "       [-1.205],\n",
       "       [ 0.89 ],\n",
       "       [-0.521]], dtype=float32)"
      ]
     },
     "execution_count": 43,
     "metadata": {},
     "output_type": "execute_result"
    }
   ],
   "source": [
    "# YOUR CODE HERE\n",
    "linear_model.predict(train_features[:10])"
   ]
  },
  {
   "cell_type": "markdown",
   "metadata": {
    "id": "IFND0vL4y5OZ"
   },
   "source": [
    "3. When you call the model, its weight matrices will be built—check that the `kernel` weights (the $m$ in $y = mx + b$) have a shape of (9, 1):"
   ]
  },
  {
   "cell_type": "code",
   "execution_count": 44,
   "metadata": {
    "colab": {
     "base_uri": "https://localhost:8080/"
    },
    "executionInfo": {
     "elapsed": 5,
     "status": "ok",
     "timestamp": 1663627905652,
     "user": {
      "displayName": "FLORA XU",
      "userId": "14641465521399406540"
     },
     "user_tz": 420
    },
    "id": "QaqBYReyzBgr",
    "outputId": "ab0da762-f112-4a0a-c18c-8e272a26f8bd"
   },
   "outputs": [
    {
     "data": {
      "text/plain": [
       "<tf.Variable 'dense/kernel:0' shape=(9, 1) dtype=float32, numpy=\n",
       "array([[ 0.732],\n",
       "       [ 0.301],\n",
       "       [ 0.195],\n",
       "       [-0.11 ],\n",
       "       [ 0.375],\n",
       "       [-0.311],\n",
       "       [-0.086],\n",
       "       [ 0.071],\n",
       "       [ 0.463]], dtype=float32)>"
      ]
     },
     "execution_count": 44,
     "metadata": {},
     "output_type": "execute_result"
    }
   ],
   "source": [
    "linear_model.layers[1].kernel"
   ]
  },
  {
   "cell_type": "markdown",
   "metadata": {
    "id": "CSkanJlmmFBX"
   },
   "source": [
    "4. Once the model is built, configure the training procedure using the Keras `Model.compile` method. The most important arguments to compile are the `loss` and the `optimizer`, since these define what will be optimized and how (using the `tf.keras.optimizers.Adam`).\n",
    "\n",
    "  Here's a list of built-in loss functions in [`tf.keras.losses`](https://www.tensorflow.org/api_docs/python/tf/keras/losses). For regression tasks, [common loss functions](https://towardsdatascience.com/understanding-the-3-most-common-loss-functions-for-machine-learning-regression-23e0ef3e14d3) include mean squared error (MSE) and mean absolute error (MAE). Here,  MAE is preferred such that the model is more robust against outliers. \n",
    "\n",
    "  For optimizers, gradient descent (check this video [Gradient Descent, Step-by-Step](https://www.youtube.com/watch?v=sDv4f4s2SB8) for a refresher) is the preferred way to optimize neural networks and many other machine learning algorithms. Read [an overview of graident descent optimizer algorithms](https://ruder.io/optimizing-gradient-descent/) for several popular gradient descent algorithms. Here, we use the popular [`tf.keras.optimizers.Adam`](https://www.tensorflow.org/api_docs/python/tf/keras/optimizers/Adam), and set the learning rate at 0.1 for faster learning.  "
   ]
  },
  {
   "cell_type": "code",
   "execution_count": 45,
   "metadata": {
    "executionInfo": {
     "elapsed": 3,
     "status": "ok",
     "timestamp": 1663627905652,
     "user": {
      "displayName": "FLORA XU",
      "userId": "14641465521399406540"
     },
     "user_tz": 420
    },
    "id": "JxA_3lpOm-SK"
   },
   "outputs": [],
   "source": [
    "linear_model.compile(\n",
    "    optimizer=tf.keras.optimizers.Adam(learning_rate=0.1), # YOUR CODE HERE\n",
    "    loss='mean_absolute_error' # YOUR CODE HERE\n",
    "    )"
   ]
  },
  {
   "cell_type": "markdown",
   "metadata": {
    "id": "Z3q1I9TwnRSC"
   },
   "source": [
    "5. Use Keras `Model.fit` to execute the training for 100 epochs, set the verbose to 0 to suppress logging and keep 20% of the data for validation:"
   ]
  },
  {
   "cell_type": "code",
   "execution_count": 48,
   "metadata": {
    "colab": {
     "base_uri": "https://localhost:8080/"
    },
    "executionInfo": {
     "elapsed": 23883,
     "status": "ok",
     "timestamp": 1663627929533,
     "user": {
      "displayName": "FLORA XU",
      "userId": "14641465521399406540"
     },
     "user_tz": 420
    },
    "id": "-iSrNy59nRAp",
    "outputId": "8c627877-e550-4169-ab38-4e411bdd8eea"
   },
   "outputs": [
    {
     "name": "stderr",
     "output_type": "stream",
     "text": [
      "2023/02/03 12:23:17 INFO mlflow.utils.autologging_utils: Created MLflow autologging run with ID '497d8993e90f483f905025f0b80e6d42', which will track hyperparameters, performance metrics, model artifacts, and lineage information for the current tensorflow workflow\n",
      "2023/02/03 12:23:19 WARNING mlflow.tensorflow: Failed to infer model signature: could not sample data to infer model signature: Cannot log input example or model signature for input with type <class 'pandas.core.frame.DataFrame'>. TensorFlow Keras autologging can only log input examples and model signatures for the following input types: numpy.ndarray, dict[string -> numpy.ndarray], tensorflow.keras.utils.Sequence, and tensorflow.data.Dataset (TensorFlow >= 2.1.0 required)\n",
      "2023/02/03 12:23:19 WARNING mlflow.tensorflow: You are saving a TensorFlow Core model or Keras model without a signature. Inference with mlflow.pyfunc.spark_udf() will not work unless the model's pyfunc representation accepts pandas DataFrames as inference inputs.\n",
      "WARNING:absl:Found untraced functions such as _update_step_xla while saving (showing 1 of 1). These functions will not be directly callable after loading.\n"
     ]
    },
    {
     "name": "stdout",
     "output_type": "stream",
     "text": [
      "INFO:tensorflow:Assets written to: /var/folders/0l/p7lzlqxn44b036b_3ykx4tlr0000gn/T/tmpk8yikklz/model/data/model/assets\n"
     ]
    },
    {
     "name": "stderr",
     "output_type": "stream",
     "text": [
      "INFO:tensorflow:Assets written to: /var/folders/0l/p7lzlqxn44b036b_3ykx4tlr0000gn/T/tmpk8yikklz/model/data/model/assets\n",
      "2023/02/03 12:23:26 WARNING mlflow.utils.autologging_utils: MLflow autologging encountered a warning: \"/Users/monusingh/opt/miniconda3/envs/venv-ml/lib/python3.9/site-packages/_distutils_hack/__init__.py:33: UserWarning: Setuptools is replacing distutils.\"\n"
     ]
    },
    {
     "name": "stdout",
     "output_type": "stream",
     "text": [
      "CPU times: user 3.29 s, sys: 434 ms, total: 3.73 s\n",
      "Wall time: 9.46 s\n"
     ]
    }
   ],
   "source": [
    "%%time\n",
    "history = linear_model.fit(\n",
    "    train_features,\n",
    "    train_labels,\n",
    "    verbose=0,\n",
    "    epochs=100,\n",
    "    validation_split=0.2\n",
    ") # YOUR CODE HERE"
   ]
  },
  {
   "cell_type": "markdown",
   "metadata": {
    "id": "tQm3pc0FYPQB"
   },
   "source": [
    "6. Visualize the model's training progress using the stats stored in the `history` object:"
   ]
  },
  {
   "cell_type": "code",
   "execution_count": 49,
   "metadata": {
    "colab": {
     "base_uri": "https://localhost:8080/",
     "height": 201
    },
    "executionInfo": {
     "elapsed": 9,
     "status": "ok",
     "timestamp": 1663627929533,
     "user": {
      "displayName": "FLORA XU",
      "userId": "14641465521399406540"
     },
     "user_tz": 420
    },
    "id": "YCAwD_y4AdC3",
    "outputId": "a246154a-c09b-488c-84b9-465b3fd09525"
   },
   "outputs": [
    {
     "data": {
      "text/html": [
       "<div>\n",
       "<style scoped>\n",
       "    .dataframe tbody tr th:only-of-type {\n",
       "        vertical-align: middle;\n",
       "    }\n",
       "\n",
       "    .dataframe tbody tr th {\n",
       "        vertical-align: top;\n",
       "    }\n",
       "\n",
       "    .dataframe thead th {\n",
       "        text-align: right;\n",
       "    }\n",
       "</style>\n",
       "<table border=\"1\" class=\"dataframe\">\n",
       "  <thead>\n",
       "    <tr style=\"text-align: right;\">\n",
       "      <th></th>\n",
       "      <th>loss</th>\n",
       "      <th>val_loss</th>\n",
       "      <th>epoch</th>\n",
       "    </tr>\n",
       "  </thead>\n",
       "  <tbody>\n",
       "    <tr>\n",
       "      <th>95</th>\n",
       "      <td>2.471104</td>\n",
       "      <td>2.469070</td>\n",
       "      <td>95</td>\n",
       "    </tr>\n",
       "    <tr>\n",
       "      <th>96</th>\n",
       "      <td>2.468702</td>\n",
       "      <td>2.473127</td>\n",
       "      <td>96</td>\n",
       "    </tr>\n",
       "    <tr>\n",
       "      <th>97</th>\n",
       "      <td>2.479199</td>\n",
       "      <td>2.455227</td>\n",
       "      <td>97</td>\n",
       "    </tr>\n",
       "    <tr>\n",
       "      <th>98</th>\n",
       "      <td>2.515062</td>\n",
       "      <td>2.470380</td>\n",
       "      <td>98</td>\n",
       "    </tr>\n",
       "    <tr>\n",
       "      <th>99</th>\n",
       "      <td>2.524614</td>\n",
       "      <td>2.456191</td>\n",
       "      <td>99</td>\n",
       "    </tr>\n",
       "  </tbody>\n",
       "</table>\n",
       "</div>"
      ],
      "text/plain": [
       "        loss  val_loss  epoch\n",
       "95  2.471104  2.469070     95\n",
       "96  2.468702  2.473127     96\n",
       "97  2.479199  2.455227     97\n",
       "98  2.515062  2.470380     98\n",
       "99  2.524614  2.456191     99"
      ]
     },
     "execution_count": 49,
     "metadata": {},
     "output_type": "execute_result"
    }
   ],
   "source": [
    "hist = pd.DataFrame(history.history)\n",
    "hist['epoch'] = history.epoch\n",
    "hist.tail()"
   ]
  },
  {
   "cell_type": "code",
   "execution_count": 50,
   "metadata": {
    "executionInfo": {
     "elapsed": 6,
     "status": "ok",
     "timestamp": 1663627929534,
     "user": {
      "displayName": "FLORA XU",
      "userId": "14641465521399406540"
     },
     "user_tz": 420
    },
    "id": "9E54UoZunqhc"
   },
   "outputs": [],
   "source": [
    "def plot_loss(history):\n",
    "    plt.plot(history.history['loss'], label='loss')\n",
    "    plt.plot(history.history['val_loss'], label='val_loss')\n",
    "    plt.ylim([0, 10])\n",
    "    plt.xlabel('Epoch')\n",
    "    plt.ylabel('Error [MPG]')\n",
    "    plt.legend()\n",
    "    plt.grid(True)"
   ]
  },
  {
   "cell_type": "markdown",
   "metadata": {
    "id": "fk81ixIgFcEU"
   },
   "source": [
    "Use `plot_loss(history)` provided to visualize the progression in loss function for training and validation data sets. "
   ]
  },
  {
   "cell_type": "code",
   "execution_count": 51,
   "metadata": {
    "colab": {
     "base_uri": "https://localhost:8080/",
     "height": 283
    },
    "executionInfo": {
     "elapsed": 243,
     "status": "ok",
     "timestamp": 1663627929772,
     "user": {
      "displayName": "FLORA XU",
      "userId": "14641465521399406540"
     },
     "user_tz": 420
    },
    "id": "yYsQYrIZyqjz",
    "outputId": "c0c491bb-1b3f-411b-b4dc-8db939104824"
   },
   "outputs": [
    {
     "data": {
      "image/png": "[encoded data removed]",
      "text/plain": [
       "<Figure size 640x480 with 1 Axes>"
      ]
     },
     "metadata": {},
     "output_type": "display_data"
    }
   ],
   "source": [
    "# YOUR CODE HERE\n",
    "plot_loss(history)"
   ]
  },
  {
   "cell_type": "markdown",
   "metadata": {
    "id": "CMNrt8X2ebXd"
   },
   "source": [
    "7. Collect the results on the test set for later using [`Model.evaluate()`](https://www.tensorflow.org/api_docs/python/tf/keras/Model#evaluate)"
   ]
  },
  {
   "cell_type": "code",
   "execution_count": 52,
   "metadata": {
    "executionInfo": {
     "elapsed": 166,
     "status": "ok",
     "timestamp": 1663627929935,
     "user": {
      "displayName": "FLORA XU",
      "userId": "14641465521399406540"
     },
     "user_tz": 420
    },
    "id": "kDZ8EvNYrDtx"
   },
   "outputs": [],
   "source": [
    "test_results = {}\n",
    "\n",
    "test_results['linear_model'] = linear_model.evaluate(\n",
    "    test_features,\n",
    "    test_labels,\n",
    "    verbose=0    \n",
    ") # YOUR CODE HERE"
   ]
  },
  {
   "cell_type": "code",
   "execution_count": 53,
   "metadata": {
    "colab": {
     "base_uri": "https://localhost:8080/"
    },
    "executionInfo": {
     "elapsed": 4,
     "status": "ok",
     "timestamp": 1663627929935,
     "user": {
      "displayName": "FLORA XU",
      "userId": "14641465521399406540"
     },
     "user_tz": 420
    },
    "id": "eh0trI_zGCT1",
    "outputId": "6b6586a7-8cbd-40cf-f223-3b0cc82a60b6"
   },
   "outputs": [
    {
     "data": {
      "text/plain": [
       "{'linear_model': 2.475163698196411}"
      ]
     },
     "execution_count": 53,
     "metadata": {},
     "output_type": "execute_result"
    }
   ],
   "source": [
    "test_results"
   ]
  },
  {
   "cell_type": "markdown",
   "metadata": {
    "id": "SmjdzxKzEu1-"
   },
   "source": [
    "# Task 4 - Regression with a Deep Neural Network (DNN)"
   ]
  },
  {
   "cell_type": "markdown",
   "metadata": {
    "id": "DT_aHPsrzO1t"
   },
   "source": [
    "You just implemented a linear model for multiple inputs. Now, you are ready to implement multiple-input DNN models.\n",
    "\n",
    "The code is very similar except the model is expanded to include some \"hidden\" **non-linear** layers. The name \"hidden\" here just means not directly connected to the inputs or outputs."
   ]
  },
  {
   "cell_type": "markdown",
   "metadata": {
    "id": "6SWtkIjhrZwa"
   },
   "source": [
    "* The normalization layer, as before (with `normalizer` for a multiple-input model).\n",
    "* Two hidden, non-linear, [`Dense`](https://www.tensorflow.org/api_docs/python/tf/keras/layers/Dense) layers with the ReLU (`relu`) activation function nonlinearity. One way is to set parameter `activation` inside `Dense` Set the number of neurons at each layer to be 64. \n",
    "* A linear `Dense` single-output layer. "
   ]
  },
  {
   "cell_type": "markdown",
   "metadata": {
    "id": "CQ6btF_xJPpW"
   },
   "source": [
    "\n",
    "\n",
    "1. Include the model and `compile` method in the `build_and_compile_model` function below. "
   ]
  },
  {
   "cell_type": "code",
   "execution_count": 54,
   "metadata": {
    "executionInfo": {
     "elapsed": 3,
     "status": "ok",
     "timestamp": 1663627929935,
     "user": {
      "displayName": "FLORA XU",
      "userId": "14641465521399406540"
     },
     "user_tz": 420
    },
    "id": "c26juK7ZG8j-"
   },
   "outputs": [],
   "source": [
    "def build_and_compile_model(norm):\n",
    "    model = tf.keras.Sequential([\n",
    "        # YOUR CODE HERE\n",
    "        norm,\n",
    "        layers.Dense(units=64, activation='relu'),\n",
    "        layers.Dense(units=64, activation='relu'),\n",
    "        layers.Dense(1)\n",
    "    ])\n",
    "\n",
    "    model.compile(loss='mean_absolute_error',\n",
    "                optimizer=tf.keras.optimizers.Adam())\n",
    "    return model"
   ]
  },
  {
   "cell_type": "markdown",
   "metadata": {
    "id": "xvu9gtxTZR5V"
   },
   "source": [
    "2. Create a DNN model with `normalizer` (defined earlier) as the normalization layer:\n",
    "\n"
   ]
  },
  {
   "cell_type": "code",
   "execution_count": 55,
   "metadata": {
    "executionInfo": {
     "elapsed": 2,
     "status": "ok",
     "timestamp": 1663627929935,
     "user": {
      "displayName": "FLORA XU",
      "userId": "14641465521399406540"
     },
     "user_tz": 420
    },
    "id": "cGbPb-PHGbhs"
   },
   "outputs": [],
   "source": [
    "dnn_model = build_and_compile_model(normalizer) # YOUR CODE HERE"
   ]
  },
  {
   "cell_type": "markdown",
   "metadata": {
    "id": "Sj49Og4YGULr"
   },
   "source": [
    "3. Inspect the model using `Model.summary()`. This model has quite a few more trainable parameters than the linear models:"
   ]
  },
  {
   "cell_type": "code",
   "execution_count": 56,
   "metadata": {
    "colab": {
     "base_uri": "https://localhost:8080/"
    },
    "executionInfo": {
     "elapsed": 15,
     "status": "ok",
     "timestamp": 1663627930137,
     "user": {
      "displayName": "FLORA XU",
      "userId": "14641465521399406540"
     },
     "user_tz": 420
    },
    "id": "ReAD0n6MsFK-",
    "outputId": "0bea914c-646a-404e-8f02-a691f300c700"
   },
   "outputs": [
    {
     "name": "stdout",
     "output_type": "stream",
     "text": [
      "Model: \"sequential_1\"\n",
      "_________________________________________________________________\n",
      " Layer (type)                Output Shape              Param #   \n",
      "=================================================================\n",
      " normalization (Normalizatio  (None, 9)                19        \n",
      " n)                                                              \n",
      "                                                                 \n",
      " dense_1 (Dense)             (None, 64)                640       \n",
      "                                                                 \n",
      " dense_2 (Dense)             (None, 64)                4160      \n",
      "                                                                 \n",
      " dense_3 (Dense)             (None, 1)                 65        \n",
      "                                                                 \n",
      "=================================================================\n",
      "Total params: 4,884\n",
      "Trainable params: 4,865\n",
      "Non-trainable params: 19\n",
      "_________________________________________________________________\n"
     ]
    }
   ],
   "source": [
    "# YOUR CODE HERE\n",
    "dnn_model.summary()"
   ]
  },
  {
   "cell_type": "markdown",
   "metadata": {
    "id": "0-qWCsh6DlyH"
   },
   "source": [
    "4. Train the model with Keras `Model.fit`:"
   ]
  },
  {
   "cell_type": "code",
   "execution_count": 57,
   "metadata": {
    "colab": {
     "base_uri": "https://localhost:8080/"
    },
    "executionInfo": {
     "elapsed": 13581,
     "status": "ok",
     "timestamp": 1663627943707,
     "user": {
      "displayName": "FLORA XU",
      "userId": "14641465521399406540"
     },
     "user_tz": 420
    },
    "id": "sD7qHCmNIOY0",
    "outputId": "c873375a-b7bc-4054-e7f4-2e2a87b288ca"
   },
   "outputs": [
    {
     "name": "stderr",
     "output_type": "stream",
     "text": [
      "2023/02/03 12:28:52 INFO mlflow.utils.autologging_utils: Created MLflow autologging run with ID '78d8192abbe3483aac83344997001041', which will track hyperparameters, performance metrics, model artifacts, and lineage information for the current tensorflow workflow\n",
      "2023/02/03 12:28:54 WARNING mlflow.tensorflow: Failed to infer model signature: could not sample data to infer model signature: Cannot log input example or model signature for input with type <class 'pandas.core.frame.DataFrame'>. TensorFlow Keras autologging can only log input examples and model signatures for the following input types: numpy.ndarray, dict[string -> numpy.ndarray], tensorflow.keras.utils.Sequence, and tensorflow.data.Dataset (TensorFlow >= 2.1.0 required)\n",
      "2023/02/03 12:28:54 WARNING mlflow.tensorflow: You are saving a TensorFlow Core model or Keras model without a signature. Inference with mlflow.pyfunc.spark_udf() will not work unless the model's pyfunc representation accepts pandas DataFrames as inference inputs.\n",
      "WARNING:absl:Found untraced functions such as _update_step_xla while saving (showing 1 of 1). These functions will not be directly callable after loading.\n"
     ]
    },
    {
     "name": "stdout",
     "output_type": "stream",
     "text": [
      "INFO:tensorflow:Assets written to: /var/folders/0l/p7lzlqxn44b036b_3ykx4tlr0000gn/T/tmpk1rvckw1/model/data/model/assets\n"
     ]
    },
    {
     "name": "stderr",
     "output_type": "stream",
     "text": [
      "INFO:tensorflow:Assets written to: /var/folders/0l/p7lzlqxn44b036b_3ykx4tlr0000gn/T/tmpk1rvckw1/model/data/model/assets\n"
     ]
    },
    {
     "name": "stdout",
     "output_type": "stream",
     "text": [
      "CPU times: user 3.54 s, sys: 436 ms, total: 3.98 s\n",
      "Wall time: 8.47 s\n"
     ]
    }
   ],
   "source": [
    "%%time\n",
    "history = dnn_model.fit(\n",
    "    train_features,\n",
    "    train_labels,\n",
    "    validation_split=0.2,\n",
    "    verbose=0, epochs=100)"
   ]
  },
  {
   "cell_type": "markdown",
   "metadata": {
    "id": "dArGGxHxcKjN"
   },
   "source": [
    "5. Visualize the model's training progress using the stats stored in the history object. "
   ]
  },
  {
   "cell_type": "code",
   "execution_count": 58,
   "metadata": {
    "colab": {
     "base_uri": "https://localhost:8080/",
     "height": 283
    },
    "executionInfo": {
     "elapsed": 260,
     "status": "ok",
     "timestamp": 1663627943959,
     "user": {
      "displayName": "FLORA XU",
      "userId": "14641465521399406540"
     },
     "user_tz": 420
    },
    "id": "NcF6UWjdCU8T",
    "outputId": "874a650c-e034-4ab3-932c-83d17a67288c"
   },
   "outputs": [
    {
     "data": {
      "image/png": "[encoded data removed]",
      "text/plain": [
       "<Figure size 640x480 with 1 Axes>"
      ]
     },
     "metadata": {},
     "output_type": "display_data"
    }
   ],
   "source": [
    "plot_loss(history)"
   ]
  },
  {
   "attachments": {},
   "cell_type": "markdown",
   "metadata": {
    "id": "lRIDHn59LTax"
   },
   "source": [
    "Do you think the DNN model is overfitting? What gives away? \n",
    "\n",
    "    *YOUR ANSWER HERE*\n",
    "    Training loss is less than validation, thereby not overfitting"
   ]
  },
  {
   "cell_type": "markdown",
   "metadata": {
    "id": "9dhMN7IUM12Q"
   },
   "source": [
    "6. Let's save the results for later comparison."
   ]
  },
  {
   "cell_type": "code",
   "execution_count": 59,
   "metadata": {
    "executionInfo": {
     "elapsed": 9,
     "status": "ok",
     "timestamp": 1663627943959,
     "user": {
      "displayName": "FLORA XU",
      "userId": "14641465521399406540"
     },
     "user_tz": 420
    },
    "id": "bJjM0dU52XtN"
   },
   "outputs": [],
   "source": [
    "test_results['dnn_model'] = dnn_model.evaluate(test_features, test_labels, verbose=0)"
   ]
  },
  {
   "cell_type": "markdown",
   "metadata": {
    "id": "uiCucdPLfMkZ"
   },
   "source": [
    "# Task 5 - Make Predictions 🔮"
   ]
  },
  {
   "cell_type": "markdown",
   "metadata": {
    "id": "rDf1xebEfWBw"
   },
   "source": [
    "1. Since both models have been trained, we can review their test set performance:"
   ]
  },
  {
   "cell_type": "code",
   "execution_count": 66,
   "metadata": {
    "colab": {
     "base_uri": "https://localhost:8080/",
     "height": 109
    },
    "executionInfo": {
     "elapsed": 9,
     "status": "ok",
     "timestamp": 1663627943960,
     "user": {
      "displayName": "FLORA XU",
      "userId": "14641465521399406540"
     },
     "user_tz": 420
    },
    "id": "e5_ooufM5iH2",
    "outputId": "6979b2fe-dd27-4d67-cb54-d59ac33b2543"
   },
   "outputs": [
    {
     "data": {
      "text/html": [
       "<div>\n",
       "<style scoped>\n",
       "    .dataframe tbody tr th:only-of-type {\n",
       "        vertical-align: middle;\n",
       "    }\n",
       "\n",
       "    .dataframe tbody tr th {\n",
       "        vertical-align: top;\n",
       "    }\n",
       "\n",
       "    .dataframe thead th {\n",
       "        text-align: right;\n",
       "    }\n",
       "</style>\n",
       "<table border=\"1\" class=\"dataframe\">\n",
       "  <thead>\n",
       "    <tr style=\"text-align: right;\">\n",
       "      <th></th>\n",
       "      <th>Mean absolute error [MPG]</th>\n",
       "    </tr>\n",
       "  </thead>\n",
       "  <tbody>\n",
       "    <tr>\n",
       "      <th>linear_model</th>\n",
       "      <td>2.475164</td>\n",
       "    </tr>\n",
       "    <tr>\n",
       "      <th>dnn_model</th>\n",
       "      <td>1.734072</td>\n",
       "    </tr>\n",
       "  </tbody>\n",
       "</table>\n",
       "</div>"
      ],
      "text/plain": [
       "              Mean absolute error [MPG]\n",
       "linear_model                   2.475164\n",
       "dnn_model                      1.734072"
      ]
     },
     "execution_count": 66,
     "metadata": {},
     "output_type": "execute_result"
    }
   ],
   "source": [
    "pd.DataFrame(test_results, index=['Mean absolute error [MPG]']).T"
   ]
  },
  {
   "cell_type": "markdown",
   "metadata": {
    "id": "DABIVzsCf-QI"
   },
   "source": [
    "These results match the validation error observed during training."
   ]
  },
  {
   "cell_type": "markdown",
   "metadata": {
    "id": "ft603OzXuEZC"
   },
   "source": [
    "2. We can now make predictions with the `dnn_model` on the test set using Keras `Model.predict` and review the loss. Use `.flatten()`."
   ]
  },
  {
   "cell_type": "code",
   "execution_count": 67,
   "metadata": {
    "colab": {
     "base_uri": "https://localhost:8080/",
     "height": 283
    },
    "executionInfo": {
     "elapsed": 395,
     "status": "ok",
     "timestamp": 1663627944348,
     "user": {
      "displayName": "FLORA XU",
      "userId": "14641465521399406540"
     },
     "user_tz": 420
    },
    "id": "Xe7RXH3N3CWU",
    "outputId": "14641962-5806-41a4-f78f-e3113ecb326f"
   },
   "outputs": [
    {
     "name": "stdout",
     "output_type": "stream",
     "text": [
      "3/3 [==============================] - 0s 1ms/step\n"
     ]
    },
    {
     "data": {
      "image/png": "[encoded data removed]",
      "text/plain": [
       "<Figure size 640x480 with 1 Axes>"
      ]
     },
     "metadata": {},
     "output_type": "display_data"
    }
   ],
   "source": [
    "test_predictions = dnn_model.predict(test_features).flatten() # YOUR CODE HERE\n",
    "\n",
    "a = plt.axes(aspect='equal')\n",
    "plt.scatter(test_labels, test_predictions)\n",
    "plt.xlabel('True Values [MPG]')\n",
    "plt.ylabel('Predictions [MPG]')\n",
    "lims = [0, 50]\n",
    "plt.xlim(lims)\n",
    "plt.ylim(lims)\n",
    "_ = plt.plot(lims, lims)\n"
   ]
  },
  {
   "cell_type": "markdown",
   "metadata": {
    "id": "19wyogbOSU5t"
   },
   "source": [
    "3. It appears that the model predicts reasonably well. Now, check the error distribution:"
   ]
  },
  {
   "cell_type": "code",
   "execution_count": 68,
   "metadata": {
    "colab": {
     "base_uri": "https://localhost:8080/",
     "height": 278
    },
    "executionInfo": {
     "elapsed": 178,
     "status": "ok",
     "timestamp": 1663627944523,
     "user": {
      "displayName": "FLORA XU",
      "userId": "14641465521399406540"
     },
     "user_tz": 420
    },
    "id": "f-OHX4DiXd8x",
    "outputId": "ab0d5339-72a8-4e8c-d48d-4af43a83515c"
   },
   "outputs": [
    {
     "data": {
      "image/png": "[encoded data removed]",
      "text/plain": [
       "<Figure size 640x480 with 1 Axes>"
      ]
     },
     "metadata": {},
     "output_type": "display_data"
    }
   ],
   "source": [
    "error = test_predictions - test_labels # YOUR CODE HERE\n",
    "plt.hist(error, bins=25)\n",
    "plt.xlabel('Prediction Error [MPG]')\n",
    "_ = plt.ylabel('Count')"
   ]
  },
  {
   "cell_type": "markdown",
   "metadata": {
    "id": "KSyaHUfDT-mZ"
   },
   "source": [
    "4. Save it for later use with `Model.save`:"
   ]
  },
  {
   "cell_type": "code",
   "execution_count": 69,
   "metadata": {
    "executionInfo": {
     "elapsed": 1155,
     "status": "ok",
     "timestamp": 1663627945675,
     "user": {
      "displayName": "FLORA XU",
      "userId": "14641465521399406540"
     },
     "user_tz": 420
    },
    "id": "4-WwLlmfT-mb"
   },
   "outputs": [
    {
     "name": "stderr",
     "output_type": "stream",
     "text": [
      "WARNING:absl:Found untraced functions such as _update_step_xla while saving (showing 1 of 1). These functions will not be directly callable after loading.\n"
     ]
    },
    {
     "name": "stdout",
     "output_type": "stream",
     "text": [
      "INFO:tensorflow:Assets written to: dnn_model/assets\n"
     ]
    },
    {
     "name": "stderr",
     "output_type": "stream",
     "text": [
      "INFO:tensorflow:Assets written to: dnn_model/assets\n"
     ]
    }
   ],
   "source": [
    "dnn_model.save('dnn_model')"
   ]
  },
  {
   "cell_type": "markdown",
   "metadata": {
    "id": "Benlnl8UT-me"
   },
   "source": [
    "5. Reload the model with `Model.load_model`; it gives identical output:"
   ]
  },
  {
   "cell_type": "code",
   "execution_count": 74,
   "metadata": {
    "executionInfo": {
     "elapsed": 608,
     "status": "ok",
     "timestamp": 1663627946277,
     "user": {
      "displayName": "FLORA XU",
      "userId": "14641465521399406540"
     },
     "user_tz": 420
    },
    "id": "dyyyj2zVT-mf"
   },
   "outputs": [],
   "source": [
    "reloaded = tf.keras.models.load_model('dnn_model') # YOUR CODE HERE\n",
    "\n",
    "test_results['dnn_reloaded'] = reloaded.evaluate(\n",
    "    test_features, test_labels, verbose=0)"
   ]
  },
  {
   "cell_type": "code",
   "execution_count": 76,
   "metadata": {
    "colab": {
     "base_uri": "https://localhost:8080/",
     "height": 140
    },
    "executionInfo": {
     "elapsed": 9,
     "status": "ok",
     "timestamp": 1663627946278,
     "user": {
      "displayName": "FLORA XU",
      "userId": "14641465521399406540"
     },
     "user_tz": 420
    },
    "id": "f_GchJ2tg-2o",
    "outputId": "1173b004-23ab-4104-e789-f2a43e8fae7f"
   },
   "outputs": [
    {
     "data": {
      "text/html": [
       "<div>\n",
       "<style scoped>\n",
       "    .dataframe tbody tr th:only-of-type {\n",
       "        vertical-align: middle;\n",
       "    }\n",
       "\n",
       "    .dataframe tbody tr th {\n",
       "        vertical-align: top;\n",
       "    }\n",
       "\n",
       "    .dataframe thead th {\n",
       "        text-align: right;\n",
       "    }\n",
       "</style>\n",
       "<table border=\"1\" class=\"dataframe\">\n",
       "  <thead>\n",
       "    <tr style=\"text-align: right;\">\n",
       "      <th></th>\n",
       "      <th>Mean absolute error [MPG]</th>\n",
       "    </tr>\n",
       "  </thead>\n",
       "  <tbody>\n",
       "    <tr>\n",
       "      <th>linear_model</th>\n",
       "      <td>2.475164</td>\n",
       "    </tr>\n",
       "    <tr>\n",
       "      <th>dnn_model</th>\n",
       "      <td>1.734072</td>\n",
       "    </tr>\n",
       "    <tr>\n",
       "      <th>reloaded</th>\n",
       "      <td>1.734072</td>\n",
       "    </tr>\n",
       "    <tr>\n",
       "      <th>dnn_reloaded</th>\n",
       "      <td>1.734072</td>\n",
       "    </tr>\n",
       "  </tbody>\n",
       "</table>\n",
       "</div>"
      ],
      "text/plain": [
       "              Mean absolute error [MPG]\n",
       "linear_model                   2.475164\n",
       "dnn_model                      1.734072\n",
       "reloaded                       1.734072\n",
       "dnn_reloaded                   1.734072"
      ]
     },
     "execution_count": 76,
     "metadata": {},
     "output_type": "execute_result"
    }
   ],
   "source": [
    "pd.DataFrame(test_results, index=['Mean absolute error [MPG]']).T"
   ]
  },
  {
   "cell_type": "markdown",
   "metadata": {
    "id": "jKeDqQVlgEvL"
   },
   "source": [
    "# Task 6 - Nonlinearity"
   ]
  },
  {
   "cell_type": "markdown",
   "metadata": {
    "id": "bi4qB9oDPU4j"
   },
   "source": [
    "We mentioned that the `relu` activation function introduce non-linearity; let's visualize it. Since there are six numerical features and 1 categorical features, it is impossible to plot all the dimensions on a 2D plot; we need to simplify/isolate it. \n",
    "\n",
    "Note: in this task, code is provided; the focus in on understanding. "
   ]
  },
  {
   "cell_type": "markdown",
   "metadata": {
    "id": "0WZj2vEGQwOL"
   },
   "source": [
    "1. We focus on the relationship between feature `Displacement` and target `MPG`. \n",
    "  \n",
    "  To do so, create a new dataset of the same size as `train_features`, but all other features are set at their median values; then set the `Displacement` between 0 and 500. "
   ]
  },
  {
   "cell_type": "code",
   "execution_count": 77,
   "metadata": {
    "executionInfo": {
     "elapsed": 6,
     "status": "ok",
     "timestamp": 1663627946278,
     "user": {
      "displayName": "FLORA XU",
      "userId": "14641465521399406540"
     },
     "user_tz": 420
    },
    "id": "nXcntGZv-CeV"
   },
   "outputs": [],
   "source": [
    "fake = np.outer(np.ones(train_features.shape[0]), train_features.median())\n",
    "fake = pd.DataFrame(fake, columns = train_features.columns)\n",
    "fake.Displacement = np.linspace(0, 500, train_features.shape[0])"
   ]
  },
  {
   "cell_type": "markdown",
   "metadata": {
    "id": "zwYXI7n1VIF3"
   },
   "source": [
    "2. Create a plotting function to:\n",
    "\n",
    "    a) visualize real values between `Displacement` and `MPG` from the training dataset in scatter plot \n",
    "    \n",
    "    b) overlay the predicted MPG from Displacement varying from 0 to 500, but holding all other features constant. "
   ]
  },
  {
   "cell_type": "code",
   "execution_count": 78,
   "metadata": {
    "executionInfo": {
     "elapsed": 5,
     "status": "ok",
     "timestamp": 1663627946278,
     "user": {
      "displayName": "FLORA XU",
      "userId": "14641465521399406540"
     },
     "user_tz": 420
    },
    "id": "zXDFyU4v-mak"
   },
   "outputs": [],
   "source": [
    "def plot_displacement(x, y):\n",
    "    plt.scatter(train_features['Displacement'], train_labels, label='Data')\n",
    "    plt.plot(x, y, color='k', label='Predictions')\n",
    "    plt.xlabel('Displacement')\n",
    "    plt.ylabel('MPG')\n",
    "    plt.legend()"
   ]
  },
  {
   "cell_type": "markdown",
   "metadata": {
    "id": "nLXZ7QsmVl_i"
   },
   "source": [
    "3. Visualize predicted MPG using the linear model."
   ]
  },
  {
   "cell_type": "code",
   "execution_count": 79,
   "metadata": {
    "colab": {
     "base_uri": "https://localhost:8080/",
     "height": 278
    },
    "executionInfo": {
     "elapsed": 322,
     "status": "ok",
     "timestamp": 1663627946595,
     "user": {
      "displayName": "FLORA XU",
      "userId": "14641465521399406540"
     },
     "user_tz": 420
    },
    "id": "Q0M1mhutB9YQ",
    "outputId": "0c4bc7f0-bdc0-45a8-bd4e-9fc7bfdd9d31"
   },
   "outputs": [
    {
     "data": {
      "image/png": "[encoded data removed]",
      "text/plain": [
       "<Figure size 640x480 with 1 Axes>"
      ]
     },
     "metadata": {},
     "output_type": "display_data"
    }
   ],
   "source": [
    "plot_displacement(fake.Displacement, linear_model(fake))"
   ]
  },
  {
   "cell_type": "markdown",
   "metadata": {
    "id": "S6Iw161_VvsP"
   },
   "source": [
    "4. Visualize predicted MPG using the neural network model. Do you see an improvement/non-linearity from the linear model? "
   ]
  },
  {
   "cell_type": "code",
   "execution_count": 80,
   "metadata": {
    "colab": {
     "base_uri": "https://localhost:8080/",
     "height": 278
    },
    "executionInfo": {
     "elapsed": 363,
     "status": "ok",
     "timestamp": 1663627946953,
     "user": {
      "displayName": "FLORA XU",
      "userId": "14641465521399406540"
     },
     "user_tz": 420
    },
    "id": "fXe9lxlvBWbk",
    "outputId": "beb9db1d-4302-44bc-bb9c-f006730cc556"
   },
   "outputs": [
    {
     "name": "stdout",
     "output_type": "stream",
     "text": [
      "10/10 [==============================] - 0s 615us/step\n"
     ]
    },
    {
     "data": {
      "image/png": "[encoded data removed]",
      "text/plain": [
       "<Figure size 640x480 with 1 Axes>"
      ]
     },
     "metadata": {},
     "output_type": "display_data"
    }
   ],
   "source": [
    "plot_displacement(fake.Displacement, dnn_model.predict(fake))"
   ]
  },
  {
   "cell_type": "markdown",
   "metadata": {
    "id": "pXWsMH5gR5pE"
   },
   "source": [
    "5. What are the other activation functions? Check the list of [activations](https://www.tensorflow.org/api_docs/python/tf/keras/activations). \n",
    "  \n",
    "  Optional. Modify the DNN model with a different activation function, and fit it on the data; does it perform better? "
   ]
  },
  {
   "cell_type": "code",
   "execution_count": 82,
   "metadata": {},
   "outputs": [
    {
     "name": "stdout",
     "output_type": "stream",
     "text": [
      "Model: \"sequential_2\"\n",
      "_________________________________________________________________\n",
      " Layer (type)                Output Shape              Param #   \n",
      "=================================================================\n",
      " normalization (Normalizatio  (None, 9)                19        \n",
      " n)                                                              \n",
      "                                                                 \n",
      " dense_4 (Dense)             (None, 64)                640       \n",
      "                                                                 \n",
      " dense_5 (Dense)             (None, 64)                4160      \n",
      "                                                                 \n",
      " dense_6 (Dense)             (None, 1)                 65        \n",
      "                                                                 \n",
      "=================================================================\n",
      "Total params: 4,884\n",
      "Trainable params: 4,865\n",
      "Non-trainable params: 19\n",
      "_________________________________________________________________\n"
     ]
    }
   ],
   "source": [
    "def build_and_compile_model_act(norm,activate):\n",
    "    model = tf.keras.Sequential([\n",
    "        norm,\n",
    "        layers.Dense(64, activation=activate),\n",
    "        layers.Dense(64, activation=activate),\n",
    "        layers.Dense(1)# single output layer\n",
    "    ])\n",
    "\n",
    "    model.compile(loss='mean_absolute_error',\n",
    "                optimizer=tf.keras.optimizers.Adam())\n",
    "    return model\n",
    "\n",
    "dnn_model_activate = build_and_compile_model_act(normalizer,tf.keras.layers.LeakyReLU(alpha=0.3)) # leaky relu version\n",
    "dnn_model_activate.summary()# view model layers summary"
   ]
  },
  {
   "cell_type": "code",
   "execution_count": 83,
   "metadata": {},
   "outputs": [
    {
     "name": "stderr",
     "output_type": "stream",
     "text": [
      "2023/02/03 16:52:47 INFO mlflow.utils.autologging_utils: Created MLflow autologging run with ID '4b3292fc144a4247b0ebbf0d0c03dd04', which will track hyperparameters, performance metrics, model artifacts, and lineage information for the current tensorflow workflow\n",
      "2023/02/03 16:52:48 WARNING mlflow.tensorflow: Failed to infer model signature: could not sample data to infer model signature: Cannot log input example or model signature for input with type <class 'pandas.core.frame.DataFrame'>. TensorFlow Keras autologging can only log input examples and model signatures for the following input types: numpy.ndarray, dict[string -> numpy.ndarray], tensorflow.keras.utils.Sequence, and tensorflow.data.Dataset (TensorFlow >= 2.1.0 required)\n",
      "2023/02/03 16:52:48 WARNING mlflow.tensorflow: You are saving a TensorFlow Core model or Keras model without a signature. Inference with mlflow.pyfunc.spark_udf() will not work unless the model's pyfunc representation accepts pandas DataFrames as inference inputs.\n",
      "WARNING:absl:Found untraced functions such as _update_step_xla, leaky_re_lu_layer_call_fn, leaky_re_lu_layer_call_and_return_conditional_losses while saving (showing 3 of 3). These functions will not be directly callable after loading.\n"
     ]
    },
    {
     "name": "stdout",
     "output_type": "stream",
     "text": [
      "INFO:tensorflow:Assets written to: /var/folders/0l/p7lzlqxn44b036b_3ykx4tlr0000gn/T/tmp5tu5jhy9/model/data/model/assets\n"
     ]
    },
    {
     "name": "stderr",
     "output_type": "stream",
     "text": [
      "INFO:tensorflow:Assets written to: /var/folders/0l/p7lzlqxn44b036b_3ykx4tlr0000gn/T/tmp5tu5jhy9/model/data/model/assets\n"
     ]
    },
    {
     "name": "stdout",
     "output_type": "stream",
     "text": [
      "CPU times: user 2.19 s, sys: 347 ms, total: 2.54 s\n",
      "Wall time: 6.84 s\n"
     ]
    }
   ],
   "source": [
    "%%time\n",
    "history = dnn_model_activate.fit(\n",
    "    train_features,\n",
    "    train_labels,\n",
    "    validation_split=0.2,\n",
    "    verbose=0, epochs=100)"
   ]
  },
  {
   "cell_type": "code",
   "execution_count": 84,
   "metadata": {},
   "outputs": [
    {
     "name": "stdout",
     "output_type": "stream",
     "text": [
      "1/1 [==============================] - 0s 31ms/step\n"
     ]
    },
    {
     "data": {
      "text/plain": [
       "array([[28.341],\n",
       "       [24.348],\n",
       "       [12.253],\n",
       "       [36.777],\n",
       "       [34.466],\n",
       "       [20.058],\n",
       "       [36.52 ],\n",
       "       [30.008],\n",
       "       [19.208],\n",
       "       [26.158]], dtype=float32)"
      ]
     },
     "execution_count": 84,
     "metadata": {},
     "output_type": "execute_result"
    }
   ],
   "source": [
    "dnn_model_activate.predict(train_features[:10]) # much better than untrained"
   ]
  },
  {
   "cell_type": "code",
   "execution_count": 85,
   "metadata": {},
   "outputs": [
    {
     "name": "stdout",
     "output_type": "stream",
     "text": [
      "10/10 [==============================] - 0s 807us/step\n"
     ]
    },
    {
     "data": {
      "image/png": "[encoded data removed]",
      "text/plain": [
       "<Figure size 640x480 with 1 Axes>"
      ]
     },
     "metadata": {},
     "output_type": "display_data"
    }
   ],
   "source": [
    "plot_displacement(fake.Displacement, dnn_model_activate.predict(fake))"
   ]
  },
  {
   "cell_type": "code",
   "execution_count": 86,
   "metadata": {},
   "outputs": [
    {
     "data": {
      "text/html": [
       "<div>\n",
       "<style scoped>\n",
       "    .dataframe tbody tr th:only-of-type {\n",
       "        vertical-align: middle;\n",
       "    }\n",
       "\n",
       "    .dataframe tbody tr th {\n",
       "        vertical-align: top;\n",
       "    }\n",
       "\n",
       "    .dataframe thead th {\n",
       "        text-align: right;\n",
       "    }\n",
       "</style>\n",
       "<table border=\"1\" class=\"dataframe\">\n",
       "  <thead>\n",
       "    <tr style=\"text-align: right;\">\n",
       "      <th></th>\n",
       "      <th>Mean absolute error [MPG]</th>\n",
       "    </tr>\n",
       "  </thead>\n",
       "  <tbody>\n",
       "    <tr>\n",
       "      <th>linear_model</th>\n",
       "      <td>2.475164</td>\n",
       "    </tr>\n",
       "    <tr>\n",
       "      <th>dnn_model</th>\n",
       "      <td>1.734072</td>\n",
       "    </tr>\n",
       "    <tr>\n",
       "      <th>reloaded</th>\n",
       "      <td>1.734072</td>\n",
       "    </tr>\n",
       "    <tr>\n",
       "      <th>dnn_reloaded</th>\n",
       "      <td>1.734072</td>\n",
       "    </tr>\n",
       "    <tr>\n",
       "      <th>dnn_model_leakyrelu</th>\n",
       "      <td>1.652726</td>\n",
       "    </tr>\n",
       "  </tbody>\n",
       "</table>\n",
       "</div>"
      ],
      "text/plain": [
       "                     Mean absolute error [MPG]\n",
       "linear_model                          2.475164\n",
       "dnn_model                             1.734072\n",
       "reloaded                              1.734072\n",
       "dnn_reloaded                          1.734072\n",
       "dnn_model_leakyrelu                   1.652726"
      ]
     },
     "execution_count": 86,
     "metadata": {},
     "output_type": "execute_result"
    }
   ],
   "source": [
    "experiment = 'dnn_model_leakyrelu' # used to be dnn_model_leakyrelu\n",
    "test_results[experiment] = dnn_model_activate.evaluate(test_features, test_labels, verbose=0)\n",
    "\n",
    "pd.DataFrame(test_results, index=['Mean absolute error [MPG]']).T"
   ]
  },
  {
   "cell_type": "markdown",
   "metadata": {
    "id": "vgGQuV-yqYZH"
   },
   "source": [
    "6. Overfitting is a common problem for DNN models, how should we deal with it? Check [Regularizers](https://www.tensorflow.org/api_docs/python/tf/keras/regularizers) on tf.keras. Any other techiniques that are invented for neural networks?"
   ]
  },
  {
   "cell_type": "code",
   "execution_count": 87,
   "metadata": {},
   "outputs": [
    {
     "name": "stdout",
     "output_type": "stream",
     "text": [
      "Model: \"sequential_3\"\n",
      "_________________________________________________________________\n",
      " Layer (type)                Output Shape              Param #   \n",
      "=================================================================\n",
      " normalization (Normalizatio  (None, 9)                19        \n",
      " n)                                                              \n",
      "                                                                 \n",
      " dense_7 (Dense)             (None, 64)                640       \n",
      "                                                                 \n",
      " dense_8 (Dense)             (None, 64)                4160      \n",
      "                                                                 \n",
      " dense_9 (Dense)             (None, 1)                 65        \n",
      "                                                                 \n",
      "=================================================================\n",
      "Total params: 4,884\n",
      "Trainable params: 4,865\n",
      "Non-trainable params: 19\n",
      "_________________________________________________________________\n"
     ]
    }
   ],
   "source": [
    "def build_and_compile_model_actRegularized(norm,activate):\n",
    "    model = tf.keras.Sequential([\n",
    "        norm,\n",
    "        layers.Dense(64, activation=activate, kernel_regularizer=tf.keras.regularizers.L2(0.001)),\n",
    "        layers.Dense(64, activation=activate, kernel_regularizer=tf.keras.regularizers.L2(0.001)),\n",
    "        layers.Dense(1)# single output layer\n",
    "    ])\n",
    "\n",
    "    model.compile(loss='mean_absolute_error',\n",
    "                optimizer=tf.keras.optimizers.Adam())\n",
    "    return model\n",
    "\n",
    "dnn_model_activate_reg = build_and_compile_model_actRegularized(normalizer,tf.keras.layers.LeakyReLU(alpha=0.3)) # leaky relu version\n",
    "dnn_model_activate_reg.summary()# view model layers summary"
   ]
  },
  {
   "cell_type": "code",
   "execution_count": 88,
   "metadata": {},
   "outputs": [
    {
     "name": "stderr",
     "output_type": "stream",
     "text": [
      "2023/02/03 17:58:59 INFO mlflow.utils.autologging_utils: Created MLflow autologging run with ID 'a9c0ae9e530346859c52a9729559c05a', which will track hyperparameters, performance metrics, model artifacts, and lineage information for the current tensorflow workflow\n",
      "2023/02/03 17:59:01 WARNING mlflow.tensorflow: Failed to infer model signature: could not sample data to infer model signature: Cannot log input example or model signature for input with type <class 'pandas.core.frame.DataFrame'>. TensorFlow Keras autologging can only log input examples and model signatures for the following input types: numpy.ndarray, dict[string -> numpy.ndarray], tensorflow.keras.utils.Sequence, and tensorflow.data.Dataset (TensorFlow >= 2.1.0 required)\n",
      "2023/02/03 17:59:01 WARNING mlflow.tensorflow: You are saving a TensorFlow Core model or Keras model without a signature. Inference with mlflow.pyfunc.spark_udf() will not work unless the model's pyfunc representation accepts pandas DataFrames as inference inputs.\n",
      "WARNING:absl:Found untraced functions such as _update_step_xla, leaky_re_lu_1_layer_call_fn, leaky_re_lu_1_layer_call_and_return_conditional_losses while saving (showing 3 of 3). These functions will not be directly callable after loading.\n"
     ]
    },
    {
     "name": "stdout",
     "output_type": "stream",
     "text": [
      "INFO:tensorflow:Assets written to: /var/folders/0l/p7lzlqxn44b036b_3ykx4tlr0000gn/T/tmpa7b45hg6/model/data/model/assets\n"
     ]
    },
    {
     "name": "stderr",
     "output_type": "stream",
     "text": [
      "INFO:tensorflow:Assets written to: /var/folders/0l/p7lzlqxn44b036b_3ykx4tlr0000gn/T/tmpa7b45hg6/model/data/model/assets\n"
     ]
    },
    {
     "name": "stdout",
     "output_type": "stream",
     "text": [
      "CPU times: user 2.12 s, sys: 284 ms, total: 2.4 s\n",
      "Wall time: 6.38 s\n"
     ]
    }
   ],
   "source": [
    "%%time\n",
    "history = dnn_model_activate_reg.fit(\n",
    "    train_features,\n",
    "    train_labels,\n",
    "    validation_split=0.2,\n",
    "    verbose=0, epochs=100)"
   ]
  },
  {
   "cell_type": "code",
   "execution_count": 89,
   "metadata": {},
   "outputs": [
    {
     "name": "stdout",
     "output_type": "stream",
     "text": [
      "10/10 [==============================] - 0s 610us/step\n"
     ]
    },
    {
     "data": {
      "image/png": "[encoded data removed]",
      "text/plain": [
       "<Figure size 640x480 with 1 Axes>"
      ]
     },
     "metadata": {},
     "output_type": "display_data"
    }
   ],
   "source": [
    "plot_displacement(fake.Displacement, dnn_model_activate_reg.predict(fake))"
   ]
  },
  {
   "cell_type": "markdown",
   "metadata": {
    "id": "iP8i8p3HrfdN"
   },
   "source": [
    "# Task 7 - MLflow Tracking"
   ]
  },
  {
   "cell_type": "markdown",
   "metadata": {
    "id": "saYwy3qTv7Sm"
   },
   "source": [
    "In this task, we briefly explore [MLflow Tracking](https://www.mlflow.org/docs/latest/tracking.html#tracking), one of four primary functions that MLflow offers for managing the end-to-end machine learning lifecycle. We will access the information runs programmatically in python and then set up the MLflow UI for easy interaction."
   ]
  },
  {
   "cell_type": "markdown",
   "metadata": {
    "id": "85HHzfclv6hp"
   },
   "source": [
    "1. Experiments.\n",
    "\n",
    "    MLflow Tracking is organized around the concept of `runs`, which are executions of some piece of modeling code; and runs are organized into experiments. \n",
    "\n",
    "    We set the auto logging in the beginning, we can verify that\n",
    "    - there is one experiment\n",
    "    - its name is `0`\n",
    "    - all of its artifacts are stored at `file:///content/mlruns/0` in Google Drive."
   ]
  },
  {
   "cell_type": "code",
   "execution_count": 90,
   "metadata": {
    "colab": {
     "base_uri": "https://localhost:8080/"
    },
    "executionInfo": {
     "elapsed": 23,
     "status": "ok",
     "timestamp": 1663627946953,
     "user": {
      "displayName": "FLORA XU",
      "userId": "14641465521399406540"
     },
     "user_tz": 420
    },
    "id": "PetDDBPzrpNN",
    "outputId": "a84006fa-aca2-4f33-c86e-19e3dbd58381"
   },
   "outputs": [
    {
     "data": {
      "text/plain": [
       "[<Experiment: artifact_location='file:///Users/monusingh/python-work/mle-work/mle-assignments/mle-work/assignments/week-07-intro-dl/nb/mlruns/0', creation_time=1675407197044, experiment_id='0', last_update_time=1675407197044, lifecycle_stage='active', name='Default', tags={}>]"
      ]
     },
     "execution_count": 90,
     "metadata": {},
     "output_type": "execute_result"
    }
   ],
   "source": [
    "from mlflow import MlflowClient\n",
    "client = MlflowClient()\n",
    "client.search_experiments() "
   ]
  },
  {
   "cell_type": "markdown",
   "metadata": {
    "id": "hU5LVdyi8W1F"
   },
   "source": [
    "2. Runs. \n",
    "\n",
    "   List information for runs that are under experiment '0' using [`mlflow.list_run_infos()`](https://www.mlflow.org/docs/latest/python_api/mlflow.html#mlflow.list_run_infos)."
   ]
  },
  {
   "cell_type": "code",
   "execution_count": 91,
   "metadata": {
    "colab": {
     "base_uri": "https://localhost:8080/"
    },
    "executionInfo": {
     "elapsed": 14,
     "status": "ok",
     "timestamp": 1663627946954,
     "user": {
      "displayName": "FLORA XU",
      "userId": "14641465521399406540"
     },
     "user_tz": 420
    },
    "id": "fjHYHCZSpd_Y",
    "outputId": "f640dce4-ac67-4aba-94b9-f07888823678"
   },
   "outputs": [
    {
     "data": {
      "text/plain": [
       "[<Run: data=<RunData: metrics={'loss': 1.8571208715438843, 'val_loss': 2.3679842948913574}, params={'batch_size': 'None',\n",
       "  'class_weight': 'None',\n",
       "  'epochs': '100',\n",
       "  'initial_epoch': '0',\n",
       "  'max_queue_size': '10',\n",
       "  'opt_amsgrad': 'False',\n",
       "  'opt_beta_1': '0.9',\n",
       "  'opt_beta_2': '0.999',\n",
       "  'opt_clipnorm': 'None',\n",
       "  'opt_clipvalue': 'None',\n",
       "  'opt_ema_momentum': '0.99',\n",
       "  'opt_ema_overwrite_frequency': 'None',\n",
       "  'opt_epsilon': '1e-07',\n",
       "  'opt_global_clipnorm': 'None',\n",
       "  'opt_is_legacy_optimizer': 'False',\n",
       "  'opt_jit_compile': 'False',\n",
       "  'opt_learning_rate': '0.001',\n",
       "  'opt_name': 'Adam',\n",
       "  'opt_use_ema': 'False',\n",
       "  'opt_weight_decay': 'None',\n",
       "  'sample_weight': 'None',\n",
       "  'shuffle': 'True',\n",
       "  'steps_per_epoch': 'None',\n",
       "  'use_multiprocessing': 'False',\n",
       "  'validation_batch_size': 'None',\n",
       "  'validation_freq': '1',\n",
       "  'validation_split': '0.2',\n",
       "  'validation_steps': 'None',\n",
       "  'workers': '1'}, tags={'mlflow.autologging': 'tensorflow',\n",
       "  'mlflow.log-model.history': '[{\"run_id\": \"a9c0ae9e530346859c52a9729559c05a\", '\n",
       "                              '\"artifact_path\": \"model\", \"utc_time_created\": '\n",
       "                              '\"2023-02-03 12:29:01.508814\", \"flavors\": '\n",
       "                              '{\"tensorflow\": {\"code\": null, \"data\": \"data\", '\n",
       "                              '\"model_type\": \"keras\", \"keras_version\": '\n",
       "                              '\"2.11.0\", \"save_format\": \"tf\"}, '\n",
       "                              '\"python_function\": {\"loader_module\": '\n",
       "                              '\"mlflow.tensorflow\", \"python_version\": \"3.9.12\", '\n",
       "                              '\"data\": \"data\", \"env\": {\"conda\": \"conda.yaml\", '\n",
       "                              '\"virtualenv\": \"python_env.yaml\"}}}, '\n",
       "                              '\"model_uuid\": '\n",
       "                              '\"c11817fa601c4a34b18a2fb639e15f80\", '\n",
       "                              '\"mlflow_version\": \"2.1.1\"}]',\n",
       "  'mlflow.runName': 'tasteful-trout-243',\n",
       "  'mlflow.source.name': '/Users/monusingh/opt/miniconda3/envs/venv-ml/lib/python3.9/site-packages/ipykernel_launcher.py',\n",
       "  'mlflow.source.type': 'LOCAL',\n",
       "  'mlflow.user': 'monusingh'}>, info=<RunInfo: artifact_uri='file:///Users/monusingh/python-work/mle-work/mle-assignments/mle-work/assignments/week-07-intro-dl/nb/mlruns/0/a9c0ae9e530346859c52a9729559c05a/artifacts', end_time=1675427346241, experiment_id='0', lifecycle_stage='active', run_id='a9c0ae9e530346859c52a9729559c05a', run_name='tasteful-trout-243', run_uuid='a9c0ae9e530346859c52a9729559c05a', start_time=1675427339869, status='FINISHED', user_id='monusingh'>>,\n",
       " <Run: data=<RunData: metrics={'loss': 1.7481887340545654, 'val_loss': 2.1413686275482178}, params={'batch_size': 'None',\n",
       "  'class_weight': 'None',\n",
       "  'epochs': '100',\n",
       "  'initial_epoch': '0',\n",
       "  'max_queue_size': '10',\n",
       "  'opt_amsgrad': 'False',\n",
       "  'opt_beta_1': '0.9',\n",
       "  'opt_beta_2': '0.999',\n",
       "  'opt_clipnorm': 'None',\n",
       "  'opt_clipvalue': 'None',\n",
       "  'opt_ema_momentum': '0.99',\n",
       "  'opt_ema_overwrite_frequency': 'None',\n",
       "  'opt_epsilon': '1e-07',\n",
       "  'opt_global_clipnorm': 'None',\n",
       "  'opt_is_legacy_optimizer': 'False',\n",
       "  'opt_jit_compile': 'False',\n",
       "  'opt_learning_rate': '0.001',\n",
       "  'opt_name': 'Adam',\n",
       "  'opt_use_ema': 'False',\n",
       "  'opt_weight_decay': 'None',\n",
       "  'sample_weight': 'None',\n",
       "  'shuffle': 'True',\n",
       "  'steps_per_epoch': 'None',\n",
       "  'use_multiprocessing': 'False',\n",
       "  'validation_batch_size': 'None',\n",
       "  'validation_freq': '1',\n",
       "  'validation_split': '0.2',\n",
       "  'validation_steps': 'None',\n",
       "  'workers': '1'}, tags={'mlflow.autologging': 'tensorflow',\n",
       "  'mlflow.log-model.history': '[{\"run_id\": \"4b3292fc144a4247b0ebbf0d0c03dd04\", '\n",
       "                              '\"artifact_path\": \"model\", \"utc_time_created\": '\n",
       "                              '\"2023-02-03 11:22:48.898769\", \"flavors\": '\n",
       "                              '{\"tensorflow\": {\"code\": null, \"data\": \"data\", '\n",
       "                              '\"model_type\": \"keras\", \"keras_version\": '\n",
       "                              '\"2.11.0\", \"save_format\": \"tf\"}, '\n",
       "                              '\"python_function\": {\"loader_module\": '\n",
       "                              '\"mlflow.tensorflow\", \"python_version\": \"3.9.12\", '\n",
       "                              '\"data\": \"data\", \"env\": {\"conda\": \"conda.yaml\", '\n",
       "                              '\"virtualenv\": \"python_env.yaml\"}}}, '\n",
       "                              '\"model_uuid\": '\n",
       "                              '\"713e6f87a5224d8f98283c49f3a486ea\", '\n",
       "                              '\"mlflow_version\": \"2.1.1\"}]',\n",
       "  'mlflow.runName': 'judicious-gnu-44',\n",
       "  'mlflow.source.name': '/Users/monusingh/opt/miniconda3/envs/venv-ml/lib/python3.9/site-packages/ipykernel_launcher.py',\n",
       "  'mlflow.source.type': 'LOCAL',\n",
       "  'mlflow.user': 'monusingh'}>, info=<RunInfo: artifact_uri='file:///Users/monusingh/python-work/mle-work/mle-assignments/mle-work/assignments/week-07-intro-dl/nb/mlruns/0/4b3292fc144a4247b0ebbf0d0c03dd04/artifacts', end_time=1675423374034, experiment_id='0', lifecycle_stage='active', run_id='4b3292fc144a4247b0ebbf0d0c03dd04', run_name='judicious-gnu-44', run_uuid='4b3292fc144a4247b0ebbf0d0c03dd04', start_time=1675423367201, status='FINISHED', user_id='monusingh'>>,\n",
       " <Run: data=<RunData: metrics={'loss': 1.6798086166381836, 'val_loss': 2.1067683696746826}, params={'batch_size': 'None',\n",
       "  'class_weight': 'None',\n",
       "  'epochs': '100',\n",
       "  'initial_epoch': '0',\n",
       "  'max_queue_size': '10',\n",
       "  'opt_amsgrad': 'False',\n",
       "  'opt_beta_1': '0.9',\n",
       "  'opt_beta_2': '0.999',\n",
       "  'opt_clipnorm': 'None',\n",
       "  'opt_clipvalue': 'None',\n",
       "  'opt_ema_momentum': '0.99',\n",
       "  'opt_ema_overwrite_frequency': 'None',\n",
       "  'opt_epsilon': '1e-07',\n",
       "  'opt_global_clipnorm': 'None',\n",
       "  'opt_is_legacy_optimizer': 'False',\n",
       "  'opt_jit_compile': 'False',\n",
       "  'opt_learning_rate': '0.001',\n",
       "  'opt_name': 'Adam',\n",
       "  'opt_use_ema': 'False',\n",
       "  'opt_weight_decay': 'None',\n",
       "  'sample_weight': 'None',\n",
       "  'shuffle': 'True',\n",
       "  'steps_per_epoch': 'None',\n",
       "  'use_multiprocessing': 'False',\n",
       "  'validation_batch_size': 'None',\n",
       "  'validation_freq': '1',\n",
       "  'validation_split': '0.2',\n",
       "  'validation_steps': 'None',\n",
       "  'workers': '1'}, tags={'mlflow.autologging': 'tensorflow',\n",
       "  'mlflow.log-model.history': '[{\"run_id\": \"78d8192abbe3483aac83344997001041\", '\n",
       "                              '\"artifact_path\": \"model\", \"utc_time_created\": '\n",
       "                              '\"2023-02-03 06:58:54.802163\", \"flavors\": '\n",
       "                              '{\"tensorflow\": {\"code\": null, \"data\": \"data\", '\n",
       "                              '\"model_type\": \"keras\", \"keras_version\": '\n",
       "                              '\"2.11.0\", \"save_format\": \"tf\"}, '\n",
       "                              '\"python_function\": {\"loader_module\": '\n",
       "                              '\"mlflow.tensorflow\", \"python_version\": \"3.9.12\", '\n",
       "                              '\"data\": \"data\", \"env\": {\"conda\": \"conda.yaml\", '\n",
       "                              '\"virtualenv\": \"python_env.yaml\"}}}, '\n",
       "                              '\"model_uuid\": '\n",
       "                              '\"c99d1fbca7804e9f9c33643b84368869\", '\n",
       "                              '\"mlflow_version\": \"2.1.1\"}]',\n",
       "  'mlflow.runName': 'blushing-turtle-748',\n",
       "  'mlflow.source.name': '/Users/monusingh/opt/miniconda3/envs/venv-ml/lib/python3.9/site-packages/ipykernel_launcher.py',\n",
       "  'mlflow.source.type': 'LOCAL',\n",
       "  'mlflow.user': 'monusingh'}>, info=<RunInfo: artifact_uri='file:///Users/monusingh/python-work/mle-work/mle-assignments/mle-work/assignments/week-07-intro-dl/nb/mlruns/0/78d8192abbe3483aac83344997001041/artifacts', end_time=1675407540628, experiment_id='0', lifecycle_stage='active', run_id='78d8192abbe3483aac83344997001041', run_name='blushing-turtle-748', run_uuid='78d8192abbe3483aac83344997001041', start_time=1675407532163, status='FINISHED', user_id='monusingh'>>,\n",
       " <Run: data=<RunData: metrics={'loss': 2.524613618850708, 'val_loss': 2.456190586090088}, params={'batch_size': 'None',\n",
       "  'class_weight': 'None',\n",
       "  'epochs': '100',\n",
       "  'initial_epoch': '0',\n",
       "  'max_queue_size': '10',\n",
       "  'opt_amsgrad': 'False',\n",
       "  'opt_beta_1': '0.9',\n",
       "  'opt_beta_2': '0.999',\n",
       "  'opt_clipnorm': 'None',\n",
       "  'opt_clipvalue': 'None',\n",
       "  'opt_ema_momentum': '0.99',\n",
       "  'opt_ema_overwrite_frequency': 'None',\n",
       "  'opt_epsilon': '1e-07',\n",
       "  'opt_global_clipnorm': 'None',\n",
       "  'opt_is_legacy_optimizer': 'False',\n",
       "  'opt_jit_compile': 'False',\n",
       "  'opt_learning_rate': '0.1',\n",
       "  'opt_name': 'Adam',\n",
       "  'opt_use_ema': 'False',\n",
       "  'opt_weight_decay': 'None',\n",
       "  'sample_weight': 'None',\n",
       "  'shuffle': 'True',\n",
       "  'steps_per_epoch': 'None',\n",
       "  'use_multiprocessing': 'False',\n",
       "  'validation_batch_size': 'None',\n",
       "  'validation_freq': '1',\n",
       "  'validation_split': '0.2',\n",
       "  'validation_steps': 'None',\n",
       "  'workers': '1'}, tags={'mlflow.autologging': 'tensorflow',\n",
       "  'mlflow.log-model.history': '[{\"run_id\": \"497d8993e90f483f905025f0b80e6d42\", '\n",
       "                              '\"artifact_path\": \"model\", \"utc_time_created\": '\n",
       "                              '\"2023-02-03 06:53:19.742499\", \"flavors\": '\n",
       "                              '{\"tensorflow\": {\"code\": null, \"data\": \"data\", '\n",
       "                              '\"model_type\": \"keras\", \"keras_version\": '\n",
       "                              '\"2.11.0\", \"save_format\": \"tf\"}, '\n",
       "                              '\"python_function\": {\"loader_module\": '\n",
       "                              '\"mlflow.tensorflow\", \"python_version\": \"3.9.12\", '\n",
       "                              '\"data\": \"data\", \"env\": {\"conda\": \"conda.yaml\", '\n",
       "                              '\"virtualenv\": \"python_env.yaml\"}}}, '\n",
       "                              '\"model_uuid\": '\n",
       "                              '\"67eae2ba13024d96b1a67fc88a7c3c33\", '\n",
       "                              '\"mlflow_version\": \"2.1.1\"}]',\n",
       "  'mlflow.runName': 'carefree-mule-717',\n",
       "  'mlflow.source.name': '/Users/monusingh/opt/miniconda3/envs/venv-ml/lib/python3.9/site-packages/ipykernel_launcher.py',\n",
       "  'mlflow.source.type': 'LOCAL',\n",
       "  'mlflow.user': 'monusingh'}>, info=<RunInfo: artifact_uri='file:///Users/monusingh/python-work/mle-work/mle-assignments/mle-work/assignments/week-07-intro-dl/nb/mlruns/0/497d8993e90f483f905025f0b80e6d42/artifacts', end_time=1675407206505, experiment_id='0', lifecycle_stage='active', run_id='497d8993e90f483f905025f0b80e6d42', run_name='carefree-mule-717', run_uuid='497d8993e90f483f905025f0b80e6d42', start_time=1675407197165, status='FINISHED', user_id='monusingh'>>]"
      ]
     },
     "execution_count": 91,
     "metadata": {},
     "output_type": "execute_result"
    }
   ],
   "source": [
    "# YOUR CODE HERE\n",
    "client.search_runs('0')"
   ]
  },
  {
   "cell_type": "markdown",
   "metadata": {
    "id": "l74ail7H8W1F"
   },
   "source": [
    "3. Retrieve the currently active run, i.e., the DNN model. Hint: `mlflow.last_active_run()` "
   ]
  },
  {
   "cell_type": "code",
   "execution_count": 93,
   "metadata": {
    "executionInfo": {
     "elapsed": 266,
     "status": "ok",
     "timestamp": 1663627947216,
     "user": {
      "displayName": "FLORA XU",
      "userId": "14641465521399406540"
     },
     "user_tz": 420
    },
    "id": "25LDySIXetDJ"
   },
   "outputs": [],
   "source": [
    "autolog_run = mlflow.last_active_run() # YOUR CODE HERE"
   ]
  },
  {
   "cell_type": "markdown",
   "metadata": {
    "id": "lNbi3mfZ8W1G"
   },
   "source": [
    "4. Use function `print_auto_logged_info` provided below to fetch the auto logged parameters and metrics for `autolog_run`. "
   ]
  },
  {
   "cell_type": "code",
   "execution_count": 94,
   "metadata": {
    "code_folding": [
     1
    ],
    "executionInfo": {
     "elapsed": 25,
     "status": "ok",
     "timestamp": 1663627947217,
     "user": {
      "displayName": "FLORA XU",
      "userId": "14641465521399406540"
     },
     "user_tz": 420
    },
    "id": "tejN3IaiqzNn"
   },
   "outputs": [],
   "source": [
    "import json\n",
    "def print_auto_logged_info(r):\n",
    "    tags = {k: v for k, v in r.data.tags.items() if not k.startswith(\"mlflow.\")}\n",
    "    artifacts = [f.path for f in MlflowClient().list_artifacts(r.info.run_id, \"model\")]\n",
    "    print(\"run_id: {}\".format(r.info.run_id))\n",
    "    print(\"artifacts: {}\".format(artifacts))\n",
    "    print(\"params: {}\".format(json.dumps(r.data.params, indent=4)))\n",
    "    print(\"metrics: {}\".format(r.data.metrics))\n",
    "    print(\"tags: {}\".format(tags))"
   ]
  },
  {
   "cell_type": "code",
   "execution_count": 95,
   "metadata": {
    "colab": {
     "base_uri": "https://localhost:8080/"
    },
    "executionInfo": {
     "elapsed": 24,
     "status": "ok",
     "timestamp": 1663627947217,
     "user": {
      "displayName": "FLORA XU",
      "userId": "14641465521399406540"
     },
     "user_tz": 420
    },
    "id": "pbo72KK3q1KS",
    "outputId": "80d7ae78-d986-4eb9-b239-6e59ef5824f2"
   },
   "outputs": [
    {
     "name": "stdout",
     "output_type": "stream",
     "text": [
      "run_id: a9c0ae9e530346859c52a9729559c05a\n",
      "artifacts: ['model/MLmodel', 'model/conda.yaml', 'model/data', 'model/python_env.yaml', 'model/requirements.txt']\n",
      "params: {\n",
      "    \"opt_ema_momentum\": \"0.99\",\n",
      "    \"opt_epsilon\": \"1e-07\",\n",
      "    \"opt_clipvalue\": \"None\",\n",
      "    \"validation_freq\": \"1\",\n",
      "    \"validation_steps\": \"None\",\n",
      "    \"shuffle\": \"True\",\n",
      "    \"use_multiprocessing\": \"False\",\n",
      "    \"opt_jit_compile\": \"False\",\n",
      "    \"opt_is_legacy_optimizer\": \"False\",\n",
      "    \"sample_weight\": \"None\",\n",
      "    \"initial_epoch\": \"0\",\n",
      "    \"max_queue_size\": \"10\",\n",
      "    \"validation_batch_size\": \"None\",\n",
      "    \"class_weight\": \"None\",\n",
      "    \"opt_beta_2\": \"0.999\",\n",
      "    \"validation_split\": \"0.2\",\n",
      "    \"opt_weight_decay\": \"None\",\n",
      "    \"steps_per_epoch\": \"None\",\n",
      "    \"epochs\": \"100\",\n",
      "    \"opt_name\": \"Adam\",\n",
      "    \"opt_amsgrad\": \"False\",\n",
      "    \"opt_use_ema\": \"False\",\n",
      "    \"opt_clipnorm\": \"None\",\n",
      "    \"batch_size\": \"None\",\n",
      "    \"workers\": \"1\",\n",
      "    \"opt_learning_rate\": \"0.001\",\n",
      "    \"opt_global_clipnorm\": \"None\",\n",
      "    \"opt_ema_overwrite_frequency\": \"None\",\n",
      "    \"opt_beta_1\": \"0.9\"\n",
      "}\n",
      "metrics: {'val_loss': 2.3679842948913574, 'loss': 1.8571208715438843}\n",
      "tags: {}\n"
     ]
    }
   ],
   "source": [
    "print_auto_logged_info(\n",
    "    # YOUR CODE HERE\n",
    "    autolog_run\n",
    "    ) "
   ]
  },
  {
   "cell_type": "markdown",
   "metadata": {
    "id": "9BeuP-WP8W1G"
   },
   "source": [
    "5. Optional. Retrieve the best run using [MlflowClient().search_runs()](https://www.mlflow.org/docs/latest/search-runs.html#python)."
   ]
  },
  {
   "cell_type": "code",
   "execution_count": 97,
   "metadata": {
    "executionInfo": {
     "elapsed": 23,
     "status": "ok",
     "timestamp": 1663627947217,
     "user": {
      "displayName": "FLORA XU",
      "userId": "14641465521399406540"
     },
     "user_tz": 420
    },
    "id": "AmIpgSJbsFD8"
   },
   "outputs": [],
   "source": [
    "runs = client.search_runs(\n",
    "    experiment_ids='0',\n",
    "    max_results=1,\n",
    "    order_by=['metrics.accuracy DESC']\n",
    ") # YOUR CODE HERE"
   ]
  },
  {
   "cell_type": "code",
   "execution_count": 98,
   "metadata": {
    "colab": {
     "base_uri": "https://localhost:8080/"
    },
    "executionInfo": {
     "elapsed": 23,
     "status": "ok",
     "timestamp": 1663627947217,
     "user": {
      "displayName": "FLORA XU",
      "userId": "14641465521399406540"
     },
     "user_tz": 420
    },
    "id": "vh1zQTm3s0P5",
    "outputId": "6f722aeb-d1b1-4c7f-e8ca-3a3e3c407521"
   },
   "outputs": [
    {
     "data": {
      "text/plain": [
       "<Run: data=<RunData: metrics={'loss': 1.8571208715438843, 'val_loss': 2.3679842948913574}, params={'batch_size': 'None',\n",
       " 'class_weight': 'None',\n",
       " 'epochs': '100',\n",
       " 'initial_epoch': '0',\n",
       " 'max_queue_size': '10',\n",
       " 'opt_amsgrad': 'False',\n",
       " 'opt_beta_1': '0.9',\n",
       " 'opt_beta_2': '0.999',\n",
       " 'opt_clipnorm': 'None',\n",
       " 'opt_clipvalue': 'None',\n",
       " 'opt_ema_momentum': '0.99',\n",
       " 'opt_ema_overwrite_frequency': 'None',\n",
       " 'opt_epsilon': '1e-07',\n",
       " 'opt_global_clipnorm': 'None',\n",
       " 'opt_is_legacy_optimizer': 'False',\n",
       " 'opt_jit_compile': 'False',\n",
       " 'opt_learning_rate': '0.001',\n",
       " 'opt_name': 'Adam',\n",
       " 'opt_use_ema': 'False',\n",
       " 'opt_weight_decay': 'None',\n",
       " 'sample_weight': 'None',\n",
       " 'shuffle': 'True',\n",
       " 'steps_per_epoch': 'None',\n",
       " 'use_multiprocessing': 'False',\n",
       " 'validation_batch_size': 'None',\n",
       " 'validation_freq': '1',\n",
       " 'validation_split': '0.2',\n",
       " 'validation_steps': 'None',\n",
       " 'workers': '1'}, tags={'mlflow.autologging': 'tensorflow',\n",
       " 'mlflow.log-model.history': '[{\"run_id\": \"a9c0ae9e530346859c52a9729559c05a\", '\n",
       "                             '\"artifact_path\": \"model\", \"utc_time_created\": '\n",
       "                             '\"2023-02-03 12:29:01.508814\", \"flavors\": '\n",
       "                             '{\"tensorflow\": {\"code\": null, \"data\": \"data\", '\n",
       "                             '\"model_type\": \"keras\", \"keras_version\": '\n",
       "                             '\"2.11.0\", \"save_format\": \"tf\"}, '\n",
       "                             '\"python_function\": {\"loader_module\": '\n",
       "                             '\"mlflow.tensorflow\", \"python_version\": \"3.9.12\", '\n",
       "                             '\"data\": \"data\", \"env\": {\"conda\": \"conda.yaml\", '\n",
       "                             '\"virtualenv\": \"python_env.yaml\"}}}, '\n",
       "                             '\"model_uuid\": '\n",
       "                             '\"c11817fa601c4a34b18a2fb639e15f80\", '\n",
       "                             '\"mlflow_version\": \"2.1.1\"}]',\n",
       " 'mlflow.runName': 'tasteful-trout-243',\n",
       " 'mlflow.source.name': '/Users/monusingh/opt/miniconda3/envs/venv-ml/lib/python3.9/site-packages/ipykernel_launcher.py',\n",
       " 'mlflow.source.type': 'LOCAL',\n",
       " 'mlflow.user': 'monusingh'}>, info=<RunInfo: artifact_uri='file:///Users/monusingh/python-work/mle-work/mle-assignments/mle-work/assignments/week-07-intro-dl/nb/mlruns/0/a9c0ae9e530346859c52a9729559c05a/artifacts', end_time=1675427346241, experiment_id='0', lifecycle_stage='active', run_id='a9c0ae9e530346859c52a9729559c05a', run_name='tasteful-trout-243', run_uuid='a9c0ae9e530346859c52a9729559c05a', start_time=1675427339869, status='FINISHED', user_id='monusingh'>>"
      ]
     },
     "execution_count": 98,
     "metadata": {},
     "output_type": "execute_result"
    }
   ],
   "source": [
    "runs[0]"
   ]
  },
  {
   "cell_type": "markdown",
   "metadata": {
    "id": "b-EgegmM8W1G"
   },
   "source": [
    "6. To see what's logged in the file system `/content/mlruns/`, click tab `files` in the left sidepanel in Colab. For example, \n",
    "    ```\n",
    "    mlruns\n",
    "    └── 0\n",
    "        ├── 3a5aebdd35ef46fb8dc35b40e542f0a4\n",
    "        │   ├── artifacts\n",
    "        │   ├── meta.yaml\n",
    "        │   ├── metrics\n",
    "        │   ├── params\n",
    "        │   └── tags\n",
    "        ├── c627bc526c4a4c418a8285627e61a16d\n",
    "        │   ├── artifacts\n",
    "        │   ├── meta.yaml\n",
    "        │   ├── metrics\n",
    "        │   ├── params\n",
    "        │   └── tags\n",
    "        └── meta.yaml\n",
    "\n",
    "    11 directories, 3 files\n",
    "    ```\n",
    "\n",
    "    Inspect the model summary of the DNN model you ran previously; it is located at `artifacts/model_summary.txt` of the corresponding run. Use `cat $filepath`. "
   ]
  },
  {
   "cell_type": "code",
   "execution_count": 110,
   "metadata": {
    "colab": {
     "base_uri": "https://localhost:8080/"
    },
    "executionInfo": {
     "elapsed": 231,
     "status": "ok",
     "timestamp": 1663628162645,
     "user": {
      "displayName": "FLORA XU",
      "userId": "14641465521399406540"
     },
     "user_tz": 420
    },
    "id": "_MQfSU1guWB5",
    "outputId": "acfa04ce-af8f-4381-a1c1-81f8b64511a9"
   },
   "outputs": [
    {
     "name": "stdout",
     "output_type": "stream",
     "text": [
      "\u001b[34m497d8993e90f483f905025f0b80e6d42\u001b[m\u001b[m \u001b[34ma9c0ae9e530346859c52a9729559c05a\u001b[m\u001b[m\n",
      "\u001b[34m4b3292fc144a4247b0ebbf0d0c03dd04\u001b[m\u001b[m meta.yaml\n",
      "\u001b[34m78d8192abbe3483aac83344997001041\u001b[m\u001b[m\n",
      "Model: \"sequential_2\"\n",
      "_________________________________________________________________\n",
      " Layer (type)                Output Shape              Param #   \n",
      "=================================================================\n",
      " normalization (Normalizatio  (None, 9)                19        \n",
      " n)                                                              \n",
      "                                                                 \n",
      " dense_4 (Dense)             (None, 64)                640       \n",
      "                                                                 \n",
      " dense_5 (Dense)             (None, 64)                4160      \n",
      "                                                                 \n",
      " dense_6 (Dense)             (None, 1)                 65        \n",
      "                                                                 \n",
      "=================================================================\n",
      "Total params: 4,884\n",
      "Trainable params: 4,865\n",
      "Non-trainable params: 19\n",
      "_________________________________________________________________"
     ]
    }
   ],
   "source": [
    "# YOUR CODE HERE (bash)\n",
    "!ls ./mlruns/0/\n",
    "!cat ./mlruns/0/4b3292fc144a4247b0ebbf0d0c03dd04/artifacts/model_summary.txt"
   ]
  },
  {
   "cell_type": "markdown",
   "metadata": {
    "id": "dZp8rnL0pBnh"
   },
   "source": [
    "7. Tracking UI. \n",
    "\n",
    "    MLflow provides an UI for us to visualize, search and compare runs, as well as download run artifacts or metadata for analysis in other tools. \n",
    "\n",
    "    If your runs are logged to a local mlruns directory, run `mlflow ui` in the directory above it will load the corresponding runs. \n",
    "    \n",
    "    Running localhost server in Colab, however, requires a bit of extra work:\n",
    "    - set up a free account on [ngrok](https://dashboard.ngrok.com/get-started/setup)\n",
    "    - retrieve the authtoken from https://dashboard.ngrok.com/auth and update the code cell below\n",
    "    \n",
    "   **NOTE**. NEVER share your secrets. Best to keep `NGROK_AUTH_TOKEN` as an environment variable and retrieve it via `os.environ.get(\"NGROK_AUTH_TOKEN\")`."
   ]
  },
  {
   "attachments": {},
   "cell_type": "markdown",
   "metadata": {},
   "source": [
    "- open ~/.bash_profile\n",
    "- Edit the bash profile with text editor by Putting export NGROK_AUTH_TOKEN='TOKEN'\n",
    "- source ~/.bash_profile\n",
    "- echo $NGROK_AUTH_TOKEN"
   ]
  },
  {
   "cell_type": "code",
   "execution_count": 127,
   "metadata": {},
   "outputs": [
    {
     "name": "stdout",
     "output_type": "stream",
     "text": [
      "None\n"
     ]
    }
   ],
   "source": [
    "import os\n",
    "# os.environ['NGROK_AUTH_TOKEN']\n",
    "!echo $NGROK_AUTH_TOKEN "
   ]
  },
  {
   "cell_type": "code",
   "execution_count": 129,
   "metadata": {
    "colab": {
     "base_uri": "https://localhost:8080/"
    },
    "executionInfo": {
     "elapsed": 2484,
     "status": "ok",
     "timestamp": 1663627949693,
     "user": {
      "displayName": "FLORA XU",
      "userId": "14641465521399406540"
     },
     "user_tz": 420
    },
    "id": "E0M6y71efq1I",
    "outputId": "d09242f5-d76b-4f63-8758-248cf60f3228"
   },
   "outputs": [
    {
     "name": "stderr",
     "output_type": "stream",
     "text": [
      "[2023-02-03 18:36:02 +0530] [36166] [INFO] Starting gunicorn 20.1.0\n",
      "[2023-02-03 18:36:02 +0530] [36166] [ERROR] Connection in use: ('127.0.0.1', 5000)\n",
      "[2023-02-03 18:36:02 +0530] [36166] [ERROR] Retrying in 1 second.\n"
     ]
    },
    {
     "name": "stdout",
     "output_type": "stream",
     "text": [
      "MLflow Tracking UI: https://a347-101-0-62-143.ngrok.io\n"
     ]
    },
    {
     "name": "stderr",
     "output_type": "stream",
     "text": [
      "[2023-02-03 18:36:03 +0530] [36166] [ERROR] Connection in use: ('127.0.0.1', 5000)\n",
      "[2023-02-03 18:36:03 +0530] [36166] [ERROR] Retrying in 1 second.\n",
      "[2023-02-03 18:36:04 +0530] [36166] [ERROR] Connection in use: ('127.0.0.1', 5000)\n",
      "[2023-02-03 18:36:04 +0530] [36166] [ERROR] Retrying in 1 second.\n",
      "[2023-02-03 18:36:05 +0530] [36166] [ERROR] Connection in use: ('127.0.0.1', 5000)\n",
      "[2023-02-03 18:36:05 +0530] [36166] [ERROR] Retrying in 1 second.\n",
      "[2023-02-03 18:36:06 +0530] [36166] [ERROR] Connection in use: ('127.0.0.1', 5000)\n",
      "[2023-02-03 18:36:06 +0530] [36166] [ERROR] Retrying in 1 second.\n",
      "[2023-02-03 18:36:07 +0530] [36166] [ERROR] Can't connect to ('127.0.0.1', 5000)\n",
      "Running the mlflow server failed. Please see the logs above for details.\n"
     ]
    }
   ],
   "source": [
    "# run tracking UI in the background\n",
    "get_ipython().system_raw(\"mlflow ui --port 5000 &\") \n",
    "\n",
    "# create remote tunnel using ngrok.com to allow local port access\n",
    "from pyngrok import ngrok\n",
    "# Terminate open tunnels if exist\n",
    "ngrok.kill()\n",
    "\n",
    "# Setting the authtoken (see Note above)\n",
    "NGROK_AUTH_TOKEN = \"2LB5zWR0gvmSY0LofZAfoEGEvQl_4WQ2HhiPTzomBfWpqo3pT\"  # YOUR CODE HERE\n",
    "ngrok.set_auth_token(NGROK_AUTH_TOKEN)\n",
    "\n",
    "# Open an HTTPs tunnel on port 5000 for http://localhost:5000\n",
    "ngrok_tunnel = ngrok.connect(addr=\"5000\", proto=\"http\", bind_tls=True)\n",
    "print(\"MLflow Tracking UI:\", ngrok_tunnel.public_url)"
   ]
  },
  {
   "cell_type": "markdown",
   "metadata": {
    "id": "4_kE6F5t8W1H"
   },
   "source": [
    "8. Interact with Tracking UI. \n",
    "\n",
    "    Open the link, output from the previous cell. get oriented, `Parameters`, `Metrics`, `Artifacts`, and so on.\n",
    "    \n",
    "    When you are done, make sure to terminate the open tunnel:"
   ]
  },
  {
   "cell_type": "code",
   "execution_count": 130,
   "metadata": {
    "id": "k0aY2xWOFAvM"
   },
   "outputs": [],
   "source": [
    "ngrok.kill()"
   ]
  },
  {
   "cell_type": "markdown",
   "metadata": {
    "id": "06DnCpbACGNM"
   },
   "source": [
    "# Task 8 - AutoML with TPOT 🫖"
   ]
  },
  {
   "cell_type": "markdown",
   "metadata": {
    "id": "djIwpag8DsEu"
   },
   "source": [
    "1. Instantiate and train a TPOT auto-ML regressor.\n",
    "\n",
    "  The parameters are set fairly arbitrarily (if time permits, you shall experiment with different sets of parameters after reading [what each parameter does](http://epistasislab.github.io/tpot/api/#regression)). Use these parameter values:\n",
    "\n",
    "  `generations`: 10\n",
    "\n",
    "  `population_size`: 40\n",
    "\n",
    "  `scoring`: negative mean absolute error; read more in [scoring functions in TPOT](http://epistasislab.github.io/tpot/using/#scoring-functions)\n",
    "\n",
    "  `verbosity`: 2 (so you can see each generation's performance)\n",
    "\n",
    "  The final line with create a Python script tpot_products_pipeline.py with the code to create the optimal model found by TPOT."
   ]
  },
  {
   "cell_type": "code",
   "execution_count": 131,
   "metadata": {
    "colab": {
     "base_uri": "https://localhost:8080/",
     "height": 448,
     "referenced_widgets": [
      "f0639c63a42e4724b1093c10a0495606",
      "795ad58f335e4f5a8a2cf188b6c27891",
      "810efda3ce3a487c8562223a6c3109e9",
      "79366c8022e74226bfe2768e5d9e6ee1",
      "b2be8f74181f4f67b17d04c73a30cc12",
      "48ace3fbd1864095b2e801fc7d81f331",
      "c1a60f46c54343638707335cacb0de7f",
      "76363a3fc90e46b1b040a21e9eaa21f1",
      "8a107efdc33440c9ba472e2c17b95ea7",
      "2dbf5b2c7f974f35a488307eac5f19aa",
      "c9c8b7507a9e43a0b42f9119d1c58a8c"
     ]
    },
    "id": "IvJpNXHg_RS5",
    "outputId": "43e6861e-c385-4c4f-f343-c5ac5bf9d853"
   },
   "outputs": [
    {
     "name": "stderr",
     "output_type": "stream",
     "text": [
      "/Users/monusingh/opt/miniconda3/envs/venv-ml/lib/python3.9/site-packages/tpot/builtins/__init__.py:36: UserWarning: Warning: optional dependency `torch` is not available. - skipping import of NN models.\n",
      "  warnings.warn(\"Warning: optional dependency `torch` is not available. - skipping import of NN models.\")\n"
     ]
    },
    {
     "data": {
      "application/vnd.jupyter.widget-view+json": {
       "model_id": "89deba1d2f6045488f821e2a21cd9823",
       "version_major": 2,
       "version_minor": 0
      },
      "text/plain": [
       "Optimization Progress:   0%|          | 0/440 [00:00<?, ?pipeline/s]"
      ]
     },
     "metadata": {},
     "output_type": "display_data"
    },
    {
     "name": "stdout",
     "output_type": "stream",
     "text": [
      "\n",
      "Generation 1 - Current best internal CV score: -2.0480891616575465\n",
      "\n",
      "Generation 2 - Current best internal CV score: -2.041767911778176\n",
      "\n",
      "Generation 3 - Current best internal CV score: -2.00709058962644\n",
      "\n",
      "Generation 4 - Current best internal CV score: -2.00709058962644\n",
      "\n",
      "Generation 5 - Current best internal CV score: -2.00709058962644\n",
      "\n",
      "Generation 6 - Current best internal CV score: -1.9939110226125645\n",
      "\n",
      "Generation 7 - Current best internal CV score: -1.9493558833784406\n",
      "\n",
      "Generation 8 - Current best internal CV score: -1.9493558833784406\n",
      "\n",
      "Generation 9 - Current best internal CV score: -1.9493558833784406\n",
      "\n",
      "Generation 10 - Current best internal CV score: -1.9493558833784406\n",
      "\n",
      "Best pipeline: ExtraTreesRegressor(input_matrix, bootstrap=False, max_features=0.9500000000000001, min_samples_leaf=1, min_samples_split=8, n_estimators=100)\n",
      "Tpop score on test data: -1.70\n",
      "CPU times: user 6min 26s, sys: 1min 43s, total: 8min 9s\n",
      "Wall time: 3min 43s\n"
     ]
    },
    {
     "name": "stderr",
     "output_type": "stream",
     "text": [
      "/Users/monusingh/opt/miniconda3/envs/venv-ml/lib/python3.9/site-packages/sklearn/metrics/_scorer.py:765: FutureWarning: sklearn.metrics.SCORERS is deprecated and will be removed in v1.3. Please use sklearn.metrics.get_scorer_names to get a list of available scorers and sklearn.metrics.get_metric to get scorer.\n",
      "  warnings.warn(\n"
     ]
    }
   ],
   "source": [
    "%%time\n",
    "from tpot import TPOTRegressor\n",
    "tpot = TPOTRegressor(generations=10, \n",
    "                     population_size=40,\n",
    "                     scoring='neg_mean_absolute_error', # YOUR CODE HERE\n",
    "                     verbosity=2,\n",
    "                     random_state=42)\n",
    "tpot.fit(train_features, train_labels)\n",
    "print(f\"Tpop score on test data: {tpot.score(test_features, test_labels):.2f}\")\n",
    "tpot.export('tpot_mpg_pipeline.py')"
   ]
  },
  {
   "cell_type": "markdown",
   "metadata": {
    "id": "1Ne0SBfZIwsF"
   },
   "source": [
    "2. Examine the model pipeline that TPOT regressor offers. If you see any model, function, or class that are not familiar, look them up! \n",
    "\n",
    "  Note: There is randomness to the way the TPOT searches, so it's possible you won't have exactly the same result as your classmate. "
   ]
  },
  {
   "cell_type": "markdown",
   "metadata": {
    "id": "hNsj_X6zJzb5"
   },
   "source": [
    "3. Take the appropriate lines (e.g., updating path to data and the variable names) from `tpot_mpg_pipeline.py` to build a model on our training set and make predictions on the test set. \n",
    "Save the predictions as `y_pred`, and compute appropriate evaluation metric. \n",
    "You may find that for this simple data set, the neural network we built outperforms the tree-based model, yet note it is not a conclusion that we can generalize for all tabular data. "
   ]
  },
  {
   "cell_type": "code",
   "execution_count": null,
   "metadata": {},
   "outputs": [],
   "source": []
  },
  {
   "cell_type": "code",
   "execution_count": null,
   "metadata": {},
   "outputs": [],
   "source": []
  },
  {
   "cell_type": "markdown",
   "metadata": {
    "id": "aUEekD-ZtmWL"
   },
   "source": [
    "# Task 9 - Model Explainability\n",
    "\n",
    "Last week, we introduced model explainability with SHAP and will continue to incorporate it as part our model output this week.  You can use the [Kernel Explainer](https://shap.readthedocs.io/en/latest/example_notebooks/tabular_examples/neural_networks/Census%20income%20classification%20with%20Keras.html) for explainability of both the Neural Networks and the TPOT classifier.  "
   ]
  },
  {
   "cell_type": "code",
   "execution_count": null,
   "metadata": {
    "colab": {
     "base_uri": "https://localhost:8080/",
     "height": 75,
     "referenced_widgets": [
      "72a2425764674ce190927fbbf3b081a1",
      "d9f6d54ab402459b81ba65ca8f73f58e",
      "66562df157104520aba66096e0110b6d",
      "0b8e29c1645d42afa585020fa0df67ae",
      "74d2ed5b965b4ecfbcf3b10ffb4486cf",
      "6a044954b19e4a28943c579fee0e3a18",
      "6171c78fcfc7416784fedd151719857f",
      "4762b74087844de687777a36962ed590",
      "42312548e6be4e049a3300c1463a74df",
      "1e6b41d169ed44799d95ded612c4ffbf",
      "025e808948034d0c91e2b20b0918da0e"
     ]
    },
    "id": "80mtSb2mtmWL",
    "outputId": "e34b2e1a-c6a8-4e9a-f704-c840d98253c2"
   },
   "outputs": [],
   "source": [
    "import shap\n",
    "# YOUR CODE GOES HERE!"
   ]
  },
  {
   "cell_type": "markdown",
   "metadata": {
    "id": "0ec-ZXUntmWL"
   },
   "source": [
    "# Task 10 - Taking it to the Next Level! 📶\n",
    "\n",
    "Let's take our models and make a model comparison demo like we did last week, but this time you're taking the lead!  \n",
    "    \n",
    "1. Save your training dataset as a CSV file so that it can be used in the Streamlit app.\n",
    "1. Build a results DataFrame and save it as a CSV so that it can be used in the Streamlit app.\n",
    "1. In Tab 1 - Raw Data:\n",
    "* Display your training dataset in a Streamlit DataFrame (`st.DataFrame`).\n",
    "* Build 1-2 interactive Plotly visualizations that explore the dataset (correlations, scatterplot, etc.)\n",
    "2. In Tab 2 - Model Results:\n",
    "* Display your performance metrics appropriately using 2-3 metrics for model comparison.\n",
    "3. In Tab 3 - Model Explainability:\n",
    "* Make local and global explainability plots to compare two models at a time side-by-side.  [Here](https://www.kaggle.com/code/elsa155026/uciheart-kernel-shap-and-interactive-visualization/notebook) is a good example if how to create some different explainability plots using Plotly."
   ]
  },
  {
   "cell_type": "markdown",
   "metadata": {
    "id": "tDZ_9p6L_U9L"
   },
   "source": [
    "# Additional Resources"
   ]
  },
  {
   "cell_type": "markdown",
   "metadata": {
    "id": "6dtjRavkXunK"
   },
   "source": [
    "- [Tensorflow playground](https://playground.tensorflow.org/) for an interactive experience to understand how nueral networkds work.\n",
    "\n",
    "- [An Introduction to Deep Learning for Tabular Data](https://www.fast.ai/2018/04/29/categorical-embeddings/) covers embeddings for categorical variables. \n",
    "\n",
    "- [Imbalanced classification: credit card fraud detection](https://keras.io/examples/structured_data/imbalanced_classification/) demonstrates using `class_weight` to handle imbalanced classification problems. "
   ]
  },
  {
   "cell_type": "markdown",
   "metadata": {
    "heading_collapsed": true,
    "id": "RTRCN3xsXunK"
   },
   "source": [
    "# Acknowledgement and Copyright"
   ]
  },
  {
   "cell_type": "markdown",
   "metadata": {
    "hidden": true,
    "id": "riVFgcSTmY0R"
   },
   "source": [
    "##### Acknowledgement"
   ]
  },
  {
   "cell_type": "markdown",
   "metadata": {
    "hidden": true,
    "id": "higVWuZMmc7w"
   },
   "source": [
    "This notebook is adapted from [tensorflow/keras tuorial - regression](https://www.tensorflow.org/tutorials/keras/regression)"
   ]
  },
  {
   "cell_type": "markdown",
   "metadata": {
    "heading_collapsed": true,
    "hidden": true,
    "id": "MJuKft5yXunK"
   },
   "source": [
    "##### Copyright 2018 The TensorFlow Authors."
   ]
  },
  {
   "cell_type": "markdown",
   "metadata": {
    "cellView": "form",
    "hidden": true,
    "id": "AwOEIRJC6Une"
   },
   "source": [
    "@title Licensed under the Apache License, Version 2.0 (the \"License\");\n",
    "you may not use this file except in compliance with the License.\n",
    "You may obtain a copy of the License at\n",
    "\n",
    "https://www.apache.org/licenses/LICENSE-2.0\n",
    "\n",
    "Unless required by applicable law or agreed to in writing, software\n",
    "distributed under the License is distributed on an \"AS IS\" BASIS,\n",
    "WITHOUT WARRANTIES OR CONDITIONS OF ANY KIND, either express or implied.\n",
    "See the License for the specific language governing permissions and\n",
    "limitations under the License."
   ]
  },
  {
   "cell_type": "markdown",
   "metadata": {
    "cellView": "form",
    "hidden": true,
    "id": "KyPEtTqk6VdG"
   },
   "source": [
    "@title MIT License\n",
    "\n",
    "Copyright (c) 2017 François Chollet\n",
    "\n",
    "Permission is hereby granted, free of charge, to any person obtaining a\n",
    "copy of this software and associated documentation files (the \"Software\"),\n",
    "to deal in the Software without restriction, including without limitation\n",
    "the rights to use, copy, modify, merge, publish, distribute, sublicense,\n",
    "and/or sell copies of the Software, and to permit persons to whom the\n",
    "Software is furnished to do so, subject to the following conditions:\n",
    "\n",
    "The above copyright notice and this permission notice shall be included in\n",
    "all copies or substantial portions of the Software.\n",
    "\n",
    "THE SOFTWARE IS PROVIDED \"AS IS\", WITHOUT WARRANTY OF ANY KIND, EXPRESS OR\n",
    "IMPLIED, INCLUDING BUT NOT LIMITED TO THE WARRANTIES OF MERCHANTABILITY,\n",
    "FITNESS FOR A PARTICULAR PURPOSE AND NONINFRINGEMENT. IN NO EVENT SHALL\n",
    "THE AUTHORS OR COPYRIGHT HOLDERS BE LIABLE FOR ANY CLAIM, DAMAGES OR OTHER\n",
    "LIABILITY, WHETHER IN AN ACTION OF CONTRACT, TORT OR OTHERWISE, ARISING\n",
    "FROM, OUT OF OR IN CONNECTION WITH THE SOFTWARE OR THE USE OR OTHER\n",
    "DEALINGS IN THE SOFTWARE."
   ]
  }
 ],
 "metadata": {
  "colab": {
   "collapsed_sections": [],
   "provenance": [],
   "toc_visible": true
  },
  "kernelspec": {
   "display_name": "Python 3.9.12 ('venv-ml')",
   "language": "python",
   "name": "python3"
  },
  "language_info": {
   "codemirror_mode": {
    "name": "ipython",
    "version": 3
   },
   "file_extension": ".py",
   "mimetype": "text/x-python",
   "name": "python",
   "nbconvert_exporter": "python",
   "pygments_lexer": "ipython3",
   "version": "3.9.12"
  },
  "toc": {
   "base_numbering": 1,
   "nav_menu": {},
   "number_sections": true,
   "sideBar": true,
   "skip_h1_title": false,
   "title_cell": "Table of Contents",
   "title_sidebar": "Contents",
   "toc_cell": false,
   "toc_position": {
    "height": "calc(100% - 180px)",
    "left": "10px",
    "top": "150px",
    "width": "244.390625px"
   },
   "toc_section_display": true,
   "toc_window_display": false
  },
  "vscode": {
   "interpreter": {
    "hash": "f1dfdebb56f854d6d8d1fe2606ca3baeb29b4143fe0df5eb6f2cb885741a890e"
   }
  },
  "widgets": {
   "application/vnd.jupyter.widget-state+json": {
    "025e808948034d0c91e2b20b0918da0e": {
     "model_module": "@jupyter-widgets/controls",
     "model_module_version": "1.5.0",
     "model_name": "DescriptionStyleModel",
     "state": {
      "_model_module": "@jupyter-widgets/controls",
      "_model_module_version": "1.5.0",
      "_model_name": "DescriptionStyleModel",
      "_view_count": null,
      "_view_module": "@jupyter-widgets/base",
      "_view_module_version": "1.2.0",
      "_view_name": "StyleView",
      "description_width": ""
     }
    },
    "0b8e29c1645d42afa585020fa0df67ae": {
     "model_module": "@jupyter-widgets/controls",
     "model_module_version": "1.5.0",
     "model_name": "HTMLModel",
     "state": {
      "_dom_classes": [],
      "_model_module": "@jupyter-widgets/controls",
      "_model_module_version": "1.5.0",
      "_model_name": "HTMLModel",
      "_view_count": null,
      "_view_module": "@jupyter-widgets/controls",
      "_view_module_version": "1.5.0",
      "_view_name": "HTMLView",
      "description": "",
      "description_tooltip": null,
      "layout": "IPY_MODEL_1e6b41d169ed44799d95ded612c4ffbf",
      "placeholder": "​",
      "style": "IPY_MODEL_025e808948034d0c91e2b20b0918da0e",
      "value": " 10/10 [00:08&lt;00:00,  1.42it/s]"
     }
    },
    "1e6b41d169ed44799d95ded612c4ffbf": {
     "model_module": "@jupyter-widgets/base",
     "model_module_version": "1.2.0",
     "model_name": "LayoutModel",
     "state": {
      "_model_module": "@jupyter-widgets/base",
      "_model_module_version": "1.2.0",
      "_model_name": "LayoutModel",
      "_view_count": null,
      "_view_module": "@jupyter-widgets/base",
      "_view_module_version": "1.2.0",
      "_view_name": "LayoutView",
      "align_content": null,
      "align_items": null,
      "align_self": null,
      "border": null,
      "bottom": null,
      "display": null,
      "flex": null,
      "flex_flow": null,
      "grid_area": null,
      "grid_auto_columns": null,
      "grid_auto_flow": null,
      "grid_auto_rows": null,
      "grid_column": null,
      "grid_gap": null,
      "grid_row": null,
      "grid_template_areas": null,
      "grid_template_columns": null,
      "grid_template_rows": null,
      "height": null,
      "justify_content": null,
      "justify_items": null,
      "left": null,
      "margin": null,
      "max_height": null,
      "max_width": null,
      "min_height": null,
      "min_width": null,
      "object_fit": null,
      "object_position": null,
      "order": null,
      "overflow": null,
      "overflow_x": null,
      "overflow_y": null,
      "padding": null,
      "right": null,
      "top": null,
      "visibility": null,
      "width": null
     }
    },
    "2dbf5b2c7f974f35a488307eac5f19aa": {
     "model_module": "@jupyter-widgets/base",
     "model_module_version": "1.2.0",
     "model_name": "LayoutModel",
     "state": {
      "_model_module": "@jupyter-widgets/base",
      "_model_module_version": "1.2.0",
      "_model_name": "LayoutModel",
      "_view_count": null,
      "_view_module": "@jupyter-widgets/base",
      "_view_module_version": "1.2.0",
      "_view_name": "LayoutView",
      "align_content": null,
      "align_items": null,
      "align_self": null,
      "border": null,
      "bottom": null,
      "display": null,
      "flex": null,
      "flex_flow": null,
      "grid_area": null,
      "grid_auto_columns": null,
      "grid_auto_flow": null,
      "grid_auto_rows": null,
      "grid_column": null,
      "grid_gap": null,
      "grid_row": null,
      "grid_template_areas": null,
      "grid_template_columns": null,
      "grid_template_rows": null,
      "height": null,
      "justify_content": null,
      "justify_items": null,
      "left": null,
      "margin": null,
      "max_height": null,
      "max_width": null,
      "min_height": null,
      "min_width": null,
      "object_fit": null,
      "object_position": null,
      "order": null,
      "overflow": null,
      "overflow_x": null,
      "overflow_y": null,
      "padding": null,
      "right": null,
      "top": null,
      "visibility": null,
      "width": null
     }
    },
    "42312548e6be4e049a3300c1463a74df": {
     "model_module": "@jupyter-widgets/controls",
     "model_module_version": "1.5.0",
     "model_name": "ProgressStyleModel",
     "state": {
      "_model_module": "@jupyter-widgets/controls",
      "_model_module_version": "1.5.0",
      "_model_name": "ProgressStyleModel",
      "_view_count": null,
      "_view_module": "@jupyter-widgets/base",
      "_view_module_version": "1.2.0",
      "_view_name": "StyleView",
      "bar_color": null,
      "description_width": ""
     }
    },
    "4762b74087844de687777a36962ed590": {
     "model_module": "@jupyter-widgets/base",
     "model_module_version": "1.2.0",
     "model_name": "LayoutModel",
     "state": {
      "_model_module": "@jupyter-widgets/base",
      "_model_module_version": "1.2.0",
      "_model_name": "LayoutModel",
      "_view_count": null,
      "_view_module": "@jupyter-widgets/base",
      "_view_module_version": "1.2.0",
      "_view_name": "LayoutView",
      "align_content": null,
      "align_items": null,
      "align_self": null,
      "border": null,
      "bottom": null,
      "display": null,
      "flex": null,
      "flex_flow": null,
      "grid_area": null,
      "grid_auto_columns": null,
      "grid_auto_flow": null,
      "grid_auto_rows": null,
      "grid_column": null,
      "grid_gap": null,
      "grid_row": null,
      "grid_template_areas": null,
      "grid_template_columns": null,
      "grid_template_rows": null,
      "height": null,
      "justify_content": null,
      "justify_items": null,
      "left": null,
      "margin": null,
      "max_height": null,
      "max_width": null,
      "min_height": null,
      "min_width": null,
      "object_fit": null,
      "object_position": null,
      "order": null,
      "overflow": null,
      "overflow_x": null,
      "overflow_y": null,
      "padding": null,
      "right": null,
      "top": null,
      "visibility": null,
      "width": null
     }
    },
    "48ace3fbd1864095b2e801fc7d81f331": {
     "model_module": "@jupyter-widgets/base",
     "model_module_version": "1.2.0",
     "model_name": "LayoutModel",
     "state": {
      "_model_module": "@jupyter-widgets/base",
      "_model_module_version": "1.2.0",
      "_model_name": "LayoutModel",
      "_view_count": null,
      "_view_module": "@jupyter-widgets/base",
      "_view_module_version": "1.2.0",
      "_view_name": "LayoutView",
      "align_content": null,
      "align_items": null,
      "align_self": null,
      "border": null,
      "bottom": null,
      "display": null,
      "flex": null,
      "flex_flow": null,
      "grid_area": null,
      "grid_auto_columns": null,
      "grid_auto_flow": null,
      "grid_auto_rows": null,
      "grid_column": null,
      "grid_gap": null,
      "grid_row": null,
      "grid_template_areas": null,
      "grid_template_columns": null,
      "grid_template_rows": null,
      "height": null,
      "justify_content": null,
      "justify_items": null,
      "left": null,
      "margin": null,
      "max_height": null,
      "max_width": null,
      "min_height": null,
      "min_width": null,
      "object_fit": null,
      "object_position": null,
      "order": null,
      "overflow": null,
      "overflow_x": null,
      "overflow_y": null,
      "padding": null,
      "right": null,
      "top": null,
      "visibility": null,
      "width": null
     }
    },
    "6171c78fcfc7416784fedd151719857f": {
     "model_module": "@jupyter-widgets/controls",
     "model_module_version": "1.5.0",
     "model_name": "DescriptionStyleModel",
     "state": {
      "_model_module": "@jupyter-widgets/controls",
      "_model_module_version": "1.5.0",
      "_model_name": "DescriptionStyleModel",
      "_view_count": null,
      "_view_module": "@jupyter-widgets/base",
      "_view_module_version": "1.2.0",
      "_view_name": "StyleView",
      "description_width": ""
     }
    },
    "66562df157104520aba66096e0110b6d": {
     "model_module": "@jupyter-widgets/controls",
     "model_module_version": "1.5.0",
     "model_name": "FloatProgressModel",
     "state": {
      "_dom_classes": [],
      "_model_module": "@jupyter-widgets/controls",
      "_model_module_version": "1.5.0",
      "_model_name": "FloatProgressModel",
      "_view_count": null,
      "_view_module": "@jupyter-widgets/controls",
      "_view_module_version": "1.5.0",
      "_view_name": "ProgressView",
      "bar_style": "success",
      "description": "",
      "description_tooltip": null,
      "layout": "IPY_MODEL_4762b74087844de687777a36962ed590",
      "max": 10,
      "min": 0,
      "orientation": "horizontal",
      "style": "IPY_MODEL_42312548e6be4e049a3300c1463a74df",
      "value": 10
     }
    },
    "6a044954b19e4a28943c579fee0e3a18": {
     "model_module": "@jupyter-widgets/base",
     "model_module_version": "1.2.0",
     "model_name": "LayoutModel",
     "state": {
      "_model_module": "@jupyter-widgets/base",
      "_model_module_version": "1.2.0",
      "_model_name": "LayoutModel",
      "_view_count": null,
      "_view_module": "@jupyter-widgets/base",
      "_view_module_version": "1.2.0",
      "_view_name": "LayoutView",
      "align_content": null,
      "align_items": null,
      "align_self": null,
      "border": null,
      "bottom": null,
      "display": null,
      "flex": null,
      "flex_flow": null,
      "grid_area": null,
      "grid_auto_columns": null,
      "grid_auto_flow": null,
      "grid_auto_rows": null,
      "grid_column": null,
      "grid_gap": null,
      "grid_row": null,
      "grid_template_areas": null,
      "grid_template_columns": null,
      "grid_template_rows": null,
      "height": null,
      "justify_content": null,
      "justify_items": null,
      "left": null,
      "margin": null,
      "max_height": null,
      "max_width": null,
      "min_height": null,
      "min_width": null,
      "object_fit": null,
      "object_position": null,
      "order": null,
      "overflow": null,
      "overflow_x": null,
      "overflow_y": null,
      "padding": null,
      "right": null,
      "top": null,
      "visibility": null,
      "width": null
     }
    },
    "72a2425764674ce190927fbbf3b081a1": {
     "model_module": "@jupyter-widgets/controls",
     "model_module_version": "1.5.0",
     "model_name": "HBoxModel",
     "state": {
      "_dom_classes": [],
      "_model_module": "@jupyter-widgets/controls",
      "_model_module_version": "1.5.0",
      "_model_name": "HBoxModel",
      "_view_count": null,
      "_view_module": "@jupyter-widgets/controls",
      "_view_module_version": "1.5.0",
      "_view_name": "HBoxView",
      "box_style": "",
      "children": [
       "IPY_MODEL_d9f6d54ab402459b81ba65ca8f73f58e",
       "IPY_MODEL_66562df157104520aba66096e0110b6d",
       "IPY_MODEL_0b8e29c1645d42afa585020fa0df67ae"
      ],
      "layout": "IPY_MODEL_74d2ed5b965b4ecfbcf3b10ffb4486cf"
     }
    },
    "74d2ed5b965b4ecfbcf3b10ffb4486cf": {
     "model_module": "@jupyter-widgets/base",
     "model_module_version": "1.2.0",
     "model_name": "LayoutModel",
     "state": {
      "_model_module": "@jupyter-widgets/base",
      "_model_module_version": "1.2.0",
      "_model_name": "LayoutModel",
      "_view_count": null,
      "_view_module": "@jupyter-widgets/base",
      "_view_module_version": "1.2.0",
      "_view_name": "LayoutView",
      "align_content": null,
      "align_items": null,
      "align_self": null,
      "border": null,
      "bottom": null,
      "display": null,
      "flex": null,
      "flex_flow": null,
      "grid_area": null,
      "grid_auto_columns": null,
      "grid_auto_flow": null,
      "grid_auto_rows": null,
      "grid_column": null,
      "grid_gap": null,
      "grid_row": null,
      "grid_template_areas": null,
      "grid_template_columns": null,
      "grid_template_rows": null,
      "height": null,
      "justify_content": null,
      "justify_items": null,
      "left": null,
      "margin": null,
      "max_height": null,
      "max_width": null,
      "min_height": null,
      "min_width": null,
      "object_fit": null,
      "object_position": null,
      "order": null,
      "overflow": null,
      "overflow_x": null,
      "overflow_y": null,
      "padding": null,
      "right": null,
      "top": null,
      "visibility": null,
      "width": null
     }
    },
    "76363a3fc90e46b1b040a21e9eaa21f1": {
     "model_module": "@jupyter-widgets/base",
     "model_module_version": "1.2.0",
     "model_name": "LayoutModel",
     "state": {
      "_model_module": "@jupyter-widgets/base",
      "_model_module_version": "1.2.0",
      "_model_name": "LayoutModel",
      "_view_count": null,
      "_view_module": "@jupyter-widgets/base",
      "_view_module_version": "1.2.0",
      "_view_name": "LayoutView",
      "align_content": null,
      "align_items": null,
      "align_self": null,
      "border": null,
      "bottom": null,
      "display": null,
      "flex": null,
      "flex_flow": null,
      "grid_area": null,
      "grid_auto_columns": null,
      "grid_auto_flow": null,
      "grid_auto_rows": null,
      "grid_column": null,
      "grid_gap": null,
      "grid_row": null,
      "grid_template_areas": null,
      "grid_template_columns": null,
      "grid_template_rows": null,
      "height": null,
      "justify_content": null,
      "justify_items": null,
      "left": null,
      "margin": null,
      "max_height": null,
      "max_width": null,
      "min_height": null,
      "min_width": null,
      "object_fit": null,
      "object_position": null,
      "order": null,
      "overflow": null,
      "overflow_x": null,
      "overflow_y": null,
      "padding": null,
      "right": null,
      "top": null,
      "visibility": null,
      "width": null
     }
    },
    "79366c8022e74226bfe2768e5d9e6ee1": {
     "model_module": "@jupyter-widgets/controls",
     "model_module_version": "1.5.0",
     "model_name": "HTMLModel",
     "state": {
      "_dom_classes": [],
      "_model_module": "@jupyter-widgets/controls",
      "_model_module_version": "1.5.0",
      "_model_name": "HTMLModel",
      "_view_count": null,
      "_view_module": "@jupyter-widgets/controls",
      "_view_module_version": "1.5.0",
      "_view_name": "HTMLView",
      "description": "",
      "description_tooltip": null,
      "layout": "IPY_MODEL_2dbf5b2c7f974f35a488307eac5f19aa",
      "placeholder": "​",
      "style": "IPY_MODEL_c9c8b7507a9e43a0b42f9119d1c58a8c",
      "value": " 440/440 [07:40&lt;00:00,  1.29s/pipeline]"
     }
    },
    "795ad58f335e4f5a8a2cf188b6c27891": {
     "model_module": "@jupyter-widgets/controls",
     "model_module_version": "1.5.0",
     "model_name": "HTMLModel",
     "state": {
      "_dom_classes": [],
      "_model_module": "@jupyter-widgets/controls",
      "_model_module_version": "1.5.0",
      "_model_name": "HTMLModel",
      "_view_count": null,
      "_view_module": "@jupyter-widgets/controls",
      "_view_module_version": "1.5.0",
      "_view_name": "HTMLView",
      "description": "",
      "description_tooltip": null,
      "layout": "IPY_MODEL_48ace3fbd1864095b2e801fc7d81f331",
      "placeholder": "​",
      "style": "IPY_MODEL_c1a60f46c54343638707335cacb0de7f",
      "value": "Optimization Progress: 100%"
     }
    },
    "810efda3ce3a487c8562223a6c3109e9": {
     "model_module": "@jupyter-widgets/controls",
     "model_module_version": "1.5.0",
     "model_name": "FloatProgressModel",
     "state": {
      "_dom_classes": [],
      "_model_module": "@jupyter-widgets/controls",
      "_model_module_version": "1.5.0",
      "_model_name": "FloatProgressModel",
      "_view_count": null,
      "_view_module": "@jupyter-widgets/controls",
      "_view_module_version": "1.5.0",
      "_view_name": "ProgressView",
      "bar_style": "",
      "description": "",
      "description_tooltip": null,
      "layout": "IPY_MODEL_76363a3fc90e46b1b040a21e9eaa21f1",
      "max": 440,
      "min": 0,
      "orientation": "horizontal",
      "style": "IPY_MODEL_8a107efdc33440c9ba472e2c17b95ea7",
      "value": 440
     }
    },
    "8a107efdc33440c9ba472e2c17b95ea7": {
     "model_module": "@jupyter-widgets/controls",
     "model_module_version": "1.5.0",
     "model_name": "ProgressStyleModel",
     "state": {
      "_model_module": "@jupyter-widgets/controls",
      "_model_module_version": "1.5.0",
      "_model_name": "ProgressStyleModel",
      "_view_count": null,
      "_view_module": "@jupyter-widgets/base",
      "_view_module_version": "1.2.0",
      "_view_name": "StyleView",
      "bar_color": null,
      "description_width": ""
     }
    },
    "b2be8f74181f4f67b17d04c73a30cc12": {
     "model_module": "@jupyter-widgets/base",
     "model_module_version": "1.2.0",
     "model_name": "LayoutModel",
     "state": {
      "_model_module": "@jupyter-widgets/base",
      "_model_module_version": "1.2.0",
      "_model_name": "LayoutModel",
      "_view_count": null,
      "_view_module": "@jupyter-widgets/base",
      "_view_module_version": "1.2.0",
      "_view_name": "LayoutView",
      "align_content": null,
      "align_items": null,
      "align_self": null,
      "border": null,
      "bottom": null,
      "display": null,
      "flex": null,
      "flex_flow": null,
      "grid_area": null,
      "grid_auto_columns": null,
      "grid_auto_flow": null,
      "grid_auto_rows": null,
      "grid_column": null,
      "grid_gap": null,
      "grid_row": null,
      "grid_template_areas": null,
      "grid_template_columns": null,
      "grid_template_rows": null,
      "height": null,
      "justify_content": null,
      "justify_items": null,
      "left": null,
      "margin": null,
      "max_height": null,
      "max_width": null,
      "min_height": null,
      "min_width": null,
      "object_fit": null,
      "object_position": null,
      "order": null,
      "overflow": null,
      "overflow_x": null,
      "overflow_y": null,
      "padding": null,
      "right": null,
      "top": null,
      "visibility": "hidden",
      "width": null
     }
    },
    "c1a60f46c54343638707335cacb0de7f": {
     "model_module": "@jupyter-widgets/controls",
     "model_module_version": "1.5.0",
     "model_name": "DescriptionStyleModel",
     "state": {
      "_model_module": "@jupyter-widgets/controls",
      "_model_module_version": "1.5.0",
      "_model_name": "DescriptionStyleModel",
      "_view_count": null,
      "_view_module": "@jupyter-widgets/base",
      "_view_module_version": "1.2.0",
      "_view_name": "StyleView",
      "description_width": ""
     }
    },
    "c9c8b7507a9e43a0b42f9119d1c58a8c": {
     "model_module": "@jupyter-widgets/controls",
     "model_module_version": "1.5.0",
     "model_name": "DescriptionStyleModel",
     "state": {
      "_model_module": "@jupyter-widgets/controls",
      "_model_module_version": "1.5.0",
      "_model_name": "DescriptionStyleModel",
      "_view_count": null,
      "_view_module": "@jupyter-widgets/base",
      "_view_module_version": "1.2.0",
      "_view_name": "StyleView",
      "description_width": ""
     }
    },
    "d9f6d54ab402459b81ba65ca8f73f58e": {
     "model_module": "@jupyter-widgets/controls",
     "model_module_version": "1.5.0",
     "model_name": "HTMLModel",
     "state": {
      "_dom_classes": [],
      "_model_module": "@jupyter-widgets/controls",
      "_model_module_version": "1.5.0",
      "_model_name": "HTMLModel",
      "_view_count": null,
      "_view_module": "@jupyter-widgets/controls",
      "_view_module_version": "1.5.0",
      "_view_name": "HTMLView",
      "description": "",
      "description_tooltip": null,
      "layout": "IPY_MODEL_6a044954b19e4a28943c579fee0e3a18",
      "placeholder": "​",
      "style": "IPY_MODEL_6171c78fcfc7416784fedd151719857f",
      "value": "100%"
     }
    },
    "f0639c63a42e4724b1093c10a0495606": {
     "model_module": "@jupyter-widgets/controls",
     "model_module_version": "1.5.0",
     "model_name": "HBoxModel",
     "state": {
      "_dom_classes": [],
      "_model_module": "@jupyter-widgets/controls",
      "_model_module_version": "1.5.0",
      "_model_name": "HBoxModel",
      "_view_count": null,
      "_view_module": "@jupyter-widgets/controls",
      "_view_module_version": "1.5.0",
      "_view_name": "HBoxView",
      "box_style": "",
      "children": [
       "IPY_MODEL_795ad58f335e4f5a8a2cf188b6c27891",
       "IPY_MODEL_810efda3ce3a487c8562223a6c3109e9",
       "IPY_MODEL_79366c8022e74226bfe2768e5d9e6ee1"
      ],
      "layout": "IPY_MODEL_b2be8f74181f4f67b17d04c73a30cc12"
     }
    }
   }
  }
 },
 "nbformat": 4,
 "nbformat_minor": 1
}
