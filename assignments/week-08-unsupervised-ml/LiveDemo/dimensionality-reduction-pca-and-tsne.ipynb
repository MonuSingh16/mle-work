{
 "cells": [
  {
   "cell_type": "markdown",
   "id": "dea95058",
   "metadata": {
    "id": "eT8ztZbiu4Dk",
    "papermill": {
     "duration": 0.034169,
     "end_time": "2021-11-02T22:24:06.387070",
     "exception": false,
     "start_time": "2021-11-02T22:24:06.352901",
     "status": "completed"
    },
    "tags": []
   },
   "source": [
    "## Auto MPG: PCA and tSNE\n",
    "\n",
    "-----------------------------\n",
    "\n",
    "-----------------------------\n",
    "## Objective: \n",
    "-----------------------------\n",
    "The objective of this notebook is to explore the data and reduce the number of features by using dimensionality reduction techniques like PCA and TSNE and generate meaningful insights. \n",
    "\n",
    "-----------------------------\n",
    "## Dataset: \n",
    "-----------------------------\n",
    "There are 8 variables in the data: \n",
    "\n",
    "- mpg: miles per gallon\n",
    "- cyl: number of cylinders\n",
    "- disp: engine displacement (cu. inches) or engine size\n",
    "- hp: horsepower\n",
    "- wt: vehicle weight (lbs.)\n",
    "- acc: time taken to accelerate from O to 60 mph (sec.)\n",
    "- yr: model year\n",
    "- car name: car model name"
   ]
  },
  {
   "cell_type": "markdown",
   "id": "fb36a304",
   "metadata": {
    "id": "e7YUSFfGu4Du",
    "papermill": {
     "duration": 0.033034,
     "end_time": "2021-11-02T22:24:06.453379",
     "exception": false,
     "start_time": "2021-11-02T22:24:06.420345",
     "status": "completed"
    },
    "tags": []
   },
   "source": [
    "## Importing necessary libraries and overview of the dataset"
   ]
  },
  {
   "cell_type": "code",
   "execution_count": 14,
   "id": "f90951f9",
   "metadata": {
    "execution": {
     "iopub.execute_input": "2021-11-02T22:24:06.531769Z",
     "iopub.status.busy": "2021-11-02T22:24:06.531035Z",
     "iopub.status.idle": "2021-11-02T22:24:07.958324Z",
     "shell.execute_reply": "2021-11-02T22:24:07.957657Z",
     "shell.execute_reply.started": "2021-11-02T21:57:06.063309Z"
    },
    "id": "aVFeA7eWu4Dv",
    "papermill": {
     "duration": 1.472148,
     "end_time": "2021-11-02T22:24:07.958496",
     "exception": false,
     "start_time": "2021-11-02T22:24:06.486348",
     "status": "completed"
    },
    "tags": []
   },
   "outputs": [],
   "source": [
    "import pandas as pd\n",
    "import numpy as np\n",
    "import matplotlib.pyplot as plt\n",
    "import seaborn as sns\n",
    "\n",
    "#to scale the data using z-score \n",
    "from sklearn.preprocessing import StandardScaler\n",
    "\n",
    "#importing PCA and TSNE\n",
    "from sklearn.decomposition import PCA\n",
    "from sklearn.manifold import TSNE\n",
    "\n",
    "\n",
    "from matplotlib import style\n",
    "style.use('dark_background')"
   ]
  },
  {
   "cell_type": "code",
   "execution_count": 15,
   "id": "82e74f1d",
   "metadata": {
    "execution": {
     "iopub.execute_input": "2021-11-02T22:24:08.027943Z",
     "iopub.status.busy": "2021-11-02T22:24:08.027289Z",
     "iopub.status.idle": "2021-11-02T22:24:08.046303Z",
     "shell.execute_reply": "2021-11-02T22:24:08.046746Z",
     "shell.execute_reply.started": "2021-11-02T21:57:06.070856Z"
    },
    "id": "zhvufGouej4N",
    "outputId": "02495010-b95f-402f-f16e-4272cbca8842",
    "papermill": {
     "duration": 0.056201,
     "end_time": "2021-11-02T22:24:08.046922",
     "exception": false,
     "start_time": "2021-11-02T22:24:07.990721",
     "status": "completed"
    },
    "tags": []
   },
   "outputs": [],
   "source": [
    "data = pd.read_csv('./auto-mpg.csv')"
   ]
  },
  {
   "cell_type": "markdown",
   "id": "530468c9",
   "metadata": {
    "id": "g2bXBiAivujY",
    "papermill": {
     "duration": 0.033915,
     "end_time": "2021-11-02T22:24:08.114219",
     "exception": false,
     "start_time": "2021-11-02T22:24:08.080304",
     "status": "completed"
    },
    "tags": []
   },
   "source": [
    "#### Loading data"
   ]
  },
  {
   "cell_type": "code",
   "execution_count": 16,
   "id": "5f5350f2",
   "metadata": {
    "execution": {
     "iopub.execute_input": "2021-11-02T22:24:08.194482Z",
     "iopub.status.busy": "2021-11-02T22:24:08.193829Z",
     "iopub.status.idle": "2021-11-02T22:24:08.210526Z",
     "shell.execute_reply": "2021-11-02T22:24:08.209996Z",
     "shell.execute_reply.started": "2021-11-02T21:57:06.183062Z"
    },
    "id": "KczGshrVu4Dy",
    "outputId": "4081a5e5-3b94-43ab-9ed9-1a8825fc7410",
    "papermill": {
     "duration": 0.063161,
     "end_time": "2021-11-02T22:24:08.210677",
     "exception": false,
     "start_time": "2021-11-02T22:24:08.147516",
     "status": "completed"
    },
    "tags": []
   },
   "outputs": [
    {
     "data": {
      "text/html": [
       "<div>\n",
       "<style scoped>\n",
       "    .dataframe tbody tr th:only-of-type {\n",
       "        vertical-align: middle;\n",
       "    }\n",
       "\n",
       "    .dataframe tbody tr th {\n",
       "        vertical-align: top;\n",
       "    }\n",
       "\n",
       "    .dataframe thead th {\n",
       "        text-align: right;\n",
       "    }\n",
       "</style>\n",
       "<table border=\"1\" class=\"dataframe\">\n",
       "  <thead>\n",
       "    <tr style=\"text-align: right;\">\n",
       "      <th></th>\n",
       "      <th>mpg</th>\n",
       "      <th>cylinders</th>\n",
       "      <th>displacement</th>\n",
       "      <th>horsepower</th>\n",
       "      <th>weight</th>\n",
       "      <th>acceleration</th>\n",
       "      <th>model year</th>\n",
       "      <th>origin</th>\n",
       "      <th>car name</th>\n",
       "    </tr>\n",
       "  </thead>\n",
       "  <tbody>\n",
       "    <tr>\n",
       "      <th>0</th>\n",
       "      <td>18.0</td>\n",
       "      <td>8</td>\n",
       "      <td>307.0</td>\n",
       "      <td>130</td>\n",
       "      <td>3504</td>\n",
       "      <td>12.0</td>\n",
       "      <td>70</td>\n",
       "      <td>1</td>\n",
       "      <td>chevrolet chevelle malibu</td>\n",
       "    </tr>\n",
       "    <tr>\n",
       "      <th>1</th>\n",
       "      <td>15.0</td>\n",
       "      <td>8</td>\n",
       "      <td>350.0</td>\n",
       "      <td>165</td>\n",
       "      <td>3693</td>\n",
       "      <td>11.5</td>\n",
       "      <td>70</td>\n",
       "      <td>1</td>\n",
       "      <td>buick skylark 320</td>\n",
       "    </tr>\n",
       "    <tr>\n",
       "      <th>2</th>\n",
       "      <td>18.0</td>\n",
       "      <td>8</td>\n",
       "      <td>318.0</td>\n",
       "      <td>150</td>\n",
       "      <td>3436</td>\n",
       "      <td>11.0</td>\n",
       "      <td>70</td>\n",
       "      <td>1</td>\n",
       "      <td>plymouth satellite</td>\n",
       "    </tr>\n",
       "    <tr>\n",
       "      <th>3</th>\n",
       "      <td>16.0</td>\n",
       "      <td>8</td>\n",
       "      <td>304.0</td>\n",
       "      <td>150</td>\n",
       "      <td>3433</td>\n",
       "      <td>12.0</td>\n",
       "      <td>70</td>\n",
       "      <td>1</td>\n",
       "      <td>amc rebel sst</td>\n",
       "    </tr>\n",
       "    <tr>\n",
       "      <th>4</th>\n",
       "      <td>17.0</td>\n",
       "      <td>8</td>\n",
       "      <td>302.0</td>\n",
       "      <td>140</td>\n",
       "      <td>3449</td>\n",
       "      <td>10.5</td>\n",
       "      <td>70</td>\n",
       "      <td>1</td>\n",
       "      <td>ford torino</td>\n",
       "    </tr>\n",
       "  </tbody>\n",
       "</table>\n",
       "</div>"
      ],
      "text/plain": [
       "    mpg  cylinders  displacement horsepower  weight  acceleration  model year  \\\n",
       "0  18.0          8         307.0        130    3504          12.0          70   \n",
       "1  15.0          8         350.0        165    3693          11.5          70   \n",
       "2  18.0          8         318.0        150    3436          11.0          70   \n",
       "3  16.0          8         304.0        150    3433          12.0          70   \n",
       "4  17.0          8         302.0        140    3449          10.5          70   \n",
       "\n",
       "   origin                   car name  \n",
       "0       1  chevrolet chevelle malibu  \n",
       "1       1          buick skylark 320  \n",
       "2       1         plymouth satellite  \n",
       "3       1              amc rebel sst  \n",
       "4       1                ford torino  "
      ]
     },
     "execution_count": 16,
     "metadata": {},
     "output_type": "execute_result"
    }
   ],
   "source": [
    "data.head()"
   ]
  },
  {
   "cell_type": "markdown",
   "id": "00e02ccd",
   "metadata": {
    "id": "sTXXY0cVvuja",
    "papermill": {
     "duration": 0.032802,
     "end_time": "2021-11-02T22:24:08.340575",
     "exception": false,
     "start_time": "2021-11-02T22:24:08.307773",
     "status": "completed"
    },
    "tags": []
   },
   "source": [
    "#### Checking the info of the data"
   ]
  },
  {
   "cell_type": "code",
   "execution_count": 17,
   "id": "117d8241",
   "metadata": {
    "execution": {
     "iopub.execute_input": "2021-11-02T22:24:08.434352Z",
     "iopub.status.busy": "2021-11-02T22:24:08.418375Z",
     "iopub.status.idle": "2021-11-02T22:24:08.438587Z",
     "shell.execute_reply": "2021-11-02T22:24:08.437660Z",
     "shell.execute_reply.started": "2021-11-02T21:57:06.215124Z"
    },
    "id": "iNuAIXhqvuja",
    "outputId": "e29771d5-e033-4330-ef3a-ef96f539c520",
    "papermill": {
     "duration": 0.06384,
     "end_time": "2021-11-02T22:24:08.438792",
     "exception": false,
     "start_time": "2021-11-02T22:24:08.374952",
     "status": "completed"
    },
    "tags": []
   },
   "outputs": [
    {
     "name": "stdout",
     "output_type": "stream",
     "text": [
      "<class 'pandas.core.frame.DataFrame'>\n",
      "RangeIndex: 398 entries, 0 to 397\n",
      "Data columns (total 9 columns):\n",
      " #   Column        Non-Null Count  Dtype  \n",
      "---  ------        --------------  -----  \n",
      " 0   mpg           398 non-null    float64\n",
      " 1   cylinders     398 non-null    int64  \n",
      " 2   displacement  398 non-null    float64\n",
      " 3   horsepower    398 non-null    object \n",
      " 4   weight        398 non-null    int64  \n",
      " 5   acceleration  398 non-null    float64\n",
      " 6   model year    398 non-null    int64  \n",
      " 7   origin        398 non-null    int64  \n",
      " 8   car name      398 non-null    object \n",
      "dtypes: float64(3), int64(4), object(2)\n",
      "memory usage: 28.1+ KB\n"
     ]
    }
   ],
   "source": [
    "data.info()"
   ]
  },
  {
   "cell_type": "markdown",
   "id": "a93a79e7",
   "metadata": {
    "id": "yfUl_sjHvujb",
    "papermill": {
     "duration": 0.033641,
     "end_time": "2021-11-02T22:24:08.508327",
     "exception": false,
     "start_time": "2021-11-02T22:24:08.474686",
     "status": "completed"
    },
    "tags": []
   },
   "source": [
    "**Observations:**\n",
    "\n",
    "- There are 398 observations and 8 columns in the data.\n",
    "- All variables except horsepower and car name are of numeric data type.\n",
    "- The horsepower must be a numeric data type. We will explore this further."
   ]
  },
  {
   "cell_type": "markdown",
   "id": "3aad96e6",
   "metadata": {
    "id": "1B_nVTGSvujb",
    "papermill": {
     "duration": 0.034525,
     "end_time": "2021-11-02T22:24:08.576705",
     "exception": false,
     "start_time": "2021-11-02T22:24:08.542180",
     "status": "completed"
    },
    "tags": []
   },
   "source": [
    "## Data Preprocessing and Exploratory Data Analysis"
   ]
  },
  {
   "cell_type": "code",
   "execution_count": 18,
   "id": "7cc38023",
   "metadata": {
    "execution": {
     "iopub.execute_input": "2021-11-02T22:24:08.651604Z",
     "iopub.status.busy": "2021-11-02T22:24:08.650910Z",
     "iopub.status.idle": "2021-11-02T22:24:08.655329Z",
     "shell.execute_reply": "2021-11-02T22:24:08.655816Z",
     "shell.execute_reply.started": "2021-11-02T21:57:06.240196Z"
    },
    "id": "xwmALVCRvujb",
    "outputId": "c53f82da-5842-448d-fa2e-5b4a830c46f5",
    "papermill": {
     "duration": 0.044364,
     "end_time": "2021-11-02T22:24:08.655996",
     "exception": false,
     "start_time": "2021-11-02T22:24:08.611632",
     "status": "completed"
    },
    "tags": []
   },
   "outputs": [
    {
     "data": {
      "text/plain": [
       "305"
      ]
     },
     "execution_count": 18,
     "metadata": {},
     "output_type": "execute_result"
    }
   ],
   "source": [
    "data[\"car name\"].nunique()"
   ]
  },
  {
   "cell_type": "markdown",
   "id": "9f367c25",
   "metadata": {
    "id": "HtksWvFgu4Dz",
    "papermill": {
     "duration": 0.033675,
     "end_time": "2021-11-02T22:24:08.724229",
     "exception": false,
     "start_time": "2021-11-02T22:24:08.690554",
     "status": "completed"
    },
    "tags": []
   },
   "source": [
    "- The column 'car name' is of object data type containing a lot of unique entries and would not add values to our analysis. We can drop this column."
   ]
  },
  {
   "cell_type": "code",
   "execution_count": 19,
   "id": "1c87cfde",
   "metadata": {
    "execution": {
     "iopub.execute_input": "2021-11-02T22:24:08.797415Z",
     "iopub.status.busy": "2021-11-02T22:24:08.796780Z",
     "iopub.status.idle": "2021-11-02T22:24:08.802793Z",
     "shell.execute_reply": "2021-11-02T22:24:08.803417Z",
     "shell.execute_reply.started": "2021-11-02T21:57:06.255176Z"
    },
    "id": "x_gzOWz7u4D0",
    "papermill": {
     "duration": 0.044376,
     "end_time": "2021-11-02T22:24:08.803608",
     "exception": false,
     "start_time": "2021-11-02T22:24:08.759232",
     "status": "completed"
    },
    "tags": []
   },
   "outputs": [],
   "source": [
    "# dropping car_name\n",
    "data1 = data.copy()\n",
    "data = data.drop(['car name'], axis=1)"
   ]
  },
  {
   "cell_type": "markdown",
   "id": "99146709",
   "metadata": {
    "id": "5h4vat2Wvujc",
    "papermill": {
     "duration": 0.033743,
     "end_time": "2021-11-02T22:24:08.870764",
     "exception": false,
     "start_time": "2021-11-02T22:24:08.837021",
     "status": "completed"
    },
    "tags": []
   },
   "source": [
    "#### Checking values in horsepower column"
   ]
  },
  {
   "cell_type": "code",
   "execution_count": 20,
   "id": "6ba62aa0",
   "metadata": {
    "execution": {
     "iopub.execute_input": "2021-11-02T22:24:08.954145Z",
     "iopub.status.busy": "2021-11-02T22:24:08.953277Z",
     "iopub.status.idle": "2021-11-02T22:24:08.956183Z",
     "shell.execute_reply": "2021-11-02T22:24:08.956648Z",
     "shell.execute_reply.started": "2021-11-02T21:57:06.361767Z"
    },
    "id": "S7lk2lGQvujc",
    "outputId": "5789b0b1-48af-4687-a306-09885de675be",
    "papermill": {
     "duration": 0.052653,
     "end_time": "2021-11-02T22:24:08.956821",
     "exception": false,
     "start_time": "2021-11-02T22:24:08.904168",
     "status": "completed"
    },
    "tags": []
   },
   "outputs": [
    {
     "data": {
      "text/html": [
       "<div>\n",
       "<style scoped>\n",
       "    .dataframe tbody tr th:only-of-type {\n",
       "        vertical-align: middle;\n",
       "    }\n",
       "\n",
       "    .dataframe tbody tr th {\n",
       "        vertical-align: top;\n",
       "    }\n",
       "\n",
       "    .dataframe thead th {\n",
       "        text-align: right;\n",
       "    }\n",
       "</style>\n",
       "<table border=\"1\" class=\"dataframe\">\n",
       "  <thead>\n",
       "    <tr style=\"text-align: right;\">\n",
       "      <th></th>\n",
       "      <th>mpg</th>\n",
       "      <th>cylinders</th>\n",
       "      <th>displacement</th>\n",
       "      <th>horsepower</th>\n",
       "      <th>weight</th>\n",
       "      <th>acceleration</th>\n",
       "      <th>model year</th>\n",
       "      <th>origin</th>\n",
       "    </tr>\n",
       "  </thead>\n",
       "  <tbody>\n",
       "    <tr>\n",
       "      <th>32</th>\n",
       "      <td>25.0</td>\n",
       "      <td>4</td>\n",
       "      <td>98.0</td>\n",
       "      <td>?</td>\n",
       "      <td>2046</td>\n",
       "      <td>19.0</td>\n",
       "      <td>71</td>\n",
       "      <td>1</td>\n",
       "    </tr>\n",
       "    <tr>\n",
       "      <th>126</th>\n",
       "      <td>21.0</td>\n",
       "      <td>6</td>\n",
       "      <td>200.0</td>\n",
       "      <td>?</td>\n",
       "      <td>2875</td>\n",
       "      <td>17.0</td>\n",
       "      <td>74</td>\n",
       "      <td>1</td>\n",
       "    </tr>\n",
       "    <tr>\n",
       "      <th>330</th>\n",
       "      <td>40.9</td>\n",
       "      <td>4</td>\n",
       "      <td>85.0</td>\n",
       "      <td>?</td>\n",
       "      <td>1835</td>\n",
       "      <td>17.3</td>\n",
       "      <td>80</td>\n",
       "      <td>2</td>\n",
       "    </tr>\n",
       "    <tr>\n",
       "      <th>336</th>\n",
       "      <td>23.6</td>\n",
       "      <td>4</td>\n",
       "      <td>140.0</td>\n",
       "      <td>?</td>\n",
       "      <td>2905</td>\n",
       "      <td>14.3</td>\n",
       "      <td>80</td>\n",
       "      <td>1</td>\n",
       "    </tr>\n",
       "    <tr>\n",
       "      <th>354</th>\n",
       "      <td>34.5</td>\n",
       "      <td>4</td>\n",
       "      <td>100.0</td>\n",
       "      <td>?</td>\n",
       "      <td>2320</td>\n",
       "      <td>15.8</td>\n",
       "      <td>81</td>\n",
       "      <td>2</td>\n",
       "    </tr>\n",
       "    <tr>\n",
       "      <th>374</th>\n",
       "      <td>23.0</td>\n",
       "      <td>4</td>\n",
       "      <td>151.0</td>\n",
       "      <td>?</td>\n",
       "      <td>3035</td>\n",
       "      <td>20.5</td>\n",
       "      <td>82</td>\n",
       "      <td>1</td>\n",
       "    </tr>\n",
       "  </tbody>\n",
       "</table>\n",
       "</div>"
      ],
      "text/plain": [
       "      mpg  cylinders  displacement horsepower  weight  acceleration  \\\n",
       "32   25.0          4          98.0          ?    2046          19.0   \n",
       "126  21.0          6         200.0          ?    2875          17.0   \n",
       "330  40.9          4          85.0          ?    1835          17.3   \n",
       "336  23.6          4         140.0          ?    2905          14.3   \n",
       "354  34.5          4         100.0          ?    2320          15.8   \n",
       "374  23.0          4         151.0          ?    3035          20.5   \n",
       "\n",
       "     model year  origin  \n",
       "32           71       1  \n",
       "126          74       1  \n",
       "330          80       2  \n",
       "336          80       1  \n",
       "354          81       2  \n",
       "374          82       1  "
      ]
     },
     "execution_count": 20,
     "metadata": {},
     "output_type": "execute_result"
    }
   ],
   "source": [
    "# checking if there are values other than digits in the column 'horsepower' \n",
    "hpIsDigit = pd.DataFrame(data.horsepower.str.isdigit())  # if the string is made of digits store True else False\n",
    "\n",
    "# print isDigit = False!\n",
    "data[hpIsDigit['horsepower'] == False]   # from temp take only those rows where hp has false"
   ]
  },
  {
   "cell_type": "markdown",
   "id": "e6650f1a",
   "metadata": {
    "id": "Z1qqm_S0vujd",
    "papermill": {
     "duration": 0.03327,
     "end_time": "2021-11-02T22:24:09.024257",
     "exception": false,
     "start_time": "2021-11-02T22:24:08.990987",
     "status": "completed"
    },
    "tags": []
   },
   "source": [
    "**Observations:**\n",
    "- There are 6 observations where horsepower is ?.\n",
    "- We can consider these values as missing values.\n",
    "- Let's impute these missing values and change the data type of horsepower column.\n",
    "- First we need to replace the ? with np.nan."
   ]
  },
  {
   "cell_type": "code",
   "execution_count": 21,
   "id": "bc7c366b",
   "metadata": {
    "execution": {
     "iopub.execute_input": "2021-11-02T22:24:09.094621Z",
     "iopub.status.busy": "2021-11-02T22:24:09.094006Z",
     "iopub.status.idle": "2021-11-02T22:24:09.107356Z",
     "shell.execute_reply": "2021-11-02T22:24:09.107904Z",
     "shell.execute_reply.started": "2021-11-02T21:57:06.490890Z"
    },
    "id": "xWvn0LhBvujd",
    "outputId": "e70cf883-bad1-47be-dceb-e98c56f23478",
    "papermill": {
     "duration": 0.050244,
     "end_time": "2021-11-02T22:24:09.108094",
     "exception": false,
     "start_time": "2021-11-02T22:24:09.057850",
     "status": "completed"
    },
    "tags": []
   },
   "outputs": [
    {
     "data": {
      "text/html": [
       "<div>\n",
       "<style scoped>\n",
       "    .dataframe tbody tr th:only-of-type {\n",
       "        vertical-align: middle;\n",
       "    }\n",
       "\n",
       "    .dataframe tbody tr th {\n",
       "        vertical-align: top;\n",
       "    }\n",
       "\n",
       "    .dataframe thead th {\n",
       "        text-align: right;\n",
       "    }\n",
       "</style>\n",
       "<table border=\"1\" class=\"dataframe\">\n",
       "  <thead>\n",
       "    <tr style=\"text-align: right;\">\n",
       "      <th></th>\n",
       "      <th>mpg</th>\n",
       "      <th>cylinders</th>\n",
       "      <th>displacement</th>\n",
       "      <th>horsepower</th>\n",
       "      <th>weight</th>\n",
       "      <th>acceleration</th>\n",
       "      <th>model year</th>\n",
       "      <th>origin</th>\n",
       "    </tr>\n",
       "  </thead>\n",
       "  <tbody>\n",
       "    <tr>\n",
       "      <th>32</th>\n",
       "      <td>25.0</td>\n",
       "      <td>4</td>\n",
       "      <td>98.0</td>\n",
       "      <td>NaN</td>\n",
       "      <td>2046</td>\n",
       "      <td>19.0</td>\n",
       "      <td>71</td>\n",
       "      <td>1</td>\n",
       "    </tr>\n",
       "    <tr>\n",
       "      <th>126</th>\n",
       "      <td>21.0</td>\n",
       "      <td>6</td>\n",
       "      <td>200.0</td>\n",
       "      <td>NaN</td>\n",
       "      <td>2875</td>\n",
       "      <td>17.0</td>\n",
       "      <td>74</td>\n",
       "      <td>1</td>\n",
       "    </tr>\n",
       "    <tr>\n",
       "      <th>330</th>\n",
       "      <td>40.9</td>\n",
       "      <td>4</td>\n",
       "      <td>85.0</td>\n",
       "      <td>NaN</td>\n",
       "      <td>1835</td>\n",
       "      <td>17.3</td>\n",
       "      <td>80</td>\n",
       "      <td>2</td>\n",
       "    </tr>\n",
       "    <tr>\n",
       "      <th>336</th>\n",
       "      <td>23.6</td>\n",
       "      <td>4</td>\n",
       "      <td>140.0</td>\n",
       "      <td>NaN</td>\n",
       "      <td>2905</td>\n",
       "      <td>14.3</td>\n",
       "      <td>80</td>\n",
       "      <td>1</td>\n",
       "    </tr>\n",
       "    <tr>\n",
       "      <th>354</th>\n",
       "      <td>34.5</td>\n",
       "      <td>4</td>\n",
       "      <td>100.0</td>\n",
       "      <td>NaN</td>\n",
       "      <td>2320</td>\n",
       "      <td>15.8</td>\n",
       "      <td>81</td>\n",
       "      <td>2</td>\n",
       "    </tr>\n",
       "    <tr>\n",
       "      <th>374</th>\n",
       "      <td>23.0</td>\n",
       "      <td>4</td>\n",
       "      <td>151.0</td>\n",
       "      <td>NaN</td>\n",
       "      <td>3035</td>\n",
       "      <td>20.5</td>\n",
       "      <td>82</td>\n",
       "      <td>1</td>\n",
       "    </tr>\n",
       "  </tbody>\n",
       "</table>\n",
       "</div>"
      ],
      "text/plain": [
       "      mpg  cylinders  displacement horsepower  weight  acceleration  \\\n",
       "32   25.0          4          98.0        NaN    2046          19.0   \n",
       "126  21.0          6         200.0        NaN    2875          17.0   \n",
       "330  40.9          4          85.0        NaN    1835          17.3   \n",
       "336  23.6          4         140.0        NaN    2905          14.3   \n",
       "354  34.5          4         100.0        NaN    2320          15.8   \n",
       "374  23.0          4         151.0        NaN    3035          20.5   \n",
       "\n",
       "     model year  origin  \n",
       "32           71       1  \n",
       "126          74       1  \n",
       "330          80       2  \n",
       "336          80       1  \n",
       "354          81       2  \n",
       "374          82       1  "
      ]
     },
     "execution_count": 21,
     "metadata": {},
     "output_type": "execute_result"
    }
   ],
   "source": [
    "#Relacing ? with np.nan\n",
    "data = data.replace('?', np.nan)\n",
    "data[hpIsDigit['horsepower'] == False]"
   ]
  },
  {
   "cell_type": "code",
   "execution_count": 22,
   "id": "0c9195e6",
   "metadata": {
    "execution": {
     "iopub.execute_input": "2021-11-02T22:24:09.180036Z",
     "iopub.status.busy": "2021-11-02T22:24:09.179400Z",
     "iopub.status.idle": "2021-11-02T22:24:09.185636Z",
     "shell.execute_reply": "2021-11-02T22:24:09.186151Z",
     "shell.execute_reply.started": "2021-11-02T21:57:06.510080Z"
    },
    "id": "w56loeKtvujd",
    "papermill": {
     "duration": 0.044116,
     "end_time": "2021-11-02T22:24:09.186334",
     "exception": false,
     "start_time": "2021-11-02T22:24:09.142218",
     "status": "completed"
    },
    "tags": []
   },
   "outputs": [],
   "source": [
    "# Imputing the missing values with median value\n",
    "data.horsepower.fillna(data.horsepower.median(), inplace=True)\n",
    "data['horsepower'] = data['horsepower'].astype('float64')  # converting the hp column from object data type to float"
   ]
  },
  {
   "cell_type": "markdown",
   "id": "31538a0d",
   "metadata": {
    "id": "Ejfe_eP4vuje",
    "papermill": {
     "duration": 0.033983,
     "end_time": "2021-11-02T22:24:09.254314",
     "exception": false,
     "start_time": "2021-11-02T22:24:09.220331",
     "status": "completed"
    },
    "tags": []
   },
   "source": [
    "#### Summary Statistics"
   ]
  },
  {
   "cell_type": "code",
   "execution_count": 23,
   "id": "9163fad5",
   "metadata": {
    "execution": {
     "iopub.execute_input": "2021-11-02T22:24:09.327509Z",
     "iopub.status.busy": "2021-11-02T22:24:09.326560Z",
     "iopub.status.idle": "2021-11-02T22:24:09.358100Z",
     "shell.execute_reply": "2021-11-02T22:24:09.358672Z",
     "shell.execute_reply.started": "2021-11-02T21:57:06.626308Z"
    },
    "id": "bK37aYa5vuje",
    "outputId": "e72f6b57-1102-4606-e855-c8ae60841a09",
    "papermill": {
     "duration": 0.070344,
     "end_time": "2021-11-02T22:24:09.358840",
     "exception": false,
     "start_time": "2021-11-02T22:24:09.288496",
     "status": "completed"
    },
    "tags": []
   },
   "outputs": [
    {
     "data": {
      "text/html": [
       "<div>\n",
       "<style scoped>\n",
       "    .dataframe tbody tr th:only-of-type {\n",
       "        vertical-align: middle;\n",
       "    }\n",
       "\n",
       "    .dataframe tbody tr th {\n",
       "        vertical-align: top;\n",
       "    }\n",
       "\n",
       "    .dataframe thead th {\n",
       "        text-align: right;\n",
       "    }\n",
       "</style>\n",
       "<table border=\"1\" class=\"dataframe\">\n",
       "  <thead>\n",
       "    <tr style=\"text-align: right;\">\n",
       "      <th></th>\n",
       "      <th>mpg</th>\n",
       "      <th>cylinders</th>\n",
       "      <th>displacement</th>\n",
       "      <th>horsepower</th>\n",
       "      <th>weight</th>\n",
       "      <th>acceleration</th>\n",
       "      <th>model year</th>\n",
       "      <th>origin</th>\n",
       "    </tr>\n",
       "  </thead>\n",
       "  <tbody>\n",
       "    <tr>\n",
       "      <th>count</th>\n",
       "      <td>398.000000</td>\n",
       "      <td>398.000000</td>\n",
       "      <td>398.000000</td>\n",
       "      <td>398.000000</td>\n",
       "      <td>398.000000</td>\n",
       "      <td>398.000000</td>\n",
       "      <td>398.000000</td>\n",
       "      <td>398.000000</td>\n",
       "    </tr>\n",
       "    <tr>\n",
       "      <th>mean</th>\n",
       "      <td>23.514573</td>\n",
       "      <td>5.454774</td>\n",
       "      <td>193.425879</td>\n",
       "      <td>104.304020</td>\n",
       "      <td>2970.424623</td>\n",
       "      <td>15.568090</td>\n",
       "      <td>76.010050</td>\n",
       "      <td>1.572864</td>\n",
       "    </tr>\n",
       "    <tr>\n",
       "      <th>std</th>\n",
       "      <td>7.815984</td>\n",
       "      <td>1.701004</td>\n",
       "      <td>104.269838</td>\n",
       "      <td>38.222625</td>\n",
       "      <td>846.841774</td>\n",
       "      <td>2.757689</td>\n",
       "      <td>3.697627</td>\n",
       "      <td>0.802055</td>\n",
       "    </tr>\n",
       "    <tr>\n",
       "      <th>min</th>\n",
       "      <td>9.000000</td>\n",
       "      <td>3.000000</td>\n",
       "      <td>68.000000</td>\n",
       "      <td>46.000000</td>\n",
       "      <td>1613.000000</td>\n",
       "      <td>8.000000</td>\n",
       "      <td>70.000000</td>\n",
       "      <td>1.000000</td>\n",
       "    </tr>\n",
       "    <tr>\n",
       "      <th>25%</th>\n",
       "      <td>17.500000</td>\n",
       "      <td>4.000000</td>\n",
       "      <td>104.250000</td>\n",
       "      <td>76.000000</td>\n",
       "      <td>2223.750000</td>\n",
       "      <td>13.825000</td>\n",
       "      <td>73.000000</td>\n",
       "      <td>1.000000</td>\n",
       "    </tr>\n",
       "    <tr>\n",
       "      <th>50%</th>\n",
       "      <td>23.000000</td>\n",
       "      <td>4.000000</td>\n",
       "      <td>148.500000</td>\n",
       "      <td>93.500000</td>\n",
       "      <td>2803.500000</td>\n",
       "      <td>15.500000</td>\n",
       "      <td>76.000000</td>\n",
       "      <td>1.000000</td>\n",
       "    </tr>\n",
       "    <tr>\n",
       "      <th>75%</th>\n",
       "      <td>29.000000</td>\n",
       "      <td>8.000000</td>\n",
       "      <td>262.000000</td>\n",
       "      <td>125.000000</td>\n",
       "      <td>3608.000000</td>\n",
       "      <td>17.175000</td>\n",
       "      <td>79.000000</td>\n",
       "      <td>2.000000</td>\n",
       "    </tr>\n",
       "    <tr>\n",
       "      <th>max</th>\n",
       "      <td>46.600000</td>\n",
       "      <td>8.000000</td>\n",
       "      <td>455.000000</td>\n",
       "      <td>230.000000</td>\n",
       "      <td>5140.000000</td>\n",
       "      <td>24.800000</td>\n",
       "      <td>82.000000</td>\n",
       "      <td>3.000000</td>\n",
       "    </tr>\n",
       "  </tbody>\n",
       "</table>\n",
       "</div>"
      ],
      "text/plain": [
       "              mpg   cylinders  displacement  horsepower       weight  \\\n",
       "count  398.000000  398.000000    398.000000  398.000000   398.000000   \n",
       "mean    23.514573    5.454774    193.425879  104.304020  2970.424623   \n",
       "std      7.815984    1.701004    104.269838   38.222625   846.841774   \n",
       "min      9.000000    3.000000     68.000000   46.000000  1613.000000   \n",
       "25%     17.500000    4.000000    104.250000   76.000000  2223.750000   \n",
       "50%     23.000000    4.000000    148.500000   93.500000  2803.500000   \n",
       "75%     29.000000    8.000000    262.000000  125.000000  3608.000000   \n",
       "max     46.600000    8.000000    455.000000  230.000000  5140.000000   \n",
       "\n",
       "       acceleration  model year      origin  \n",
       "count    398.000000  398.000000  398.000000  \n",
       "mean      15.568090   76.010050    1.572864  \n",
       "std        2.757689    3.697627    0.802055  \n",
       "min        8.000000   70.000000    1.000000  \n",
       "25%       13.825000   73.000000    1.000000  \n",
       "50%       15.500000   76.000000    1.000000  \n",
       "75%       17.175000   79.000000    2.000000  \n",
       "max       24.800000   82.000000    3.000000  "
      ]
     },
     "execution_count": 23,
     "metadata": {},
     "output_type": "execute_result"
    }
   ],
   "source": [
    "data.describe()"
   ]
  },
  {
   "cell_type": "markdown",
   "id": "6972c04e",
   "metadata": {
    "id": "q1uzRW5Rxtfy",
    "papermill": {
     "duration": 0.034275,
     "end_time": "2021-11-02T22:24:09.427771",
     "exception": false,
     "start_time": "2021-11-02T22:24:09.393496",
     "status": "completed"
    },
    "tags": []
   },
   "source": [
    "**Observations:**\n",
    "\n",
    "* There don't seem to be any obvious suspicious values\n",
    "\n",
    "* The earliest car model is from 1970 whereas the latest is from 1982\n",
    "\n",
    "* The average MPG across the cars is 23.51, and the average horsepower is around 104.3\n",
    "\n",
    "* The cars seem to have approximately 5.4 cylinders on average\n",
    "\n"
   ]
  },
  {
   "cell_type": "markdown",
   "id": "936abee9",
   "metadata": {
    "id": "kNOc_6aZvujf",
    "papermill": {
     "duration": 0.03564,
     "end_time": "2021-11-02T22:24:09.497945",
     "exception": false,
     "start_time": "2021-11-02T22:24:09.462305",
     "status": "completed"
    },
    "tags": []
   },
   "source": [
    "#### Let's check the distribution and outliers for each column in the data"
   ]
  },
  {
   "cell_type": "code",
   "execution_count": 24,
   "id": "0afc2a5c",
   "metadata": {
    "execution": {
     "iopub.execute_input": "2021-11-02T22:24:09.571629Z",
     "iopub.status.busy": "2021-11-02T22:24:09.570916Z",
     "iopub.status.idle": "2021-11-02T22:24:12.059991Z",
     "shell.execute_reply": "2021-11-02T22:24:12.060514Z",
     "shell.execute_reply.started": "2021-11-02T21:57:06.665983Z"
    },
    "id": "w21FDMJSvujf",
    "outputId": "6f91a8bb-2973-4cad-a2c9-e41b0d3dff61",
    "papermill": {
     "duration": 2.527666,
     "end_time": "2021-11-02T22:24:12.060680",
     "exception": false,
     "start_time": "2021-11-02T22:24:09.533014",
     "status": "completed"
    },
    "tags": []
   },
   "outputs": [
    {
     "name": "stdout",
     "output_type": "stream",
     "text": [
      "mpg\n",
      "Skew : 0.46\n"
     ]
    },
    {
     "data": {
      "image/png": "[encoded data removed]",
      "text/plain": [
       "<Figure size 1080x288 with 2 Axes>"
      ]
     },
     "metadata": {},
     "output_type": "display_data"
    },
    {
     "name": "stdout",
     "output_type": "stream",
     "text": [
      "cylinders\n",
      "Skew : 0.53\n"
     ]
    },
    {
     "data": {
      "image/png": "[encoded data removed]",
      "text/plain": [
       "<Figure size 1080x288 with 2 Axes>"
      ]
     },
     "metadata": {},
     "output_type": "display_data"
    },
    {
     "name": "stdout",
     "output_type": "stream",
     "text": [
      "displacement\n",
      "Skew : 0.72\n"
     ]
    },
    {
     "data": {
      "image/png": "[encoded data removed]",
      "text/plain": [
       "<Figure size 1080x288 with 2 Axes>"
      ]
     },
     "metadata": {},
     "output_type": "display_data"
    },
    {
     "name": "stdout",
     "output_type": "stream",
     "text": [
      "horsepower\n",
      "Skew : 1.11\n"
     ]
    },
    {
     "data": {
      "image/png": "[encoded data removed]",
      "text/plain": [
       "<Figure size 1080x288 with 2 Axes>"
      ]
     },
     "metadata": {},
     "output_type": "display_data"
    },
    {
     "name": "stdout",
     "output_type": "stream",
     "text": [
      "weight\n",
      "Skew : 0.53\n"
     ]
    },
    {
     "data": {
      "image/png": "[encoded data removed]",
      "text/plain": [
       "<Figure size 1080x288 with 2 Axes>"
      ]
     },
     "metadata": {},
     "output_type": "display_data"
    },
    {
     "name": "stdout",
     "output_type": "stream",
     "text": [
      "acceleration\n",
      "Skew : 0.28\n"
     ]
    },
    {
     "data": {
      "image/png": "[encoded data removed]",
      "text/plain": [
       "<Figure size 1080x288 with 2 Axes>"
      ]
     },
     "metadata": {},
     "output_type": "display_data"
    },
    {
     "name": "stdout",
     "output_type": "stream",
     "text": [
      "model year\n",
      "Skew : 0.01\n"
     ]
    },
    {
     "data": {
      "image/png": "[encoded data removed]",
      "text/plain": [
       "<Figure size 1080x288 with 2 Axes>"
      ]
     },
     "metadata": {},
     "output_type": "display_data"
    },
    {
     "name": "stdout",
     "output_type": "stream",
     "text": [
      "origin\n",
      "Skew : 0.92\n"
     ]
    },
    {
     "data": {
      "image/png": "[encoded data removed]",
      "text/plain": [
       "<Figure size 1080x288 with 2 Axes>"
      ]
     },
     "metadata": {},
     "output_type": "display_data"
    }
   ],
   "source": [
    "# Uncomment and complete the code by filling the blanks \n",
    "\n",
    "for col in data.columns:\n",
    "     print(col)\n",
    "     print('Skew :',round(data[col].skew(),2))\n",
    "     plt.figure(figsize=(15,4))\n",
    "     plt.subplot(1,2,1)\n",
    "     data[col].hist()\n",
    "     plt.ylabel('count')\n",
    "     plt.subplot(1,2,2)\n",
    "     sns.boxplot(x= data[col])\n",
    "     plt.show()"
   ]
  },
  {
   "cell_type": "markdown",
   "id": "ce314563",
   "metadata": {
    "id": "Ny5YaZhvvujf",
    "papermill": {
     "duration": 0.042053,
     "end_time": "2021-11-02T22:24:12.145249",
     "exception": false,
     "start_time": "2021-11-02T22:24:12.103196",
     "status": "completed"
    },
    "tags": []
   },
   "source": [
    "**Observations:**\n",
    "\n",
    "* Some of the distributions seem to be skewed to the right, namely: weight, displacement, horsepower, and MPG\n",
    "\n",
    "* Acceleration resembles a normal distribution\n",
    "\n",
    "* A significant portion of the cars have 4 cylinders. "
   ]
  },
  {
   "cell_type": "markdown",
   "id": "e6eda2c3",
   "metadata": {
    "id": "d6Vqxb0-u4D4",
    "papermill": {
     "duration": 0.041147,
     "end_time": "2021-11-02T22:24:12.227648",
     "exception": false,
     "start_time": "2021-11-02T22:24:12.186501",
     "status": "completed"
    },
    "tags": []
   },
   "source": [
    "#### Checking correlation"
   ]
  },
  {
   "cell_type": "code",
   "execution_count": 25,
   "id": "dd7d54da",
   "metadata": {
    "execution": {
     "iopub.execute_input": "2021-11-02T22:24:12.314244Z",
     "iopub.status.busy": "2021-11-02T22:24:12.313300Z",
     "iopub.status.idle": "2021-11-02T22:24:13.043577Z",
     "shell.execute_reply": "2021-11-02T22:24:13.043036Z",
     "shell.execute_reply.started": "2021-11-02T21:57:09.338062Z"
    },
    "id": "VP3jF_XJvujg",
    "outputId": "fddc1e14-b69a-43cf-b68e-c56965c3b4d3",
    "papermill": {
     "duration": 0.774509,
     "end_time": "2021-11-02T22:24:13.043719",
     "exception": false,
     "start_time": "2021-11-02T22:24:12.269210",
     "status": "completed"
    },
    "tags": []
   },
   "outputs": [
    {
     "data": {
      "image/png": "[encoded data removed]",
      "text/plain": [
       "<Figure size 576x576 with 2 Axes>"
      ]
     },
     "metadata": {},
     "output_type": "display_data"
    }
   ],
   "source": [
    "plt.figure(figsize=(8,8))\n",
    "sns.heatmap(data.corr(), annot=True)\n",
    "plt.show()"
   ]
  },
  {
   "cell_type": "markdown",
   "id": "f87a1975",
   "metadata": {
    "id": "a71M7-jdvujg",
    "papermill": {
     "duration": 0.043476,
     "end_time": "2021-11-02T22:24:13.131804",
     "exception": false,
     "start_time": "2021-11-02T22:24:13.088328",
     "status": "completed"
    },
    "tags": []
   },
   "source": [
    "**Observations:**\n",
    "- The variable mpg has strong negative correlation with cylinders, displacement, horsepower, and weight.\n",
    "- horsepower and acceleration are negatively correlated.\n",
    "- The variable weight has strong positively correlation with horsepower, displacement and cylinders\n",
    "- model year is positively correlated with mpg."
   ]
  },
  {
   "cell_type": "markdown",
   "id": "c2488d53",
   "metadata": {
    "id": "WVuQ8rRuvujg",
    "papermill": {
     "duration": 0.043071,
     "end_time": "2021-11-02T22:24:13.218176",
     "exception": false,
     "start_time": "2021-11-02T22:24:13.175105",
     "status": "completed"
    },
    "tags": []
   },
   "source": [
    "#### Scaling the data"
   ]
  },
  {
   "cell_type": "code",
   "execution_count": 26,
   "id": "2e4e3972",
   "metadata": {
    "execution": {
     "iopub.execute_input": "2021-11-02T22:24:13.308479Z",
     "iopub.status.busy": "2021-11-02T22:24:13.307423Z",
     "iopub.status.idle": "2021-11-02T22:24:13.314980Z",
     "shell.execute_reply": "2021-11-02T22:24:13.315520Z",
     "shell.execute_reply.started": "2021-11-02T21:57:10.091122Z"
    },
    "id": "PWPOuZzwu4D5",
    "papermill": {
     "duration": 0.054486,
     "end_time": "2021-11-02T22:24:13.315702",
     "exception": false,
     "start_time": "2021-11-02T22:24:13.261216",
     "status": "completed"
    },
    "tags": []
   },
   "outputs": [],
   "source": [
    "# scaling the data\n",
    "scaler=StandardScaler()\n",
    "data_scaled=pd.DataFrame(scaler.fit_transform(data), columns=data.columns)"
   ]
  },
  {
   "cell_type": "code",
   "execution_count": 27,
   "id": "efd03cb7",
   "metadata": {
    "execution": {
     "iopub.execute_input": "2021-11-02T22:24:13.410133Z",
     "iopub.status.busy": "2021-11-02T22:24:13.409445Z",
     "iopub.status.idle": "2021-11-02T22:24:13.417774Z",
     "shell.execute_reply": "2021-11-02T22:24:13.417279Z",
     "shell.execute_reply.started": "2021-11-02T21:57:10.102394Z"
    },
    "id": "zj6upuANvujh",
    "outputId": "d27e3632-f5ce-426c-c006-27153864eb05",
    "papermill": {
     "duration": 0.059129,
     "end_time": "2021-11-02T22:24:13.417931",
     "exception": false,
     "start_time": "2021-11-02T22:24:13.358802",
     "status": "completed"
    },
    "tags": []
   },
   "outputs": [
    {
     "data": {
      "text/html": [
       "<div>\n",
       "<style scoped>\n",
       "    .dataframe tbody tr th:only-of-type {\n",
       "        vertical-align: middle;\n",
       "    }\n",
       "\n",
       "    .dataframe tbody tr th {\n",
       "        vertical-align: top;\n",
       "    }\n",
       "\n",
       "    .dataframe thead th {\n",
       "        text-align: right;\n",
       "    }\n",
       "</style>\n",
       "<table border=\"1\" class=\"dataframe\">\n",
       "  <thead>\n",
       "    <tr style=\"text-align: right;\">\n",
       "      <th></th>\n",
       "      <th>mpg</th>\n",
       "      <th>cylinders</th>\n",
       "      <th>displacement</th>\n",
       "      <th>horsepower</th>\n",
       "      <th>weight</th>\n",
       "      <th>acceleration</th>\n",
       "      <th>model year</th>\n",
       "      <th>origin</th>\n",
       "    </tr>\n",
       "  </thead>\n",
       "  <tbody>\n",
       "    <tr>\n",
       "      <th>0</th>\n",
       "      <td>-0.706439</td>\n",
       "      <td>1.498191</td>\n",
       "      <td>1.090604</td>\n",
       "      <td>0.673118</td>\n",
       "      <td>0.630870</td>\n",
       "      <td>-1.295498</td>\n",
       "      <td>-1.627426</td>\n",
       "      <td>-0.715145</td>\n",
       "    </tr>\n",
       "    <tr>\n",
       "      <th>1</th>\n",
       "      <td>-1.090751</td>\n",
       "      <td>1.498191</td>\n",
       "      <td>1.503514</td>\n",
       "      <td>1.589958</td>\n",
       "      <td>0.854333</td>\n",
       "      <td>-1.477038</td>\n",
       "      <td>-1.627426</td>\n",
       "      <td>-0.715145</td>\n",
       "    </tr>\n",
       "    <tr>\n",
       "      <th>2</th>\n",
       "      <td>-0.706439</td>\n",
       "      <td>1.498191</td>\n",
       "      <td>1.196232</td>\n",
       "      <td>1.197027</td>\n",
       "      <td>0.550470</td>\n",
       "      <td>-1.658577</td>\n",
       "      <td>-1.627426</td>\n",
       "      <td>-0.715145</td>\n",
       "    </tr>\n",
       "    <tr>\n",
       "      <th>3</th>\n",
       "      <td>-0.962647</td>\n",
       "      <td>1.498191</td>\n",
       "      <td>1.061796</td>\n",
       "      <td>1.197027</td>\n",
       "      <td>0.546923</td>\n",
       "      <td>-1.295498</td>\n",
       "      <td>-1.627426</td>\n",
       "      <td>-0.715145</td>\n",
       "    </tr>\n",
       "    <tr>\n",
       "      <th>4</th>\n",
       "      <td>-0.834543</td>\n",
       "      <td>1.498191</td>\n",
       "      <td>1.042591</td>\n",
       "      <td>0.935072</td>\n",
       "      <td>0.565841</td>\n",
       "      <td>-1.840117</td>\n",
       "      <td>-1.627426</td>\n",
       "      <td>-0.715145</td>\n",
       "    </tr>\n",
       "  </tbody>\n",
       "</table>\n",
       "</div>"
      ],
      "text/plain": [
       "        mpg  cylinders  displacement  horsepower    weight  acceleration  \\\n",
       "0 -0.706439   1.498191      1.090604    0.673118  0.630870     -1.295498   \n",
       "1 -1.090751   1.498191      1.503514    1.589958  0.854333     -1.477038   \n",
       "2 -0.706439   1.498191      1.196232    1.197027  0.550470     -1.658577   \n",
       "3 -0.962647   1.498191      1.061796    1.197027  0.546923     -1.295498   \n",
       "4 -0.834543   1.498191      1.042591    0.935072  0.565841     -1.840117   \n",
       "\n",
       "   model year    origin  \n",
       "0   -1.627426 -0.715145  \n",
       "1   -1.627426 -0.715145  \n",
       "2   -1.627426 -0.715145  \n",
       "3   -1.627426 -0.715145  \n",
       "4   -1.627426 -0.715145  "
      ]
     },
     "execution_count": 27,
     "metadata": {},
     "output_type": "execute_result"
    }
   ],
   "source": [
    "data_scaled.head()"
   ]
  },
  {
   "cell_type": "markdown",
   "id": "078b500c",
   "metadata": {
    "id": "eIAZ2xZuvujh",
    "papermill": {
     "duration": 0.044854,
     "end_time": "2021-11-02T22:24:13.507102",
     "exception": false,
     "start_time": "2021-11-02T22:24:13.462248",
     "status": "completed"
    },
    "tags": []
   },
   "source": [
    "## Principal Component Analysis"
   ]
  },
  {
   "cell_type": "code",
   "execution_count": 28,
   "id": "07e4a6f5",
   "metadata": {
    "execution": {
     "iopub.execute_input": "2021-11-02T22:24:13.612391Z",
     "iopub.status.busy": "2021-11-02T22:24:13.611672Z",
     "iopub.status.idle": "2021-11-02T22:24:13.619323Z",
     "shell.execute_reply": "2021-11-02T22:24:13.619803Z",
     "shell.execute_reply.started": "2021-11-02T21:57:10.123796Z"
    },
    "id": "SqS_ahV0vuji",
    "papermill": {
     "duration": 0.069681,
     "end_time": "2021-11-02T22:24:13.620015",
     "exception": false,
     "start_time": "2021-11-02T22:24:13.550334",
     "status": "completed"
    },
    "tags": []
   },
   "outputs": [],
   "source": [
    "#Defining the number of principal components to generate \n",
    "n=data_scaled.shape[1]\n",
    "\n",
    "#Finding principal components for the data\n",
    "pca = PCA(n_components=n,random_state = 1) #Applying the PCA algorithm with random state = 1\n",
    "data_pca1 = pd.DataFrame(pca.fit_transform(data_scaled)) #Fitting and transforming the pca function on scaled data\n",
    "\n",
    "#The percentage of variance explained by each principal component\n",
    "exp_var = pca.explained_variance_ratio_"
   ]
  },
  {
   "cell_type": "code",
   "execution_count": 29,
   "id": "40eb4389",
   "metadata": {
    "execution": {
     "iopub.execute_input": "2021-11-02T22:24:13.735033Z",
     "iopub.status.busy": "2021-11-02T22:24:13.731811Z",
     "iopub.status.idle": "2021-11-02T22:24:13.966649Z",
     "shell.execute_reply": "2021-11-02T22:24:13.967147Z",
     "shell.execute_reply.started": "2021-11-02T21:57:10.147730Z"
    },
    "id": "1OiDLM52vuji",
    "outputId": "268838ef-61ce-4802-f812-555c9579f1ef",
    "papermill": {
     "duration": 0.304215,
     "end_time": "2021-11-02T22:24:13.967330",
     "exception": false,
     "start_time": "2021-11-02T22:24:13.663115",
     "status": "completed"
    },
    "tags": []
   },
   "outputs": [
    {
     "data": {
      "text/plain": [
       "Text(0, 0.5, 'Cumulative Explained Variance')"
      ]
     },
     "execution_count": 29,
     "metadata": {},
     "output_type": "execute_result"
    },
    {
     "data": {
      "image/png": "[encoded data removed]",
      "text/plain": [
       "<Figure size 720x720 with 1 Axes>"
      ]
     },
     "metadata": {},
     "output_type": "display_data"
    }
   ],
   "source": [
    "# visualizing the explained variance by individual components\n",
    "plt.figure(figsize = (10,10))\n",
    "plt.plot(range(1,9), exp_var.cumsum(), marker = 'o', linestyle = '--')\n",
    "plt.title(\"Explained Variances by Components\")\n",
    "plt.xlabel(\"Number of Components\")\n",
    "plt.ylabel(\"Cumulative Explained Variance\")"
   ]
  },
  {
   "cell_type": "code",
   "execution_count": 30,
   "id": "e5145bfe",
   "metadata": {
    "execution": {
     "iopub.execute_input": "2021-11-02T22:24:14.061630Z",
     "iopub.status.busy": "2021-11-02T22:24:14.060987Z",
     "iopub.status.idle": "2021-11-02T22:24:14.067285Z",
     "shell.execute_reply": "2021-11-02T22:24:14.068163Z",
     "shell.execute_reply.started": "2021-11-02T21:57:10.380268Z"
    },
    "id": "qclnWlJ9vujj",
    "outputId": "051c6085-4e53-4f38-f699-e133030fd3ae",
    "papermill": {
     "duration": 0.056355,
     "end_time": "2021-11-02T22:24:14.068450",
     "exception": false,
     "start_time": "2021-11-02T22:24:14.012095",
     "status": "completed"
    },
    "tags": []
   },
   "outputs": [
    {
     "name": "stdout",
     "output_type": "stream",
     "text": [
      "Number of PCs that explain at least 90% variance:  4\n"
     ]
    }
   ],
   "source": [
    "# finding the least number of components that can explain more than 90% variance\n",
    "sum = 0\n",
    "for ix, i in enumerate(exp_var):\n",
    "  sum = sum + i\n",
    "  if(sum>0.90):\n",
    "    print(\"Number of PCs that explain at least 90% variance: \", ix+1)\n",
    "    break"
   ]
  },
  {
   "cell_type": "markdown",
   "id": "40477527",
   "metadata": {
    "id": "-P3Hl-3Pvujj",
    "papermill": {
     "duration": 0.045654,
     "end_time": "2021-11-02T22:24:14.161380",
     "exception": false,
     "start_time": "2021-11-02T22:24:14.115726",
     "status": "completed"
    },
    "tags": []
   },
   "source": [
    "**Observations:**\n",
    "\n",
    "* We can see that a large percentage of the variation can be explained by 4 principal components. More specifically, they explain almost 95% of the variance as we can see in the above results. \n",
    "\n",
    "* This lets us reduce the number of dimensions significantly. "
   ]
  },
  {
   "cell_type": "code",
   "execution_count": 31,
   "id": "3bfa2f62",
   "metadata": {
    "execution": {
     "iopub.execute_input": "2021-11-02T22:24:14.257407Z",
     "iopub.status.busy": "2021-11-02T22:24:14.256743Z",
     "iopub.status.idle": "2021-11-02T22:24:14.260575Z",
     "shell.execute_reply": "2021-11-02T22:24:14.261036Z",
     "shell.execute_reply.started": "2021-11-02T21:57:10.388008Z"
    },
    "id": "0bQq4RqjwfEA",
    "outputId": "d1104113-adb3-4035-820f-e8edbea70147",
    "papermill": {
     "duration": 0.054468,
     "end_time": "2021-11-02T22:24:14.261234",
     "exception": false,
     "start_time": "2021-11-02T22:24:14.206766",
     "status": "completed"
    },
    "tags": []
   },
   "outputs": [
    {
     "data": {
      "text/plain": [
       "array([[-0.38580893,  0.40275959,  0.41695876,  0.40163702,  0.40191954,\n",
       "        -0.26458518, -0.2140129 , -0.27644732],\n",
       "       [-0.06873237, -0.13118279, -0.12300984,  0.11329144, -0.21128731,\n",
       "        -0.42732664, -0.679168  ,  0.51144991],\n",
       "       [-0.29486219, -0.07629121, -0.07813473, -0.23423139, -0.00840912,\n",
       "         0.62641658, -0.60100665, -0.3042846 ],\n",
       "       [-0.10121929,  0.2173406 ,  0.13710384,  0.11248961,  0.32291292,\n",
       "         0.50030645,  0.10330125,  0.73879354],\n",
       "       [-0.73828929, -0.48818552, -0.29922592,  0.07964798,  0.13872707,\n",
       "        -0.1019377 ,  0.29716774,  0.05271351],\n",
       "       [ 0.37980634, -0.51630682, -0.01543482,  0.68836439,  0.2102785 ,\n",
       "         0.21209413, -0.10905012, -0.11831208],\n",
       "       [-0.21696457,  0.30147532, -0.10164088,  0.51320815, -0.72246385,\n",
       "         0.21843085,  0.1335898 , -0.02851744],\n",
       "       [-0.11331691, -0.41440717,  0.82825492, -0.12150127, -0.32258118,\n",
       "         0.03993869,  0.05479355,  0.07746704]])"
      ]
     },
     "execution_count": 31,
     "metadata": {},
     "output_type": "execute_result"
    }
   ],
   "source": [
    "pca.components_"
   ]
  },
  {
   "cell_type": "code",
   "execution_count": 32,
   "id": "8c7e9f79",
   "metadata": {
    "execution": {
     "iopub.execute_input": "2021-11-02T22:24:14.355449Z",
     "iopub.status.busy": "2021-11-02T22:24:14.354803Z",
     "iopub.status.idle": "2021-11-02T22:24:14.367592Z",
     "shell.execute_reply": "2021-11-02T22:24:14.366965Z",
     "shell.execute_reply.started": "2021-11-02T21:57:10.406993Z"
    },
    "id": "_G_-CsZJvujj",
    "outputId": "77e3c7ff-ff67-466e-be57-6d93ad3d2947",
    "papermill": {
     "duration": 0.061233,
     "end_time": "2021-11-02T22:24:14.367752",
     "exception": false,
     "start_time": "2021-11-02T22:24:14.306519",
     "status": "completed"
    },
    "tags": []
   },
   "outputs": [
    {
     "data": {
      "text/html": [
       "<div>\n",
       "<style scoped>\n",
       "    .dataframe tbody tr th:only-of-type {\n",
       "        vertical-align: middle;\n",
       "    }\n",
       "\n",
       "    .dataframe tbody tr th {\n",
       "        vertical-align: top;\n",
       "    }\n",
       "\n",
       "    .dataframe thead th {\n",
       "        text-align: right;\n",
       "    }\n",
       "</style>\n",
       "<table border=\"1\" class=\"dataframe\">\n",
       "  <thead>\n",
       "    <tr style=\"text-align: right;\">\n",
       "      <th></th>\n",
       "      <th>PC1</th>\n",
       "      <th>PC2</th>\n",
       "      <th>PC3</th>\n",
       "      <th>PC4</th>\n",
       "    </tr>\n",
       "  </thead>\n",
       "  <tbody>\n",
       "    <tr>\n",
       "      <th>mpg</th>\n",
       "      <td>-0.39</td>\n",
       "      <td>-0.07</td>\n",
       "      <td>-0.29</td>\n",
       "      <td>-0.10</td>\n",
       "    </tr>\n",
       "    <tr>\n",
       "      <th>cylinders</th>\n",
       "      <td>0.40</td>\n",
       "      <td>-0.13</td>\n",
       "      <td>-0.08</td>\n",
       "      <td>0.22</td>\n",
       "    </tr>\n",
       "    <tr>\n",
       "      <th>displacement</th>\n",
       "      <td>0.42</td>\n",
       "      <td>-0.12</td>\n",
       "      <td>-0.08</td>\n",
       "      <td>0.14</td>\n",
       "    </tr>\n",
       "    <tr>\n",
       "      <th>horsepower</th>\n",
       "      <td>0.40</td>\n",
       "      <td>0.11</td>\n",
       "      <td>-0.23</td>\n",
       "      <td>0.11</td>\n",
       "    </tr>\n",
       "    <tr>\n",
       "      <th>weight</th>\n",
       "      <td>0.40</td>\n",
       "      <td>-0.21</td>\n",
       "      <td>-0.01</td>\n",
       "      <td>0.32</td>\n",
       "    </tr>\n",
       "    <tr>\n",
       "      <th>acceleration</th>\n",
       "      <td>-0.26</td>\n",
       "      <td>-0.43</td>\n",
       "      <td>0.63</td>\n",
       "      <td>0.50</td>\n",
       "    </tr>\n",
       "    <tr>\n",
       "      <th>model year</th>\n",
       "      <td>-0.21</td>\n",
       "      <td>-0.68</td>\n",
       "      <td>-0.60</td>\n",
       "      <td>0.10</td>\n",
       "    </tr>\n",
       "    <tr>\n",
       "      <th>origin</th>\n",
       "      <td>-0.28</td>\n",
       "      <td>0.51</td>\n",
       "      <td>-0.30</td>\n",
       "      <td>0.74</td>\n",
       "    </tr>\n",
       "  </tbody>\n",
       "</table>\n",
       "</div>"
      ],
      "text/plain": [
       "               PC1   PC2   PC3   PC4\n",
       "mpg          -0.39 -0.07 -0.29 -0.10\n",
       "cylinders     0.40 -0.13 -0.08  0.22\n",
       "displacement  0.42 -0.12 -0.08  0.14\n",
       "horsepower    0.40  0.11 -0.23  0.11\n",
       "weight        0.40 -0.21 -0.01  0.32\n",
       "acceleration -0.26 -0.43  0.63  0.50\n",
       "model year   -0.21 -0.68 -0.60  0.10\n",
       "origin       -0.28  0.51 -0.30  0.74"
      ]
     },
     "execution_count": 32,
     "metadata": {},
     "output_type": "execute_result"
    }
   ],
   "source": [
    "pc_comps = ['PC1','PC2','PC3','PC4']\n",
    "data_pca = pd.DataFrame(np.round(pca.components_[:4,:],2),index=pc_comps,columns=data_scaled.columns)\n",
    "data_pca.T"
   ]
  },
  {
   "cell_type": "markdown",
   "id": "2d107608",
   "metadata": {
    "id": "ZDG7G_ZDvujk",
    "papermill": {
     "duration": 0.045614,
     "end_time": "2021-11-02T22:24:14.458890",
     "exception": false,
     "start_time": "2021-11-02T22:24:14.413276",
     "status": "completed"
    },
    "tags": []
   },
   "source": [
    "**Let's look at the coefficients of three principal components from the below dataframe**"
   ]
  },
  {
   "cell_type": "code",
   "execution_count": 33,
   "id": "f46b836a",
   "metadata": {
    "execution": {
     "iopub.execute_input": "2021-11-02T22:24:14.557821Z",
     "iopub.status.busy": "2021-11-02T22:24:14.557165Z",
     "iopub.status.idle": "2021-11-02T22:24:14.618643Z",
     "shell.execute_reply": "2021-11-02T22:24:14.619107Z",
     "shell.execute_reply.started": "2021-11-02T21:57:10.429599Z"
    },
    "id": "mi16_6Bxvujk",
    "outputId": "8cc14085-9df5-4679-fd82-264ae8e9e7c1",
    "papermill": {
     "duration": 0.11375,
     "end_time": "2021-11-02T22:24:14.619292",
     "exception": false,
     "start_time": "2021-11-02T22:24:14.505542",
     "status": "completed"
    },
    "tags": []
   },
   "outputs": [
    {
     "data": {
      "text/html": [
       "<style type=\"text/css\">\n",
       "#T_ab308_row1_col0, #T_ab308_row2_col0, #T_ab308_row3_col0, #T_ab308_row4_col0, #T_ab308_row5_col2, #T_ab308_row5_col3, #T_ab308_row7_col1, #T_ab308_row7_col3 {\n",
       "  background: skyblue;\n",
       "}\n",
       "#T_ab308_row5_col1, #T_ab308_row6_col1, #T_ab308_row6_col2 {\n",
       "  background: pink;\n",
       "}\n",
       "</style>\n",
       "<table id=\"T_ab308\">\n",
       "  <thead>\n",
       "    <tr>\n",
       "      <th class=\"blank level0\" >&nbsp;</th>\n",
       "      <th id=\"T_ab308_level0_col0\" class=\"col_heading level0 col0\" >PC1</th>\n",
       "      <th id=\"T_ab308_level0_col1\" class=\"col_heading level0 col1\" >PC2</th>\n",
       "      <th id=\"T_ab308_level0_col2\" class=\"col_heading level0 col2\" >PC3</th>\n",
       "      <th id=\"T_ab308_level0_col3\" class=\"col_heading level0 col3\" >PC4</th>\n",
       "    </tr>\n",
       "  </thead>\n",
       "  <tbody>\n",
       "    <tr>\n",
       "      <th id=\"T_ab308_level0_row0\" class=\"row_heading level0 row0\" >mpg</th>\n",
       "      <td id=\"T_ab308_row0_col0\" class=\"data row0 col0\" >-0.390000</td>\n",
       "      <td id=\"T_ab308_row0_col1\" class=\"data row0 col1\" >-0.070000</td>\n",
       "      <td id=\"T_ab308_row0_col2\" class=\"data row0 col2\" >-0.290000</td>\n",
       "      <td id=\"T_ab308_row0_col3\" class=\"data row0 col3\" >-0.100000</td>\n",
       "    </tr>\n",
       "    <tr>\n",
       "      <th id=\"T_ab308_level0_row1\" class=\"row_heading level0 row1\" >cylinders</th>\n",
       "      <td id=\"T_ab308_row1_col0\" class=\"data row1 col0\" >0.400000</td>\n",
       "      <td id=\"T_ab308_row1_col1\" class=\"data row1 col1\" >-0.130000</td>\n",
       "      <td id=\"T_ab308_row1_col2\" class=\"data row1 col2\" >-0.080000</td>\n",
       "      <td id=\"T_ab308_row1_col3\" class=\"data row1 col3\" >0.220000</td>\n",
       "    </tr>\n",
       "    <tr>\n",
       "      <th id=\"T_ab308_level0_row2\" class=\"row_heading level0 row2\" >displacement</th>\n",
       "      <td id=\"T_ab308_row2_col0\" class=\"data row2 col0\" >0.420000</td>\n",
       "      <td id=\"T_ab308_row2_col1\" class=\"data row2 col1\" >-0.120000</td>\n",
       "      <td id=\"T_ab308_row2_col2\" class=\"data row2 col2\" >-0.080000</td>\n",
       "      <td id=\"T_ab308_row2_col3\" class=\"data row2 col3\" >0.140000</td>\n",
       "    </tr>\n",
       "    <tr>\n",
       "      <th id=\"T_ab308_level0_row3\" class=\"row_heading level0 row3\" >horsepower</th>\n",
       "      <td id=\"T_ab308_row3_col0\" class=\"data row3 col0\" >0.400000</td>\n",
       "      <td id=\"T_ab308_row3_col1\" class=\"data row3 col1\" >0.110000</td>\n",
       "      <td id=\"T_ab308_row3_col2\" class=\"data row3 col2\" >-0.230000</td>\n",
       "      <td id=\"T_ab308_row3_col3\" class=\"data row3 col3\" >0.110000</td>\n",
       "    </tr>\n",
       "    <tr>\n",
       "      <th id=\"T_ab308_level0_row4\" class=\"row_heading level0 row4\" >weight</th>\n",
       "      <td id=\"T_ab308_row4_col0\" class=\"data row4 col0\" >0.400000</td>\n",
       "      <td id=\"T_ab308_row4_col1\" class=\"data row4 col1\" >-0.210000</td>\n",
       "      <td id=\"T_ab308_row4_col2\" class=\"data row4 col2\" >-0.010000</td>\n",
       "      <td id=\"T_ab308_row4_col3\" class=\"data row4 col3\" >0.320000</td>\n",
       "    </tr>\n",
       "    <tr>\n",
       "      <th id=\"T_ab308_level0_row5\" class=\"row_heading level0 row5\" >acceleration</th>\n",
       "      <td id=\"T_ab308_row5_col0\" class=\"data row5 col0\" >-0.260000</td>\n",
       "      <td id=\"T_ab308_row5_col1\" class=\"data row5 col1\" >-0.430000</td>\n",
       "      <td id=\"T_ab308_row5_col2\" class=\"data row5 col2\" >0.630000</td>\n",
       "      <td id=\"T_ab308_row5_col3\" class=\"data row5 col3\" >0.500000</td>\n",
       "    </tr>\n",
       "    <tr>\n",
       "      <th id=\"T_ab308_level0_row6\" class=\"row_heading level0 row6\" >model year</th>\n",
       "      <td id=\"T_ab308_row6_col0\" class=\"data row6 col0\" >-0.210000</td>\n",
       "      <td id=\"T_ab308_row6_col1\" class=\"data row6 col1\" >-0.680000</td>\n",
       "      <td id=\"T_ab308_row6_col2\" class=\"data row6 col2\" >-0.600000</td>\n",
       "      <td id=\"T_ab308_row6_col3\" class=\"data row6 col3\" >0.100000</td>\n",
       "    </tr>\n",
       "    <tr>\n",
       "      <th id=\"T_ab308_level0_row7\" class=\"row_heading level0 row7\" >origin</th>\n",
       "      <td id=\"T_ab308_row7_col0\" class=\"data row7 col0\" >-0.280000</td>\n",
       "      <td id=\"T_ab308_row7_col1\" class=\"data row7 col1\" >0.510000</td>\n",
       "      <td id=\"T_ab308_row7_col2\" class=\"data row7 col2\" >-0.300000</td>\n",
       "      <td id=\"T_ab308_row7_col3\" class=\"data row7 col3\" >0.740000</td>\n",
       "    </tr>\n",
       "  </tbody>\n",
       "</table>\n"
      ],
      "text/plain": [
       "<pandas.io.formats.style.Styler at 0x7fba933df340>"
      ]
     },
     "execution_count": 33,
     "metadata": {},
     "output_type": "execute_result"
    }
   ],
   "source": [
    "def color_high(val):\n",
    "    if val <= -0.40: # you can decide any value as per your understanding\n",
    "        return 'background: pink'\n",
    "    elif val >= 0.40:\n",
    "        return 'background: skyblue'   \n",
    "    \n",
    "data_pca.T.style.applymap(color_high)"
   ]
  },
  {
   "cell_type": "markdown",
   "id": "2adbd1c6",
   "metadata": {
    "id": "oG5orJKGvujk",
    "papermill": {
     "duration": 0.047057,
     "end_time": "2021-11-02T22:24:14.714137",
     "exception": false,
     "start_time": "2021-11-02T22:24:14.667080",
     "status": "completed"
    },
    "tags": []
   },
   "source": [
    "**Observations:**\n",
    "\n",
    "* The first principle component seems to have high coefficients for cylinders, displacement, horsepower, and weight and a very low coefficient for mpg- this seems to be associated with cars that are bigger and heavier with more cylinders and less fuel efficient. \n",
    "\n",
    "* PC2 has a very low coefficient for model year, so it seems to be associated with cars that have typical values for older cars. \n",
    "\n",
    "* PC3 has a low coefficient for acceleration "
   ]
  },
  {
   "cell_type": "markdown",
   "id": "5a1cec24",
   "metadata": {
    "id": "jZo1h9pNvujk",
    "papermill": {
     "duration": 0.046682,
     "end_time": "2021-11-02T22:24:14.807442",
     "exception": false,
     "start_time": "2021-11-02T22:24:14.760760",
     "status": "completed"
    },
    "tags": []
   },
   "source": [
    "#### We can also visualize the data in 2 dimensions using first two principal components "
   ]
  },
  {
   "cell_type": "code",
   "execution_count": 34,
   "id": "40ce613c",
   "metadata": {
    "execution": {
     "iopub.execute_input": "2021-11-02T22:24:14.906364Z",
     "iopub.status.busy": "2021-11-02T22:24:14.905686Z",
     "iopub.status.idle": "2021-11-02T22:24:15.102933Z",
     "shell.execute_reply": "2021-11-02T22:24:15.103398Z",
     "shell.execute_reply.started": "2021-11-02T21:57:10.510586Z"
    },
    "id": "7iWxTqHfvujl",
    "outputId": "f81f104d-2288-4d26-d5fa-dbebf59301ae",
    "papermill": {
     "duration": 0.249141,
     "end_time": "2021-11-02T22:24:15.103598",
     "exception": false,
     "start_time": "2021-11-02T22:24:14.854457",
     "status": "completed"
    },
    "tags": []
   },
   "outputs": [
    {
     "data": {
      "image/png": "[encoded data removed]",
      "text/plain": [
       "<Figure size 504x504 with 1 Axes>"
      ]
     },
     "metadata": {},
     "output_type": "display_data"
    }
   ],
   "source": [
    "plt.figure(figsize = (7,7))\n",
    "sns.scatterplot(x=data_pca1[0],y=data_pca1[1])\n",
    "plt.xlabel(\"PC1\")\n",
    "plt.ylabel(\"PC2\")\n",
    "plt.show()"
   ]
  },
  {
   "cell_type": "markdown",
   "id": "af5ecd8d",
   "metadata": {
    "id": "eH9VeKRBvujl",
    "papermill": {
     "duration": 0.047159,
     "end_time": "2021-11-02T22:24:15.200012",
     "exception": false,
     "start_time": "2021-11-02T22:24:15.152853",
     "status": "completed"
    },
    "tags": []
   },
   "source": [
    "**Let's try adding hue to the scatter plot**"
   ]
  },
  {
   "cell_type": "code",
   "execution_count": 35,
   "id": "2b9661d9",
   "metadata": {
    "execution": {
     "iopub.execute_input": "2021-11-02T22:24:15.299535Z",
     "iopub.status.busy": "2021-11-02T22:24:15.298851Z",
     "iopub.status.idle": "2021-11-02T22:24:15.727961Z",
     "shell.execute_reply": "2021-11-02T22:24:15.728514Z",
     "shell.execute_reply.started": "2021-11-02T21:57:10.677367Z"
    },
    "id": "VrB1kzKpvujl",
    "outputId": "15c41b52-8ab1-40af-eaf9-f77e88b944d8",
    "papermill": {
     "duration": 0.480473,
     "end_time": "2021-11-02T22:24:15.728701",
     "exception": false,
     "start_time": "2021-11-02T22:24:15.248228",
     "status": "completed"
    },
    "tags": []
   },
   "outputs": [
    {
     "data": {
      "text/plain": [
       "Text(0, 0.5, 'PC2')"
      ]
     },
     "execution_count": 35,
     "metadata": {},
     "output_type": "execute_result"
    },
    {
     "data": {
      "image/png": "[encoded data removed]",
      "text/plain": [
       "<Figure size 504x504 with 1 Axes>"
      ]
     },
     "metadata": {},
     "output_type": "display_data"
    }
   ],
   "source": [
    "df_concat = pd.concat([data_pca1, data], axis=1)\n",
    "\n",
    "plt.figure(figsize = (7,7))\n",
    "#Create a scatter plot with x=0 and y=1 using df_concat dataframe\n",
    "sns.scatterplot(x = 0, y = 1, data=df_concat, hue = 'cylinders')\n",
    "\n",
    "plt.xlabel(\"PC1\")\n",
    "plt.ylabel(\"PC2\")"
   ]
  },
  {
   "cell_type": "markdown",
   "id": "9ef937d5",
   "metadata": {
    "id": "v1i8nQCevujl",
    "papermill": {
     "duration": 0.068415,
     "end_time": "2021-11-02T22:24:15.862064",
     "exception": false,
     "start_time": "2021-11-02T22:24:15.793649",
     "status": "completed"
    },
    "tags": []
   },
   "source": [
    "**Observations:**\n",
    "\n",
    "We see 3 different clusters:\n",
    "* one of them has 3-5 cylinders\n",
    "* the other has 6 cylinders \n",
    "* the last one has 8 cylinders\n",
    "\n",
    "Some values overlap"
   ]
  },
  {
   "cell_type": "markdown",
   "id": "72d3797f",
   "metadata": {
    "id": "4TY5Sh719iVg",
    "papermill": {
     "duration": 0.065349,
     "end_time": "2021-11-02T22:24:15.983252",
     "exception": false,
     "start_time": "2021-11-02T22:24:15.917903",
     "status": "completed"
    },
    "tags": []
   },
   "source": [
    "## t-SNE"
   ]
  },
  {
   "cell_type": "markdown",
   "id": "619130ca",
   "metadata": {
    "id": "PLaYBsvIvujm",
    "papermill": {
     "duration": 0.050828,
     "end_time": "2021-11-02T22:24:16.103794",
     "exception": false,
     "start_time": "2021-11-02T22:24:16.052966",
     "status": "completed"
    },
    "tags": []
   },
   "source": [
    "\n",
    "**We will apply the TSNE embedding with 2 components for the dataframe data_scaled**\n",
    "  "
   ]
  },
  {
   "cell_type": "code",
   "execution_count": 36,
   "id": "e9e34a70",
   "metadata": {
    "execution": {
     "iopub.execute_input": "2021-11-02T22:24:16.220807Z",
     "iopub.status.busy": "2021-11-02T22:24:16.219684Z",
     "iopub.status.idle": "2021-11-02T22:24:17.987378Z",
     "shell.execute_reply": "2021-11-02T22:24:17.988268Z",
     "shell.execute_reply.started": "2021-11-02T21:57:11.132147Z"
    },
    "id": "dW1jMGn7u4D7",
    "papermill": {
     "duration": 1.830335,
     "end_time": "2021-11-02T22:24:17.988537",
     "exception": false,
     "start_time": "2021-11-02T22:24:16.158202",
     "status": "completed"
    },
    "tags": []
   },
   "outputs": [],
   "source": [
    "tsne = TSNE(n_components = 2, random_state = 1)  #Applying the TSNE algorithm with random state = 1\n",
    "data_tsne = tsne.fit_transform(data_scaled) #Fitting and transforming tsne function on the scaled data"
   ]
  },
  {
   "cell_type": "code",
   "execution_count": 37,
   "id": "d329cd07",
   "metadata": {
    "execution": {
     "iopub.execute_input": "2021-11-02T22:24:18.146883Z",
     "iopub.status.busy": "2021-11-02T22:24:18.146137Z",
     "iopub.status.idle": "2021-11-02T22:24:18.159076Z",
     "shell.execute_reply": "2021-11-02T22:24:18.159593Z",
     "shell.execute_reply.started": "2021-11-02T21:57:12.717638Z"
    },
    "id": "gC17thkgu4D7",
    "outputId": "7d5e6f56-6cbf-4734-ecbc-91ebd14b3ee2",
    "papermill": {
     "duration": 0.101715,
     "end_time": "2021-11-02T22:24:18.159808",
     "exception": false,
     "start_time": "2021-11-02T22:24:18.058093",
     "status": "completed"
    },
    "tags": []
   },
   "outputs": [
    {
     "data": {
      "text/plain": [
       "(398, 2)"
      ]
     },
     "execution_count": 37,
     "metadata": {},
     "output_type": "execute_result"
    }
   ],
   "source": [
    "data_tsne.shape"
   ]
  },
  {
   "cell_type": "code",
   "execution_count": 38,
   "id": "c789404a",
   "metadata": {
    "execution": {
     "iopub.execute_input": "2021-11-02T22:24:18.306317Z",
     "iopub.status.busy": "2021-11-02T22:24:18.305542Z",
     "iopub.status.idle": "2021-11-02T22:24:18.307894Z",
     "shell.execute_reply": "2021-11-02T22:24:18.308436Z",
     "shell.execute_reply.started": "2021-11-02T21:57:12.729017Z"
    },
    "id": "Gfybekuyu4D8",
    "papermill": {
     "duration": 0.075212,
     "end_time": "2021-11-02T22:24:18.308659",
     "exception": false,
     "start_time": "2021-11-02T22:24:18.233447",
     "status": "completed"
    },
    "tags": []
   },
   "outputs": [],
   "source": [
    "data_tsne = pd.DataFrame(data = data_tsne, columns = ['Component 1', 'Component 2'])"
   ]
  },
  {
   "cell_type": "code",
   "execution_count": 39,
   "id": "459d12e0",
   "metadata": {
    "execution": {
     "iopub.execute_input": "2021-11-02T22:24:18.441679Z",
     "iopub.status.busy": "2021-11-02T22:24:18.441002Z",
     "iopub.status.idle": "2021-11-02T22:24:18.448203Z",
     "shell.execute_reply": "2021-11-02T22:24:18.448714Z",
     "shell.execute_reply.started": "2021-11-02T21:57:12.741196Z"
    },
    "id": "oNoqqDg5u4D8",
    "outputId": "f8839fd1-c9b0-4c04-a4de-bd58ea25eeae",
    "papermill": {
     "duration": 0.075449,
     "end_time": "2021-11-02T22:24:18.448882",
     "exception": false,
     "start_time": "2021-11-02T22:24:18.373433",
     "status": "completed"
    },
    "tags": []
   },
   "outputs": [
    {
     "data": {
      "text/html": [
       "<div>\n",
       "<style scoped>\n",
       "    .dataframe tbody tr th:only-of-type {\n",
       "        vertical-align: middle;\n",
       "    }\n",
       "\n",
       "    .dataframe tbody tr th {\n",
       "        vertical-align: top;\n",
       "    }\n",
       "\n",
       "    .dataframe thead th {\n",
       "        text-align: right;\n",
       "    }\n",
       "</style>\n",
       "<table border=\"1\" class=\"dataframe\">\n",
       "  <thead>\n",
       "    <tr style=\"text-align: right;\">\n",
       "      <th></th>\n",
       "      <th>Component 1</th>\n",
       "      <th>Component 2</th>\n",
       "    </tr>\n",
       "  </thead>\n",
       "  <tbody>\n",
       "    <tr>\n",
       "      <th>0</th>\n",
       "      <td>-26.238907</td>\n",
       "      <td>-27.735867</td>\n",
       "    </tr>\n",
       "    <tr>\n",
       "      <th>1</th>\n",
       "      <td>-24.917070</td>\n",
       "      <td>-29.176781</td>\n",
       "    </tr>\n",
       "    <tr>\n",
       "      <th>2</th>\n",
       "      <td>-25.815916</td>\n",
       "      <td>-28.597298</td>\n",
       "    </tr>\n",
       "    <tr>\n",
       "      <th>3</th>\n",
       "      <td>-25.597639</td>\n",
       "      <td>-28.098434</td>\n",
       "    </tr>\n",
       "    <tr>\n",
       "      <th>4</th>\n",
       "      <td>-26.189590</td>\n",
       "      <td>-28.445448</td>\n",
       "    </tr>\n",
       "  </tbody>\n",
       "</table>\n",
       "</div>"
      ],
      "text/plain": [
       "   Component 1  Component 2\n",
       "0   -26.238907   -27.735867\n",
       "1   -24.917070   -29.176781\n",
       "2   -25.815916   -28.597298\n",
       "3   -25.597639   -28.098434\n",
       "4   -26.189590   -28.445448"
      ]
     },
     "execution_count": 39,
     "metadata": {},
     "output_type": "execute_result"
    }
   ],
   "source": [
    "data_tsne.head()"
   ]
  },
  {
   "cell_type": "code",
   "execution_count": 40,
   "id": "215be4da",
   "metadata": {
    "execution": {
     "iopub.execute_input": "2021-11-02T22:24:18.560914Z",
     "iopub.status.busy": "2021-11-02T22:24:18.559904Z",
     "iopub.status.idle": "2021-11-02T22:24:18.752007Z",
     "shell.execute_reply": "2021-11-02T22:24:18.751431Z",
     "shell.execute_reply.started": "2021-11-02T21:57:12.764963Z"
    },
    "id": "Ix_OL7AIu4D9",
    "outputId": "965e1f2a-280b-4f9b-8c31-2a0b6b2eb015",
    "papermill": {
     "duration": 0.253877,
     "end_time": "2021-11-02T22:24:18.752196",
     "exception": false,
     "start_time": "2021-11-02T22:24:18.498319",
     "status": "completed"
    },
    "tags": []
   },
   "outputs": [
    {
     "data": {
      "text/plain": [
       "<AxesSubplot:xlabel='Component 1', ylabel='Component 2'>"
      ]
     },
     "execution_count": 40,
     "metadata": {},
     "output_type": "execute_result"
    },
    {
     "data": {
      "image/png": "[encoded data removed]",
      "text/plain": [
       "<Figure size 432x288 with 1 Axes>"
      ]
     },
     "metadata": {},
     "output_type": "display_data"
    }
   ],
   "source": [
    "sns.scatterplot(x=data_tsne.iloc[:,0],y=data_tsne.iloc[:,1])"
   ]
  },
  {
   "cell_type": "code",
   "execution_count": 41,
   "id": "bdbee152",
   "metadata": {
    "execution": {
     "iopub.execute_input": "2021-11-02T22:24:18.865904Z",
     "iopub.status.busy": "2021-11-02T22:24:18.859181Z",
     "iopub.status.idle": "2021-11-02T22:24:19.210146Z",
     "shell.execute_reply": "2021-11-02T22:24:19.210750Z",
     "shell.execute_reply.started": "2021-11-02T21:57:13.049720Z"
    },
    "id": "WW3GQboou4D9",
    "outputId": "55eeee1f-50d5-45b0-dd31-a7e3b24b2e8d",
    "papermill": {
     "duration": 0.407816,
     "end_time": "2021-11-02T22:24:19.210929",
     "exception": false,
     "start_time": "2021-11-02T22:24:18.803113",
     "status": "completed"
    },
    "tags": []
   },
   "outputs": [
    {
     "data": {
      "text/plain": [
       "<AxesSubplot:xlabel='Component 1', ylabel='Component 2'>"
      ]
     },
     "execution_count": 41,
     "metadata": {},
     "output_type": "execute_result"
    },
    {
     "data": {
      "image/png": "[encoded data removed]",
      "text/plain": [
       "<Figure size 432x288 with 1 Axes>"
      ]
     },
     "metadata": {},
     "output_type": "display_data"
    }
   ],
   "source": [
    "# Let's see scatter plot of the data w.r.t number of cylinders\n",
    "sns.scatterplot(x=data_tsne.iloc[:,0],y=data_tsne.iloc[:,1],hue=data.cylinders)"
   ]
  },
  {
   "cell_type": "markdown",
   "id": "2fa2e826",
   "metadata": {
    "id": "PEfKLZkou4D-",
    "papermill": {
     "duration": 0.052693,
     "end_time": "2021-11-02T22:24:19.316136",
     "exception": false,
     "start_time": "2021-11-02T22:24:19.263443",
     "status": "completed"
    },
    "tags": []
   },
   "source": [
    "**Observations:**\n",
    "\n",
    "* The vizualized groups seem to be formed in a similar way as PCA however they are better separated with larger distances between clusters to make the distinctions clear"
   ]
  },
  {
   "cell_type": "code",
   "execution_count": 42,
   "id": "fb5ca334",
   "metadata": {
    "execution": {
     "iopub.execute_input": "2021-11-02T22:24:19.428551Z",
     "iopub.status.busy": "2021-11-02T22:24:19.427797Z",
     "iopub.status.idle": "2021-11-02T22:24:19.430609Z",
     "shell.execute_reply": "2021-11-02T22:24:19.430151Z",
     "shell.execute_reply.started": "2021-11-02T22:07:22.941845Z"
    },
    "id": "aLTJSNBvu4D_",
    "papermill": {
     "duration": 0.06186,
     "end_time": "2021-11-02T22:24:19.430753",
     "exception": false,
     "start_time": "2021-11-02T22:24:19.368893",
     "status": "completed"
    },
    "tags": []
   },
   "outputs": [],
   "source": [
    "# Let's assign points to 3 different groups\n",
    "def grouping(x):\n",
    "    first_component = x['Component 1']\n",
    "    second_component = x['Component 2']\n",
    "    if (first_component> 0) and (second_component >0): \n",
    "        return 'group_1'\n",
    "    if (first_component >-20 ) and (second_component >-10):\n",
    "        return 'group_2'\n",
    "    else: \n",
    "        return 'group_3'"
   ]
  },
  {
   "cell_type": "code",
   "execution_count": 43,
   "id": "ff9ef01b",
   "metadata": {
    "execution": {
     "iopub.execute_input": "2021-11-02T22:24:19.541715Z",
     "iopub.status.busy": "2021-11-02T22:24:19.541075Z",
     "iopub.status.idle": "2021-11-02T22:24:19.553930Z",
     "shell.execute_reply": "2021-11-02T22:24:19.554407Z",
     "shell.execute_reply.started": "2021-11-02T22:07:26.052810Z"
    },
    "id": "R6rWEgPPu4EA",
    "papermill": {
     "duration": 0.069706,
     "end_time": "2021-11-02T22:24:19.554595",
     "exception": false,
     "start_time": "2021-11-02T22:24:19.484889",
     "status": "completed"
    },
    "tags": []
   },
   "outputs": [],
   "source": [
    "data_tsne['groups'] = data_tsne.apply(grouping,axis=1)"
   ]
  },
  {
   "cell_type": "code",
   "execution_count": 44,
   "id": "f6729ddf",
   "metadata": {
    "execution": {
     "iopub.execute_input": "2021-11-02T22:24:19.692041Z",
     "iopub.status.busy": "2021-11-02T22:24:19.691361Z",
     "iopub.status.idle": "2021-11-02T22:24:19.968219Z",
     "shell.execute_reply": "2021-11-02T22:24:19.968768Z",
     "shell.execute_reply.started": "2021-11-02T22:16:06.817420Z"
    },
    "id": "RX-r_I0-u4EA",
    "outputId": "30f9ef85-568a-4e7b-8bcd-aee4ef10b17e",
    "papermill": {
     "duration": 0.362117,
     "end_time": "2021-11-02T22:24:19.968954",
     "exception": false,
     "start_time": "2021-11-02T22:24:19.606837",
     "status": "completed"
    },
    "tags": []
   },
   "outputs": [
    {
     "data": {
      "text/plain": [
       "<AxesSubplot:xlabel='Component 1', ylabel='Component 2'>"
      ]
     },
     "execution_count": 44,
     "metadata": {},
     "output_type": "execute_result"
    },
    {
     "data": {
      "image/png": "[encoded data removed]",
      "text/plain": [
       "<Figure size 432x288 with 1 Axes>"
      ]
     },
     "metadata": {},
     "output_type": "display_data"
    }
   ],
   "source": [
    "sns.scatterplot(x=data_tsne.iloc[:,0],y=data_tsne.iloc[:,1],hue=data_tsne.iloc[:,2])"
   ]
  },
  {
   "cell_type": "code",
   "execution_count": 45,
   "id": "bff81545",
   "metadata": {
    "execution": {
     "iopub.execute_input": "2021-11-02T22:24:20.084908Z",
     "iopub.status.busy": "2021-11-02T22:24:20.084314Z",
     "iopub.status.idle": "2021-11-02T22:24:20.087698Z",
     "shell.execute_reply": "2021-11-02T22:24:20.087198Z",
     "shell.execute_reply.started": "2021-11-02T22:16:23.800168Z"
    },
    "id": "hHh5_G9iu4EB",
    "papermill": {
     "duration": 0.064643,
     "end_time": "2021-11-02T22:24:20.087846",
     "exception": false,
     "start_time": "2021-11-02T22:24:20.023203",
     "status": "completed"
    },
    "tags": []
   },
   "outputs": [],
   "source": [
    "data['groups'] = data_tsne['groups'] "
   ]
  },
  {
   "cell_type": "markdown",
   "id": "5746b552",
   "metadata": {
    "id": "RMrLjS6yvujo",
    "papermill": {
     "duration": 0.055506,
     "end_time": "2021-11-02T22:24:20.198734",
     "exception": false,
     "start_time": "2021-11-02T22:24:20.143228",
     "status": "completed"
    },
    "tags": []
   },
   "source": [
    "\n",
    "**Let's take a better look at the different groups w.r.t different variables**"
   ]
  },
  {
   "cell_type": "code",
   "execution_count": 46,
   "id": "971f30a7",
   "metadata": {
    "execution": {
     "iopub.execute_input": "2021-11-02T22:24:20.348858Z",
     "iopub.status.busy": "2021-11-02T22:24:20.339119Z",
     "iopub.status.idle": "2021-11-02T22:24:21.836557Z",
     "shell.execute_reply": "2021-11-02T22:24:21.837199Z",
     "shell.execute_reply.started": "2021-11-02T22:16:26.554650Z"
    },
    "id": "TycHswKhu4EB",
    "outputId": "8ca0240a-5f7e-48d8-d6d9-690cfb90ca24",
    "papermill": {
     "duration": 1.58464,
     "end_time": "2021-11-02T22:24:21.837371",
     "exception": false,
     "start_time": "2021-11-02T22:24:20.252731",
     "status": "completed"
    },
    "tags": []
   },
   "outputs": [
    {
     "data": {
      "image/png": "[encoded data removed]",
      "text/plain": [
       "<Figure size 1440x1440 with 7 Axes>"
      ]
     },
     "metadata": {},
     "output_type": "display_data"
    }
   ],
   "source": [
    "all_col = data.columns.tolist()\n",
    "plt.figure(figsize=(20, 20))\n",
    "\n",
    "for i, variable in enumerate(all_col):\n",
    "    if i==7:\n",
    "        break\n",
    "    plt.subplot(4, 2, i + 1)\n",
    "    #Create boxplot with groups on the x-axis and variable on the y-axis (use the dataframe data)\n",
    "    sns.boxplot(x = data['groups'], y = data[variable])\n",
    "    plt.tight_layout()\n",
    "    plt.title(variable)\n",
    "plt.show()"
   ]
  },
  {
   "cell_type": "code",
   "execution_count": 47,
   "id": "db6a8af6",
   "metadata": {
    "execution": {
     "iopub.execute_input": "2021-11-02T22:24:21.952078Z",
     "iopub.status.busy": "2021-11-02T22:24:21.951450Z",
     "iopub.status.idle": "2021-11-02T22:24:21.966106Z",
     "shell.execute_reply": "2021-11-02T22:24:21.966623Z",
     "shell.execute_reply.started": "2021-11-02T22:16:36.855430Z"
    },
    "id": "icxBCbLzAqu2",
    "outputId": "f42d8fa3-9610-4ed2-9924-4f369b591327",
    "papermill": {
     "duration": 0.073508,
     "end_time": "2021-11-02T22:24:21.966803",
     "exception": false,
     "start_time": "2021-11-02T22:24:21.893295",
     "status": "completed"
    },
    "tags": []
   },
   "outputs": [
    {
     "data": {
      "text/html": [
       "<div>\n",
       "<style scoped>\n",
       "    .dataframe tbody tr th:only-of-type {\n",
       "        vertical-align: middle;\n",
       "    }\n",
       "\n",
       "    .dataframe tbody tr th {\n",
       "        vertical-align: top;\n",
       "    }\n",
       "\n",
       "    .dataframe thead th {\n",
       "        text-align: right;\n",
       "    }\n",
       "</style>\n",
       "<table border=\"1\" class=\"dataframe\">\n",
       "  <thead>\n",
       "    <tr style=\"text-align: right;\">\n",
       "      <th></th>\n",
       "      <th>mpg</th>\n",
       "      <th>cylinders</th>\n",
       "      <th>displacement</th>\n",
       "      <th>horsepower</th>\n",
       "      <th>weight</th>\n",
       "      <th>acceleration</th>\n",
       "      <th>model year</th>\n",
       "      <th>origin</th>\n",
       "      <th>car name</th>\n",
       "      <th>groups</th>\n",
       "    </tr>\n",
       "  </thead>\n",
       "  <tbody>\n",
       "    <tr>\n",
       "      <th>0</th>\n",
       "      <td>18.0</td>\n",
       "      <td>8</td>\n",
       "      <td>307.0</td>\n",
       "      <td>130</td>\n",
       "      <td>3504</td>\n",
       "      <td>12.0</td>\n",
       "      <td>70</td>\n",
       "      <td>1</td>\n",
       "      <td>chevrolet chevelle malibu</td>\n",
       "      <td>group_3</td>\n",
       "    </tr>\n",
       "    <tr>\n",
       "      <th>1</th>\n",
       "      <td>15.0</td>\n",
       "      <td>8</td>\n",
       "      <td>350.0</td>\n",
       "      <td>165</td>\n",
       "      <td>3693</td>\n",
       "      <td>11.5</td>\n",
       "      <td>70</td>\n",
       "      <td>1</td>\n",
       "      <td>buick skylark 320</td>\n",
       "      <td>group_3</td>\n",
       "    </tr>\n",
       "    <tr>\n",
       "      <th>2</th>\n",
       "      <td>18.0</td>\n",
       "      <td>8</td>\n",
       "      <td>318.0</td>\n",
       "      <td>150</td>\n",
       "      <td>3436</td>\n",
       "      <td>11.0</td>\n",
       "      <td>70</td>\n",
       "      <td>1</td>\n",
       "      <td>plymouth satellite</td>\n",
       "      <td>group_3</td>\n",
       "    </tr>\n",
       "    <tr>\n",
       "      <th>3</th>\n",
       "      <td>16.0</td>\n",
       "      <td>8</td>\n",
       "      <td>304.0</td>\n",
       "      <td>150</td>\n",
       "      <td>3433</td>\n",
       "      <td>12.0</td>\n",
       "      <td>70</td>\n",
       "      <td>1</td>\n",
       "      <td>amc rebel sst</td>\n",
       "      <td>group_3</td>\n",
       "    </tr>\n",
       "    <tr>\n",
       "      <th>4</th>\n",
       "      <td>17.0</td>\n",
       "      <td>8</td>\n",
       "      <td>302.0</td>\n",
       "      <td>140</td>\n",
       "      <td>3449</td>\n",
       "      <td>10.5</td>\n",
       "      <td>70</td>\n",
       "      <td>1</td>\n",
       "      <td>ford torino</td>\n",
       "      <td>group_3</td>\n",
       "    </tr>\n",
       "  </tbody>\n",
       "</table>\n",
       "</div>"
      ],
      "text/plain": [
       "    mpg  cylinders  displacement horsepower  weight  acceleration  model year  \\\n",
       "0  18.0          8         307.0        130    3504          12.0          70   \n",
       "1  15.0          8         350.0        165    3693          11.5          70   \n",
       "2  18.0          8         318.0        150    3436          11.0          70   \n",
       "3  16.0          8         304.0        150    3433          12.0          70   \n",
       "4  17.0          8         302.0        140    3449          10.5          70   \n",
       "\n",
       "   origin                   car name   groups  \n",
       "0       1  chevrolet chevelle malibu  group_3  \n",
       "1       1          buick skylark 320  group_3  \n",
       "2       1         plymouth satellite  group_3  \n",
       "3       1              amc rebel sst  group_3  \n",
       "4       1                ford torino  group_3  "
      ]
     },
     "execution_count": 47,
     "metadata": {},
     "output_type": "execute_result"
    }
   ],
   "source": [
    "data2 = data1.copy()\n",
    "data2['groups'] = data_tsne['groups']\n",
    "data2.head()"
   ]
  },
  {
   "cell_type": "code",
   "execution_count": 48,
   "id": "154d8221",
   "metadata": {
    "execution": {
     "iopub.execute_input": "2021-11-02T22:24:22.085144Z",
     "iopub.status.busy": "2021-11-02T22:24:22.084427Z",
     "iopub.status.idle": "2021-11-02T22:24:22.098519Z",
     "shell.execute_reply": "2021-11-02T22:24:22.099001Z",
     "shell.execute_reply.started": "2021-11-02T22:16:40.450301Z"
    },
    "id": "mNgDmJO1BZyU",
    "outputId": "ad9e458d-1ceb-4a5c-a679-9a3bbf0f043c",
    "papermill": {
     "duration": 0.074832,
     "end_time": "2021-11-02T22:24:22.099206",
     "exception": false,
     "start_time": "2021-11-02T22:24:22.024374",
     "status": "completed"
    },
    "tags": []
   },
   "outputs": [
    {
     "data": {
      "text/html": [
       "<div>\n",
       "<style scoped>\n",
       "    .dataframe tbody tr th:only-of-type {\n",
       "        vertical-align: middle;\n",
       "    }\n",
       "\n",
       "    .dataframe tbody tr th {\n",
       "        vertical-align: top;\n",
       "    }\n",
       "\n",
       "    .dataframe thead th {\n",
       "        text-align: right;\n",
       "    }\n",
       "</style>\n",
       "<table border=\"1\" class=\"dataframe\">\n",
       "  <thead>\n",
       "    <tr style=\"text-align: right;\">\n",
       "      <th></th>\n",
       "      <th>mpg</th>\n",
       "      <th>cylinders</th>\n",
       "      <th>displacement</th>\n",
       "      <th>horsepower</th>\n",
       "      <th>weight</th>\n",
       "      <th>acceleration</th>\n",
       "      <th>model year</th>\n",
       "      <th>origin</th>\n",
       "      <th>car name</th>\n",
       "      <th>groups</th>\n",
       "    </tr>\n",
       "  </thead>\n",
       "  <tbody>\n",
       "    <tr>\n",
       "      <th>14</th>\n",
       "      <td>24.0</td>\n",
       "      <td>4</td>\n",
       "      <td>113.0</td>\n",
       "      <td>95</td>\n",
       "      <td>2372</td>\n",
       "      <td>15.0</td>\n",
       "      <td>70</td>\n",
       "      <td>3</td>\n",
       "      <td>toyota corona mark ii</td>\n",
       "      <td>group_1</td>\n",
       "    </tr>\n",
       "    <tr>\n",
       "      <th>18</th>\n",
       "      <td>27.0</td>\n",
       "      <td>4</td>\n",
       "      <td>97.0</td>\n",
       "      <td>88</td>\n",
       "      <td>2130</td>\n",
       "      <td>14.5</td>\n",
       "      <td>70</td>\n",
       "      <td>3</td>\n",
       "      <td>datsun pl510</td>\n",
       "      <td>group_1</td>\n",
       "    </tr>\n",
       "    <tr>\n",
       "      <th>19</th>\n",
       "      <td>26.0</td>\n",
       "      <td>4</td>\n",
       "      <td>97.0</td>\n",
       "      <td>46</td>\n",
       "      <td>1835</td>\n",
       "      <td>20.5</td>\n",
       "      <td>70</td>\n",
       "      <td>2</td>\n",
       "      <td>volkswagen 1131 deluxe sedan</td>\n",
       "      <td>group_1</td>\n",
       "    </tr>\n",
       "    <tr>\n",
       "      <th>20</th>\n",
       "      <td>25.0</td>\n",
       "      <td>4</td>\n",
       "      <td>110.0</td>\n",
       "      <td>87</td>\n",
       "      <td>2672</td>\n",
       "      <td>17.5</td>\n",
       "      <td>70</td>\n",
       "      <td>2</td>\n",
       "      <td>peugeot 504</td>\n",
       "      <td>group_1</td>\n",
       "    </tr>\n",
       "    <tr>\n",
       "      <th>21</th>\n",
       "      <td>24.0</td>\n",
       "      <td>4</td>\n",
       "      <td>107.0</td>\n",
       "      <td>90</td>\n",
       "      <td>2430</td>\n",
       "      <td>14.5</td>\n",
       "      <td>70</td>\n",
       "      <td>2</td>\n",
       "      <td>audi 100 ls</td>\n",
       "      <td>group_1</td>\n",
       "    </tr>\n",
       "  </tbody>\n",
       "</table>\n",
       "</div>"
      ],
      "text/plain": [
       "     mpg  cylinders  displacement horsepower  weight  acceleration  \\\n",
       "14  24.0          4         113.0         95    2372          15.0   \n",
       "18  27.0          4          97.0         88    2130          14.5   \n",
       "19  26.0          4          97.0         46    1835          20.5   \n",
       "20  25.0          4         110.0         87    2672          17.5   \n",
       "21  24.0          4         107.0         90    2430          14.5   \n",
       "\n",
       "    model year  origin                      car name   groups  \n",
       "14          70       3         toyota corona mark ii  group_1  \n",
       "18          70       3                  datsun pl510  group_1  \n",
       "19          70       2  volkswagen 1131 deluxe sedan  group_1  \n",
       "20          70       2                   peugeot 504  group_1  \n",
       "21          70       2                   audi 100 ls  group_1  "
      ]
     },
     "execution_count": 48,
     "metadata": {},
     "output_type": "execute_result"
    }
   ],
   "source": [
    "data2[data2['groups'] == 'group_1'].head()"
   ]
  },
  {
   "cell_type": "code",
   "execution_count": 49,
   "id": "7f6356b2",
   "metadata": {
    "execution": {
     "iopub.execute_input": "2021-11-02T22:24:22.217468Z",
     "iopub.status.busy": "2021-11-02T22:24:22.216727Z",
     "iopub.status.idle": "2021-11-02T22:24:22.230463Z",
     "shell.execute_reply": "2021-11-02T22:24:22.230884Z",
     "shell.execute_reply.started": "2021-11-02T22:16:44.356854Z"
    },
    "id": "wLfGi84pBoGz",
    "outputId": "38bcb006-8afa-4226-c26a-cee197b1e9c0",
    "papermill": {
     "duration": 0.074182,
     "end_time": "2021-11-02T22:24:22.231089",
     "exception": false,
     "start_time": "2021-11-02T22:24:22.156907",
     "status": "completed"
    },
    "tags": []
   },
   "outputs": [
    {
     "data": {
      "text/html": [
       "<div>\n",
       "<style scoped>\n",
       "    .dataframe tbody tr th:only-of-type {\n",
       "        vertical-align: middle;\n",
       "    }\n",
       "\n",
       "    .dataframe tbody tr th {\n",
       "        vertical-align: top;\n",
       "    }\n",
       "\n",
       "    .dataframe thead th {\n",
       "        text-align: right;\n",
       "    }\n",
       "</style>\n",
       "<table border=\"1\" class=\"dataframe\">\n",
       "  <thead>\n",
       "    <tr style=\"text-align: right;\">\n",
       "      <th></th>\n",
       "      <th>mpg</th>\n",
       "      <th>cylinders</th>\n",
       "      <th>displacement</th>\n",
       "      <th>horsepower</th>\n",
       "      <th>weight</th>\n",
       "      <th>acceleration</th>\n",
       "      <th>model year</th>\n",
       "      <th>origin</th>\n",
       "      <th>car name</th>\n",
       "      <th>groups</th>\n",
       "    </tr>\n",
       "  </thead>\n",
       "  <tbody>\n",
       "    <tr>\n",
       "      <th>15</th>\n",
       "      <td>22.0</td>\n",
       "      <td>6</td>\n",
       "      <td>198.0</td>\n",
       "      <td>95</td>\n",
       "      <td>2833</td>\n",
       "      <td>15.5</td>\n",
       "      <td>70</td>\n",
       "      <td>1</td>\n",
       "      <td>plymouth duster</td>\n",
       "      <td>group_2</td>\n",
       "    </tr>\n",
       "    <tr>\n",
       "      <th>16</th>\n",
       "      <td>18.0</td>\n",
       "      <td>6</td>\n",
       "      <td>199.0</td>\n",
       "      <td>97</td>\n",
       "      <td>2774</td>\n",
       "      <td>15.5</td>\n",
       "      <td>70</td>\n",
       "      <td>1</td>\n",
       "      <td>amc hornet</td>\n",
       "      <td>group_2</td>\n",
       "    </tr>\n",
       "    <tr>\n",
       "      <th>17</th>\n",
       "      <td>21.0</td>\n",
       "      <td>6</td>\n",
       "      <td>200.0</td>\n",
       "      <td>85</td>\n",
       "      <td>2587</td>\n",
       "      <td>16.0</td>\n",
       "      <td>70</td>\n",
       "      <td>1</td>\n",
       "      <td>ford maverick</td>\n",
       "      <td>group_2</td>\n",
       "    </tr>\n",
       "    <tr>\n",
       "      <th>24</th>\n",
       "      <td>21.0</td>\n",
       "      <td>6</td>\n",
       "      <td>199.0</td>\n",
       "      <td>90</td>\n",
       "      <td>2648</td>\n",
       "      <td>15.0</td>\n",
       "      <td>70</td>\n",
       "      <td>1</td>\n",
       "      <td>amc gremlin</td>\n",
       "      <td>group_2</td>\n",
       "    </tr>\n",
       "    <tr>\n",
       "      <th>33</th>\n",
       "      <td>19.0</td>\n",
       "      <td>6</td>\n",
       "      <td>232.0</td>\n",
       "      <td>100</td>\n",
       "      <td>2634</td>\n",
       "      <td>13.0</td>\n",
       "      <td>71</td>\n",
       "      <td>1</td>\n",
       "      <td>amc gremlin</td>\n",
       "      <td>group_2</td>\n",
       "    </tr>\n",
       "  </tbody>\n",
       "</table>\n",
       "</div>"
      ],
      "text/plain": [
       "     mpg  cylinders  displacement horsepower  weight  acceleration  \\\n",
       "15  22.0          6         198.0         95    2833          15.5   \n",
       "16  18.0          6         199.0         97    2774          15.5   \n",
       "17  21.0          6         200.0         85    2587          16.0   \n",
       "24  21.0          6         199.0         90    2648          15.0   \n",
       "33  19.0          6         232.0        100    2634          13.0   \n",
       "\n",
       "    model year  origin         car name   groups  \n",
       "15          70       1  plymouth duster  group_2  \n",
       "16          70       1       amc hornet  group_2  \n",
       "17          70       1    ford maverick  group_2  \n",
       "24          70       1      amc gremlin  group_2  \n",
       "33          71       1      amc gremlin  group_2  "
      ]
     },
     "execution_count": 49,
     "metadata": {},
     "output_type": "execute_result"
    }
   ],
   "source": [
    "data2[data2['groups'] == 'group_2'].head()"
   ]
  },
  {
   "cell_type": "code",
   "execution_count": 50,
   "id": "24143419",
   "metadata": {
    "execution": {
     "iopub.execute_input": "2021-11-02T22:24:22.348993Z",
     "iopub.status.busy": "2021-11-02T22:24:22.348414Z",
     "iopub.status.idle": "2021-11-02T22:24:22.361848Z",
     "shell.execute_reply": "2021-11-02T22:24:22.362292Z",
     "shell.execute_reply.started": "2021-11-02T22:16:46.901257Z"
    },
    "id": "jo0Y02QWBqeH",
    "outputId": "ab9c7eb2-6ae3-4716-a810-41466f99f4b4",
    "papermill": {
     "duration": 0.074328,
     "end_time": "2021-11-02T22:24:22.362466",
     "exception": false,
     "start_time": "2021-11-02T22:24:22.288138",
     "status": "completed"
    },
    "tags": []
   },
   "outputs": [
    {
     "data": {
      "text/html": [
       "<div>\n",
       "<style scoped>\n",
       "    .dataframe tbody tr th:only-of-type {\n",
       "        vertical-align: middle;\n",
       "    }\n",
       "\n",
       "    .dataframe tbody tr th {\n",
       "        vertical-align: top;\n",
       "    }\n",
       "\n",
       "    .dataframe thead th {\n",
       "        text-align: right;\n",
       "    }\n",
       "</style>\n",
       "<table border=\"1\" class=\"dataframe\">\n",
       "  <thead>\n",
       "    <tr style=\"text-align: right;\">\n",
       "      <th></th>\n",
       "      <th>mpg</th>\n",
       "      <th>cylinders</th>\n",
       "      <th>displacement</th>\n",
       "      <th>horsepower</th>\n",
       "      <th>weight</th>\n",
       "      <th>acceleration</th>\n",
       "      <th>model year</th>\n",
       "      <th>origin</th>\n",
       "      <th>car name</th>\n",
       "      <th>groups</th>\n",
       "    </tr>\n",
       "  </thead>\n",
       "  <tbody>\n",
       "    <tr>\n",
       "      <th>0</th>\n",
       "      <td>18.0</td>\n",
       "      <td>8</td>\n",
       "      <td>307.0</td>\n",
       "      <td>130</td>\n",
       "      <td>3504</td>\n",
       "      <td>12.0</td>\n",
       "      <td>70</td>\n",
       "      <td>1</td>\n",
       "      <td>chevrolet chevelle malibu</td>\n",
       "      <td>group_3</td>\n",
       "    </tr>\n",
       "    <tr>\n",
       "      <th>1</th>\n",
       "      <td>15.0</td>\n",
       "      <td>8</td>\n",
       "      <td>350.0</td>\n",
       "      <td>165</td>\n",
       "      <td>3693</td>\n",
       "      <td>11.5</td>\n",
       "      <td>70</td>\n",
       "      <td>1</td>\n",
       "      <td>buick skylark 320</td>\n",
       "      <td>group_3</td>\n",
       "    </tr>\n",
       "    <tr>\n",
       "      <th>2</th>\n",
       "      <td>18.0</td>\n",
       "      <td>8</td>\n",
       "      <td>318.0</td>\n",
       "      <td>150</td>\n",
       "      <td>3436</td>\n",
       "      <td>11.0</td>\n",
       "      <td>70</td>\n",
       "      <td>1</td>\n",
       "      <td>plymouth satellite</td>\n",
       "      <td>group_3</td>\n",
       "    </tr>\n",
       "    <tr>\n",
       "      <th>3</th>\n",
       "      <td>16.0</td>\n",
       "      <td>8</td>\n",
       "      <td>304.0</td>\n",
       "      <td>150</td>\n",
       "      <td>3433</td>\n",
       "      <td>12.0</td>\n",
       "      <td>70</td>\n",
       "      <td>1</td>\n",
       "      <td>amc rebel sst</td>\n",
       "      <td>group_3</td>\n",
       "    </tr>\n",
       "    <tr>\n",
       "      <th>4</th>\n",
       "      <td>17.0</td>\n",
       "      <td>8</td>\n",
       "      <td>302.0</td>\n",
       "      <td>140</td>\n",
       "      <td>3449</td>\n",
       "      <td>10.5</td>\n",
       "      <td>70</td>\n",
       "      <td>1</td>\n",
       "      <td>ford torino</td>\n",
       "      <td>group_3</td>\n",
       "    </tr>\n",
       "  </tbody>\n",
       "</table>\n",
       "</div>"
      ],
      "text/plain": [
       "    mpg  cylinders  displacement horsepower  weight  acceleration  model year  \\\n",
       "0  18.0          8         307.0        130    3504          12.0          70   \n",
       "1  15.0          8         350.0        165    3693          11.5          70   \n",
       "2  18.0          8         318.0        150    3436          11.0          70   \n",
       "3  16.0          8         304.0        150    3433          12.0          70   \n",
       "4  17.0          8         302.0        140    3449          10.5          70   \n",
       "\n",
       "   origin                   car name   groups  \n",
       "0       1  chevrolet chevelle malibu  group_3  \n",
       "1       1          buick skylark 320  group_3  \n",
       "2       1         plymouth satellite  group_3  \n",
       "3       1              amc rebel sst  group_3  \n",
       "4       1                ford torino  group_3  "
      ]
     },
     "execution_count": 50,
     "metadata": {},
     "output_type": "execute_result"
    }
   ],
   "source": [
    "data2[data2['groups'] == 'group_3'].head()"
   ]
  },
  {
   "cell_type": "markdown",
   "id": "1c9e1c53",
   "metadata": {
    "id": "37KSsbmSu4EC",
    "papermill": {
     "duration": 0.057584,
     "end_time": "2021-11-02T22:24:22.477446",
     "exception": false,
     "start_time": "2021-11-02T22:24:22.419862",
     "status": "completed"
    },
    "tags": []
   },
   "source": [
    "**Observations:**\n",
    "\n",
    "* We get clear distinctions between each group across the different variables\n",
    "\n",
    "* Group 1 seems to be more fuel efficient, simpler cars since they have higher MPG, lower weight, lower horsepower, and lower cylinders. One such example is the datsun pl510 which is a relatively smaller car. These might be the cars meant more for every day use and affordability. \n",
    "\n",
    "* Group 2 seems to represent the \"intermediate\" cars. Ones that don't have very good mpg but not as low as group 3. They seem to be mid sized, with a mid-range horsepower and cylinders. An example would be the plymouth duster. \n",
    "\n",
    "* Group 3 seems to be the heavier cars and faster cars that have a lot of horsepower and cylinders, they are less fuel efficient than the other categories since their MPG numbers are lower. An example would be the chevrolet chevelle malibu.   "
   ]
  }
 ],
 "metadata": {
  "kernelspec": {
   "display_name": "Python 3.9.12 ('py39_12')",
   "language": "python",
   "name": "python3"
  },
  "language_info": {
   "codemirror_mode": {
    "name": "ipython",
    "version": 3
   },
   "file_extension": ".py",
   "mimetype": "text/x-python",
   "name": "python",
   "nbconvert_exporter": "python",
   "pygments_lexer": "ipython3",
   "version": "3.9.12"
  },
  "papermill": {
   "default_parameters": {},
   "duration": 25.321031,
   "end_time": "2021-11-02T22:24:23.245591",
   "environment_variables": {},
   "exception": null,
   "input_path": "__notebook__.ipynb",
   "output_path": "__notebook__.ipynb",
   "parameters": {},
   "start_time": "2021-11-02T22:23:57.924560",
   "version": "2.3.3"
  },
  "vscode": {
   "interpreter": {
    "hash": "3a732e81fc08c4e379bcf1d3125c34e5a3546a75aa6c8e713d0127d49a44bd91"
   }
  }
 },
 "nbformat": 4,
 "nbformat_minor": 5
}
