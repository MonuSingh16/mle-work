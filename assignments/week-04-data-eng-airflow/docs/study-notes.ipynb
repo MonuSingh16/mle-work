{
 "cells": [
  {
   "attachments": {},
   "cell_type": "markdown",
   "metadata": {},
   "source": [
    "#### An Overview of the End-to-End Machine Learning Workflow\n",
    "\n",
    "\n",
    "- Data Engineering : data acquisition & data preparation,\n",
    "- ML Model Engineering: ML model training & serving, and\n",
    "- Code Engineering :integrating ML model into the final product.\n",
    "\n",
    "The initial step in any data science workflow is to acquire and prepare the data to be analyzed.\n",
    "\n",
    "1. Data Ingestion - Spark, HDFS, CSV, etc. Includes synthetic data generation or data enrichment.\n",
    "\n",
    "2. Exploration and Validation - Data profiling - content and structure of the data. Output - metadata (max, min, avg of values).Data validation operations are user-defined error detection functions\n",
    "\n",
    "3. Data Wrangling (Cleaning) - Re-formatting particular attributes and correcting errors in data, such as missing values imputation.\n",
    "\n",
    "4. Data Labeling - The operation of the Data Engineering pipeline, where each data point is assigned to a specific category.\n",
    "\n",
    "5. Data Splitting - Splitting the data into training, validation, and test datasets\n",
    "\n",
    "Writing and executing machine learning algorithms to obtain an ML model.\n",
    "\n",
    "1. Model Training - The process of applying the machine learning algorithm on training data to train an ML model. Feature engineering and the hyperparameter tuning\n",
    "\n",
    "2. Model Evaluation - Validating the trained model to ensure it meets original codified objectives before serving the ML model\n",
    "\n",
    "3. Model Testing - Performing the final “Model Acceptance Test” by using the hold backtest dataset.\n",
    "\n",
    "4. Model Packaging - Exporting the final ML model into a specific format (e.g. PMML, PFA, or ONNX),\n",
    "\n",
    "Integration of the previously engineered ML model into existing software. This stage includes the following operations:\n",
    "\n",
    "1. Model Serving - The process of addressing the ML model artifact in a production environment.\n",
    "\n",
    "2. Model Performance Monitoring - Performance on live and previously unseen data, such as prediction or recommendation.\n",
    "\n",
    "3. Model Performance Logging - Every inference request results in the log-record.\n",
    "\n",
    "\n",
    "<p align = \"center\" draggable=”false” ><img src=\"https://ml-ops.org/img/ml-engineering.jpg\"\n",
    "</p>"
   ]
  },
  {
   "cell_type": "code",
   "execution_count": null,
   "metadata": {},
   "outputs": [],
   "source": []
  },
  {
   "cell_type": "markdown",
   "metadata": {},
   "source": []
  }
 ],
 "metadata": {
  "kernelspec": {
   "display_name": "Python 3.9.12 ('venv-mle-intro')",
   "language": "python",
   "name": "python3"
  },
  "language_info": {
   "name": "python",
   "version": "3.9.12"
  },
  "orig_nbformat": 4,
  "vscode": {
   "interpreter": {
    "hash": "7991b96ae2d438527a676220cae583b1eed54192c16927558942d1a2da6ebbf3"
   }
  }
 },
 "nbformat": 4,
 "nbformat_minor": 2
}
