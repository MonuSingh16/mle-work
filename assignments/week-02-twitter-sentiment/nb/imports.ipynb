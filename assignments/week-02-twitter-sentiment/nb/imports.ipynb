{
 "cells": [
  {
   "cell_type": "code",
   "execution_count": 1,
   "id": "dd8ca316",
   "metadata": {},
   "outputs": [
    {
     "name": "stdout",
     "output_type": "stream",
     "text": [
      "Collecting transformers\n",
      "  Using cached transformers-4.25.1-py3-none-any.whl (5.8 MB)\n",
      "Collecting torch\n",
      "  Using cached torch-1.13.0-cp39-none-macosx_11_0_arm64.whl (55.7 MB)\n",
      "Collecting requests\n",
      "  Using cached requests-2.28.1-py3-none-any.whl (62 kB)\n",
      "Requirement already satisfied: packaging>=20.0 in /Users/monusingh/opt/miniconda3/envs/venv-sa/lib/python3.9/site-packages (from transformers) (22.0)\n",
      "Collecting filelock\n",
      "  Using cached filelock-3.8.2-py3-none-any.whl (10 kB)\n",
      "Collecting huggingface-hub<1.0,>=0.10.0\n",
      "  Using cached huggingface_hub-0.11.1-py3-none-any.whl (182 kB)\n",
      "Collecting pyyaml>=5.1\n",
      "  Using cached PyYAML-6.0-cp39-cp39-macosx_11_0_arm64.whl (173 kB)\n",
      "Collecting tokenizers!=0.11.3,<0.14,>=0.11.1\n",
      "  Using cached tokenizers-0.13.2-cp39-cp39-macosx_12_0_arm64.whl (3.7 MB)\n",
      "Collecting tqdm>=4.27\n",
      "  Using cached tqdm-4.64.1-py2.py3-none-any.whl (78 kB)\n",
      "Collecting regex!=2019.12.17\n",
      "  Using cached regex-2022.10.31-cp39-cp39-macosx_11_0_arm64.whl (287 kB)\n",
      "Collecting numpy>=1.17\n",
      "  Downloading numpy-1.23.5-cp39-cp39-macosx_11_0_arm64.whl (13.4 MB)\n",
      "\u001b[2K     \u001b[90m━━━━━━━━━━━━━━━━━━━━━━━━━━━━━━━━━━━━━━━━\u001b[0m \u001b[32m13.4/13.4 MB\u001b[0m \u001b[31m36.3 MB/s\u001b[0m eta \u001b[36m0:00:00\u001b[0m00:01\u001b[0m00:01\u001b[0m\n",
      "\u001b[?25hCollecting typing-extensions\n",
      "  Using cached typing_extensions-4.4.0-py3-none-any.whl (26 kB)\n",
      "Requirement already satisfied: certifi>=2017.4.17 in /Users/monusingh/opt/miniconda3/envs/venv-sa/lib/python3.9/site-packages (from requests->transformers) (2022.9.24)\n",
      "Collecting urllib3<1.27,>=1.21.1\n",
      "  Using cached urllib3-1.26.13-py2.py3-none-any.whl (140 kB)\n",
      "Collecting charset-normalizer<3,>=2\n",
      "  Using cached charset_normalizer-2.1.1-py3-none-any.whl (39 kB)\n",
      "Collecting idna<4,>=2.5\n",
      "  Downloading idna-3.4-py3-none-any.whl (61 kB)\n",
      "\u001b[2K     \u001b[90m━━━━━━━━━━━━━━━━━━━━━━━━━━━━━━━━━━━━━━━━\u001b[0m \u001b[32m61.5/61.5 kB\u001b[0m \u001b[31m9.2 MB/s\u001b[0m eta \u001b[36m0:00:00\u001b[0m\n",
      "\u001b[?25hInstalling collected packages: tokenizers, urllib3, typing-extensions, tqdm, regex, pyyaml, numpy, idna, filelock, charset-normalizer, torch, requests, huggingface-hub, transformers\n",
      "Successfully installed charset-normalizer-2.1.1 filelock-3.8.2 huggingface-hub-0.11.1 idna-3.4 numpy-1.23.5 pyyaml-6.0 regex-2022.10.31 requests-2.28.1 tokenizers-0.13.2 torch-1.13.0 tqdm-4.64.1 transformers-4.25.1 typing-extensions-4.4.0 urllib3-1.26.13\n",
      "Collecting emoji==0.6.0\n",
      "  Using cached emoji-0.6.0-py3-none-any.whl\n",
      "Installing collected packages: emoji\n",
      "Successfully installed emoji-0.6.0\n"
     ]
    },
    {
     "name": "stderr",
     "output_type": "stream",
     "text": [
      "/Users/monusingh/opt/miniconda3/envs/venv-sa/lib/python3.9/site-packages/tqdm/auto.py:22: TqdmWarning: IProgress not found. Please update jupyter and ipywidgets. See https://ipywidgets.readthedocs.io/en/stable/user_install.html\n",
      "  from .autonotebook import tqdm as notebook_tqdm\n",
      "Downloading: 100%|██████████| 890/890 [00:00<00:00, 397kB/s]\n",
      "Downloading: 100%|██████████| 540M/540M [00:19<00:00, 27.1MB/s] \n",
      "Downloading: 100%|██████████| 295/295 [00:00<00:00, 82.0kB/s]\n",
      "Downloading: 100%|██████████| 843k/843k [00:01<00:00, 565kB/s]  \n",
      "Downloading: 100%|██████████| 1.08M/1.08M [00:01<00:00, 583kB/s] \n",
      "Downloading: 100%|██████████| 17.0/17.0 [00:00<00:00, 5.33kB/s]\n",
      "Downloading: 100%|██████████| 150/150 [00:00<00:00, 43.0kB/s]\n"
     ]
    }
   ],
   "source": [
    "%pip install transformers torch\n",
    "%pip install emoji==0.6.0\n",
    "\n",
    "from transformers import pipeline\n",
    "\n",
    "pinstall = pipeline(model=\"finiteautomata/bertweet-base-sentiment-analysis\")"
   ]
  }
 ],
 "metadata": {
  "kernelspec": {
   "display_name": "Python 3.9.12 ('venv-sa')",
   "language": "python",
   "name": "python3"
  },
  "language_info": {
   "codemirror_mode": {
    "name": "ipython",
    "version": 3
   },
   "file_extension": ".py",
   "mimetype": "text/x-python",
   "name": "python",
   "nbconvert_exporter": "python",
   "pygments_lexer": "ipython3",
   "version": "3.9.12"
  },
  "vscode": {
   "interpreter": {
    "hash": "58a1f3beba581acd4c6632f9dd5e6882a57b8a8b62de6d2794a3b7b45c88866b"
   }
  }
 },
 "nbformat": 4,
 "nbformat_minor": 5
}
