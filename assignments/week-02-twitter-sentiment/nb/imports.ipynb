{
 "cells": [
  {
   "cell_type": "code",
   "execution_count": 2,
   "id": "dd8ca316",
   "metadata": {},
   "outputs": [
    {
     "name": "stdout",
     "output_type": "stream",
     "text": [
      "Requirement already satisfied: transformers in /Users/monusingh/opt/miniconda3/envs/venv-sa/lib/python3.9/site-packages (4.25.1)\n",
      "Requirement already satisfied: torch in /Users/monusingh/opt/miniconda3/envs/venv-sa/lib/python3.9/site-packages (1.13.0)\n",
      "Requirement already satisfied: packaging>=20.0 in /Users/monusingh/opt/miniconda3/envs/venv-sa/lib/python3.9/site-packages (from transformers) (22.0)\n",
      "Requirement already satisfied: numpy>=1.17 in /Users/monusingh/opt/miniconda3/envs/venv-sa/lib/python3.9/site-packages (from transformers) (1.23.5)\n",
      "Requirement already satisfied: regex!=2019.12.17 in /Users/monusingh/opt/miniconda3/envs/venv-sa/lib/python3.9/site-packages (from transformers) (2022.10.31)\n",
      "Requirement already satisfied: tokenizers!=0.11.3,<0.14,>=0.11.1 in /Users/monusingh/opt/miniconda3/envs/venv-sa/lib/python3.9/site-packages (from transformers) (0.13.2)\n",
      "Requirement already satisfied: tqdm>=4.27 in /Users/monusingh/opt/miniconda3/envs/venv-sa/lib/python3.9/site-packages (from transformers) (4.64.1)\n",
      "Requirement already satisfied: huggingface-hub<1.0,>=0.10.0 in /Users/monusingh/opt/miniconda3/envs/venv-sa/lib/python3.9/site-packages (from transformers) (0.11.1)\n",
      "Requirement already satisfied: filelock in /Users/monusingh/opt/miniconda3/envs/venv-sa/lib/python3.9/site-packages (from transformers) (3.8.2)\n",
      "Requirement already satisfied: requests in /Users/monusingh/opt/miniconda3/envs/venv-sa/lib/python3.9/site-packages (from transformers) (2.28.1)\n",
      "Requirement already satisfied: pyyaml>=5.1 in /Users/monusingh/opt/miniconda3/envs/venv-sa/lib/python3.9/site-packages (from transformers) (6.0)\n",
      "Requirement already satisfied: typing-extensions in /Users/monusingh/opt/miniconda3/envs/venv-sa/lib/python3.9/site-packages (from torch) (4.4.0)\n",
      "Requirement already satisfied: idna<4,>=2.5 in /Users/monusingh/opt/miniconda3/envs/venv-sa/lib/python3.9/site-packages (from requests->transformers) (3.4)\n",
      "Requirement already satisfied: urllib3<1.27,>=1.21.1 in /Users/monusingh/opt/miniconda3/envs/venv-sa/lib/python3.9/site-packages (from requests->transformers) (1.26.13)\n",
      "Requirement already satisfied: charset-normalizer<3,>=2 in /Users/monusingh/opt/miniconda3/envs/venv-sa/lib/python3.9/site-packages (from requests->transformers) (2.1.1)\n",
      "Requirement already satisfied: certifi>=2017.4.17 in /Users/monusingh/opt/miniconda3/envs/venv-sa/lib/python3.9/site-packages (from requests->transformers) (2022.9.24)\n",
      "Requirement already satisfied: emoji==0.6.0 in /Users/monusingh/opt/miniconda3/envs/venv-sa/lib/python3.9/site-packages (0.6.0)\n"
     ]
    }
   ],
   "source": [
    "!pip install transformers torch\n",
    "!pip install emoji==0.6.0\n",
    "\n",
    "from transformers import pipeline\n",
    "\n",
    "pinstall = pipeline(model=\"finiteautomata/bertweet-base-sentiment-analysis\")"
   ]
  },
  {
   "cell_type": "code",
   "execution_count": null,
   "id": "c6c91c74",
   "metadata": {},
   "outputs": [],
   "source": []
  }
 ],
 "metadata": {
  "kernelspec": {
   "display_name": "Python 3.9.12 ('venv-sa')",
   "language": "python",
   "name": "python3"
  },
  "language_info": {
   "codemirror_mode": {
    "name": "ipython",
    "version": 3
   },
   "file_extension": ".py",
   "mimetype": "text/x-python",
   "name": "python",
   "nbconvert_exporter": "python",
   "pygments_lexer": "ipython3",
   "version": "3.9.12"
  },
  "vscode": {
   "interpreter": {
    "hash": "58a1f3beba581acd4c6632f9dd5e6882a57b8a8b62de6d2794a3b7b45c88866b"
   }
  }
 },
 "nbformat": 4,
 "nbformat_minor": 5
}
